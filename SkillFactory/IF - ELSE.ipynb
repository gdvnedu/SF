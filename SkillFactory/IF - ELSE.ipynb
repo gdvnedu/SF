{
 "cells": [
  {
   "cell_type": "code",
   "execution_count": 4,
   "metadata": {},
   "outputs": [
    {
     "name": "stdout",
     "output_type": "stream",
     "text": [
      "Квадратный корень из 168 - не целое число\n"
     ]
    }
   ],
   "source": [
    "number = 168\n",
    "x = number ** (1/2)\n",
    "if x % int(x) == 0:\n",
    "    print(int(x))\n",
    "else :\n",
    "    print('Квадратный корень из', number, '- не целое число')"
   ]
  },
  {
   "cell_type": "code",
   "execution_count": 7,
   "metadata": {},
   "outputs": [
    {
     "name": "stdout",
     "output_type": "stream",
     "text": [
      "пятница\n"
     ]
    }
   ],
   "source": [
    "number = 5\n",
    "if number == 1:\n",
    "    print('понедельник')\n",
    "elif number == 2:\n",
    "    print('вторник')\n",
    "elif number == 3:\n",
    "    print('среда')\n",
    "elif number == 4:\n",
    "    print('четверг')\n",
    "elif number == 5:\n",
    "    print('пятница')\n",
    "elif number == 6:\n",
    "    print('суббота')\n",
    "else:\n",
    "    print('воскресенье')"
   ]
  },
  {
   "cell_type": "code",
   "execution_count": 13,
   "metadata": {},
   "outputs": [
    {
     "name": "stdout",
     "output_type": "stream",
     "text": [
      "Норма\n"
     ]
    }
   ],
   "source": [
    "weight = 80\n",
    "height=1.8\n",
    "bmi = weight / (height ** 2)\n",
    "if bmi < 18.5:\n",
    "    print('Недостаточная масса тела')\n",
    "elif bmi > 24.99:\n",
    "    print('Избыточная масса тела')\n",
    "else:\n",
    "    print('Норма')"
   ]
  },
  {
   "cell_type": "code",
   "execution_count": null,
   "metadata": {},
   "outputs": [],
   "source": []
  }
 ],
 "metadata": {
  "kernelspec": {
   "display_name": "Python 3",
   "language": "python",
   "name": "python3"
  },
  "language_info": {
   "codemirror_mode": {
    "name": "ipython",
    "version": 3
   },
   "file_extension": ".py",
   "mimetype": "text/x-python",
   "name": "python",
   "nbconvert_exporter": "python",
   "pygments_lexer": "ipython3",
   "version": "3.7.6"
  }
 },
 "nbformat": 4,
 "nbformat_minor": 4
}
