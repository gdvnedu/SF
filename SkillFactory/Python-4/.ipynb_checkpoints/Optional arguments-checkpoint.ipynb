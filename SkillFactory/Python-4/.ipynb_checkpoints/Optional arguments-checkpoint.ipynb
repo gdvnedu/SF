{
 "cells": [
  {
   "cell_type": "code",
   "execution_count": 1,
   "metadata": {},
   "outputs": [
    {
     "name": "stdout",
     "output_type": "stream",
     "text": [
      "Price:  10\n",
      "Soft, sweat, 10, 12\n"
     ]
    }
   ],
   "source": [
    "print(\"Price: \", 10)\n",
    "print(\"Soft\", \"sweat\", 10, 12, sep=\", \")"
   ]
  },
  {
   "cell_type": "code",
   "execution_count": 2,
   "metadata": {},
   "outputs": [
    {
     "name": "stdout",
     "output_type": "stream",
     "text": [
      "Hello, Alice\n",
      "Hello, Bob\n",
      "Hello, Bob\n"
     ]
    }
   ],
   "source": [
    "def hello(name=\"Alice\"):  \n",
    "    print(\"Hello,\", name)  \n",
    "  \n",
    "hello()\n",
    "hello(\"Bob\")\n",
    "hello(name='Bob')"
   ]
  },
  {
   "cell_type": "code",
   "execution_count": 3,
   "metadata": {},
   "outputs": [
    {
     "ename": "SyntaxError",
     "evalue": "non-default argument follows default argument (<ipython-input-3-a1c9dcb05836>, line 4)",
     "output_type": "error",
     "traceback": [
      "\u001b[1;36m  File \u001b[1;32m\"<ipython-input-3-a1c9dcb05836>\"\u001b[1;36m, line \u001b[1;32m4\u001b[0m\n\u001b[1;33m    def say_hello(word='hello', times):\u001b[0m\n\u001b[1;37m                 ^\u001b[0m\n\u001b[1;31mSyntaxError\u001b[0m\u001b[1;31m:\u001b[0m non-default argument follows default argument\n"
     ]
    }
   ],
   "source": [
    "def say_something(word, times=5):  \n",
    "    print(word*times)\n",
    "    \n",
    "def say_hello(word='hello', times):  \n",
    "    print(word*times)"
   ]
  },
  {
   "cell_type": "code",
   "execution_count": 6,
   "metadata": {},
   "outputs": [
    {
     "name": "stdout",
     "output_type": "stream",
     "text": [
      "[10.0, 20.0]\n",
      "[5.0, 10.0]\n",
      "[-5.0, 5.0]\n"
     ]
    }
   ],
   "source": [
    "def normalize(numbers, mean = 0, std = 1):\n",
    "    return list(map(lambda x: (x-mean)/std, numbers))\n",
    "\n",
    "print(normalize([10, 20]))\n",
    "print(normalize([10, 20], std=2))\n",
    "print(normalize([10, 20], mean=15))"
   ]
  },
  {
   "cell_type": "code",
   "execution_count": 7,
   "metadata": {},
   "outputs": [
    {
     "name": "stdout",
     "output_type": "stream",
     "text": [
      "2\n",
      "96\n",
      "720\n"
     ]
    }
   ],
   "source": [
    "def multiply(*args):  \n",
    "    product = 1  \n",
    "    for num in args:  \n",
    "        product *= num  \n",
    "    return product\n",
    "\n",
    "print(multiply(2)) \n",
    "print(multiply(8, 3, 4)) \n",
    "print(multiply(1, 2, 3, 4, 5, 6))  "
   ]
  },
  {
   "cell_type": "code",
   "execution_count": 8,
   "metadata": {},
   "outputs": [
    {
     "name": "stdout",
     "output_type": "stream",
     "text": [
      "21\n"
     ]
    }
   ],
   "source": [
    "def sum_args(*args):\n",
    "    sum = 0\n",
    "    for i in args:\n",
    "        sum += i\n",
    "    return sum\n",
    "    \n",
    "print(sum_args(10, 15, -4))"
   ]
  },
  {
   "cell_type": "code",
   "execution_count": 9,
   "metadata": {},
   "outputs": [
    {
     "name": "stdout",
     "output_type": "stream",
     "text": [
      "school :  skillfactory\n",
      "school :  skillfactory\n",
      "course :  analytics\n",
      "language :  python\n"
     ]
    }
   ],
   "source": [
    "def print_config(**kwargs):  \n",
    "    for key, value in kwargs.items():  \n",
    "        print(key, \": \", value)  \n",
    "  \n",
    "  \n",
    "print_config(school=\"skillfactory\") \n",
    "print_config(school=\"skillfactory\", course=\"analytics\", language=\"python\")  "
   ]
  },
  {
   "cell_type": "code",
   "execution_count": 10,
   "metadata": {},
   "outputs": [
    {
     "name": "stdout",
     "output_type": "stream",
     "text": [
      "verbose mode\n"
     ]
    }
   ],
   "source": [
    "def show_keys(**kwargs):\n",
    "    print(' '.join(kwargs.keys()))\n",
    "\n",
    "show_keys(verbose=True, mode='constant')"
   ]
  },
  {
   "cell_type": "code",
   "execution_count": null,
   "metadata": {},
   "outputs": [],
   "source": [
    "def ideal_function(x, y, *args, p=10, q=20, **kwargs):  \n",
    "    return x*y "
   ]
  }
 ],
 "metadata": {
  "kernelspec": {
   "display_name": "Python 3",
   "language": "python",
   "name": "python3"
  },
  "language_info": {
   "codemirror_mode": {
    "name": "ipython",
    "version": 3
   },
   "file_extension": ".py",
   "mimetype": "text/x-python",
   "name": "python",
   "nbconvert_exporter": "python",
   "pygments_lexer": "ipython3",
   "version": "3.7.6"
  }
 },
 "nbformat": 4,
 "nbformat_minor": 4
}
