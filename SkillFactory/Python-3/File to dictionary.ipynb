{
 "cells": [
  {
   "cell_type": "code",
   "execution_count": 1,
   "metadata": {},
   "outputs": [
    {
     "data": {
      "text/plain": [
       "{'group B': 190, 'group C': 319, 'group A': 89, 'group D': 262, 'group E': 140}"
      ]
     },
     "execution_count": 1,
     "metadata": {},
     "output_type": "execute_result"
    }
   ],
   "source": [
    "students = {}\n",
    "\n",
    "f = open('StudentsPerformance.csv')\n",
    "\n",
    "for line in f:\n",
    "    info = line.split(',')\n",
    "    if info[0] == '\"gender\"':\n",
    "        continue\n",
    "    else:\n",
    "        ethnicity = info[1][1:-1]\n",
    "        if ethnicity in students:\n",
    "            students[ethnicity] += 1\n",
    "        else:\n",
    "            students[ethnicity] = 1\n",
    "            \n",
    "students"
   ]
  },
  {
   "cell_type": "code",
   "execution_count": 2,
   "metadata": {},
   "outputs": [
    {
     "data": {
      "text/plain": [
       "{'group B': {\"bachelor's degree\": 20,\n",
       "  \"master's degree\": 6,\n",
       "  \"associate's degree\": 41,\n",
       "  'some college': 37,\n",
       "  'high school': 48,\n",
       "  'some high school': 38},\n",
       " 'group C': {'some college': 69,\n",
       "  \"associate's degree\": 78,\n",
       "  'some high school': 49,\n",
       "  'high school': 64,\n",
       "  \"master's degree\": 19,\n",
       "  \"bachelor's degree\": 40},\n",
       " 'group A': {\"associate's degree\": 14,\n",
       "  'some college': 18,\n",
       "  \"master's degree\": 3,\n",
       "  'some high school': 24,\n",
       "  \"bachelor's degree\": 12,\n",
       "  'high school': 18},\n",
       " 'group D': {'high school': 44,\n",
       "  \"associate's degree\": 50,\n",
       "  'some college': 67,\n",
       "  \"bachelor's degree\": 28,\n",
       "  \"master's degree\": 23,\n",
       "  'some high school': 50},\n",
       " 'group E': {\"master's degree\": 8,\n",
       "  'some college': 35,\n",
       "  \"associate's degree\": 39,\n",
       "  \"bachelor's degree\": 18,\n",
       "  'some high school': 18,\n",
       "  'high school': 22}}"
      ]
     },
     "execution_count": 2,
     "metadata": {},
     "output_type": "execute_result"
    }
   ],
   "source": [
    "students = {}\n",
    "\n",
    "f = open('StudentsPerformance.csv')\n",
    "\n",
    "for line in f:\n",
    "    info = line.split(',')\n",
    "    if info[0] == '\"gender\"':\n",
    "        continue\n",
    "    else:\n",
    "        ethnicity = info[1][1:-1]\n",
    "        parents = info[2][1:-1]\n",
    "        if ethnicity in students:\n",
    "            if parents in students[ethnicity]:\n",
    "                students[ethnicity][parents] += 1\n",
    "            else:\n",
    "                students[ethnicity][parents] = 1\n",
    "        else:\n",
    "            students[ethnicity] = {}\n",
    "            students[ethnicity][parents] = 1\n",
    "\n",
    "students"
   ]
  },
  {
   "cell_type": "code",
   "execution_count": 5,
   "metadata": {},
   "outputs": [
    {
     "data": {
      "text/plain": [
       "316"
      ]
     },
     "execution_count": 5,
     "metadata": {},
     "output_type": "execute_result"
    }
   ],
   "source": [
    "students = {}\n",
    "\n",
    "f = open('StudentsPerformance.csv')\n",
    "\n",
    "for line in f:\n",
    "    info = line.split(',')\n",
    "    if info[0] == '\"gender\"':\n",
    "        continue\n",
    "    else:\n",
    "        gender = info[0][1:-1]\n",
    "        if gender == 'male':\n",
    "            lunch = info[3][1:-1]\n",
    "            if lunch in students:\n",
    "                students[lunch] += 1\n",
    "            else:\n",
    "                students[lunch] = 1\n",
    "            \n",
    "students['standard']"
   ]
  },
  {
   "cell_type": "code",
   "execution_count": 6,
   "metadata": {},
   "outputs": [
    {
     "data": {
      "text/plain": [
       "174"
      ]
     },
     "execution_count": 6,
     "metadata": {},
     "output_type": "execute_result"
    }
   ],
   "source": [
    "students = {}\n",
    "\n",
    "f = open('StudentsPerformance.csv')\n",
    "\n",
    "for line in f:\n",
    "    info = line.split(',')\n",
    "    if info[0] == '\"gender\"':\n",
    "        continue\n",
    "    else:\n",
    "        gender = info[0][1:-1]\n",
    "        if gender == 'male':\n",
    "            test = info[4][1:-1]\n",
    "            if test in students:\n",
    "                students[test] += 1\n",
    "            else:\n",
    "                students[test] = 1\n",
    "            \n",
    "students['completed']"
   ]
  },
  {
   "cell_type": "code",
   "execution_count": 7,
   "metadata": {},
   "outputs": [
    {
     "data": {
      "text/plain": [
       "36"
      ]
     },
     "execution_count": 7,
     "metadata": {},
     "output_type": "execute_result"
    }
   ],
   "source": [
    "students = {}\n",
    "\n",
    "f = open('StudentsPerformance.csv')\n",
    "\n",
    "for line in f:\n",
    "    info = line.split(',')\n",
    "    if info[0] == '\"gender\"':\n",
    "        continue\n",
    "    else:\n",
    "        gender = info[0][1:-1]\n",
    "        if gender == 'female':\n",
    "            parents = info[2][1:-1]\n",
    "            if parents in students:\n",
    "                students[parents] += 1\n",
    "            else:\n",
    "                students[parents] = 1\n",
    "            \n",
    "students[\"master's degree\"]"
   ]
  },
  {
   "cell_type": "code",
   "execution_count": 11,
   "metadata": {},
   "outputs": [
    {
     "data": {
      "text/plain": [
       "117"
      ]
     },
     "execution_count": 11,
     "metadata": {},
     "output_type": "execute_result"
    }
   ],
   "source": [
    "students = {}\n",
    "\n",
    "f = open('StudentsPerformance.csv')\n",
    "\n",
    "for line in f:\n",
    "    info = line.split(',')\n",
    "    if info[0] == '\"gender\"':\n",
    "        continue\n",
    "    else:\n",
    "        group = info[1][1:-1]\n",
    "        if group == 'group C':\n",
    "            course = info[4][1:-1]\n",
    "            if course in students:\n",
    "                students[course] += 1\n",
    "            else:\n",
    "                students[course] = 1\n",
    "            \n",
    "students['completed']"
   ]
  },
  {
   "cell_type": "code",
   "execution_count": 12,
   "metadata": {},
   "outputs": [
    {
     "ename": "TypeError",
     "evalue": "'>' not supported between instances of 'str' and 'int'",
     "output_type": "error",
     "traceback": [
      "\u001b[1;31m---------------------------------------------------------------------------\u001b[0m",
      "\u001b[1;31mTypeError\u001b[0m                                 Traceback (most recent call last)",
      "\u001b[1;32m<ipython-input-12-5e012ad53a15>\u001b[0m in \u001b[0;36m<module>\u001b[1;34m\u001b[0m\n\u001b[0;32m     12\u001b[0m         \u001b[0mparents\u001b[0m \u001b[1;33m=\u001b[0m \u001b[0minfo\u001b[0m\u001b[1;33m[\u001b[0m\u001b[1;36m2\u001b[0m\u001b[1;33m]\u001b[0m\u001b[1;33m[\u001b[0m\u001b[1;36m1\u001b[0m\u001b[1;33m:\u001b[0m\u001b[1;33m-\u001b[0m\u001b[1;36m1\u001b[0m\u001b[1;33m]\u001b[0m\u001b[1;33m\u001b[0m\u001b[1;33m\u001b[0m\u001b[0m\n\u001b[0;32m     13\u001b[0m         \u001b[1;32mif\u001b[0m \u001b[0mgender\u001b[0m \u001b[1;33m==\u001b[0m \u001b[1;34m'female'\u001b[0m \u001b[1;32mand\u001b[0m \u001b[0mparents\u001b[0m \u001b[1;33m==\u001b[0m \u001b[1;34m\"master's degree\"\u001b[0m\u001b[1;33m:\u001b[0m\u001b[1;33m\u001b[0m\u001b[1;33m\u001b[0m\u001b[0m\n\u001b[1;32m---> 14\u001b[1;33m             \u001b[1;32mif\u001b[0m \u001b[0minfo\u001b[0m\u001b[1;33m[\u001b[0m\u001b[1;36m5\u001b[0m\u001b[1;33m]\u001b[0m \u001b[1;33m>\u001b[0m \u001b[1;36m90\u001b[0m\u001b[1;33m:\u001b[0m\u001b[1;33m\u001b[0m\u001b[1;33m\u001b[0m\u001b[0m\n\u001b[0m\u001b[0;32m     15\u001b[0m                 \u001b[0mi\u001b[0m \u001b[1;33m+=\u001b[0m \u001b[1;36m1\u001b[0m\u001b[1;33m\u001b[0m\u001b[1;33m\u001b[0m\u001b[0m\n\u001b[0;32m     16\u001b[0m \u001b[1;33m\u001b[0m\u001b[0m\n",
      "\u001b[1;31mTypeError\u001b[0m: '>' not supported between instances of 'str' and 'int'"
     ]
    }
   ],
   "source": [
    "students = {}\n",
    "\n",
    "f = open('StudentsPerformance.csv')\n",
    "i = 0\n",
    "\n",
    "for line in f:\n",
    "    info = line.split(',')\n",
    "    if info[0] == '\"gender\"':\n",
    "        continue\n",
    "    else:\n",
    "        gender = info[0][1:-1]\n",
    "        parents = info[2][1:-1]\n",
    "        if gender == 'female' and parents == \"master's degree\":\n",
    "            if int(info[5] > 90:\n",
    "                i += 1\n",
    "            \n",
    "print(i)"
   ]
  },
  {
   "cell_type": "code",
   "execution_count": null,
   "metadata": {},
   "outputs": [],
   "source": []
  }
 ],
 "metadata": {
  "kernelspec": {
   "display_name": "Python 3",
   "language": "python",
   "name": "python3"
  },
  "language_info": {
   "codemirror_mode": {
    "name": "ipython",
    "version": 3
   },
   "file_extension": ".py",
   "mimetype": "text/x-python",
   "name": "python",
   "nbconvert_exporter": "python",
   "pygments_lexer": "ipython3",
   "version": "3.7.6"
  }
 },
 "nbformat": 4,
 "nbformat_minor": 4
}
