{
 "cells": [
  {
   "cell_type": "code",
   "execution_count": 1,
   "metadata": {},
   "outputs": [
    {
     "name": "stdout",
     "output_type": "stream",
     "text": [
      "каждый\n",
      "охотник\n",
      "желает\n",
      "знать\n",
      "где\n",
      "сидит\n",
      "фазан\n"
     ]
    }
   ],
   "source": [
    "rainbow_list = 'каждый охотник желает знать где сидит фазан'.split()\n",
    "for word in rainbow_list:\n",
    "    print(word)"
   ]
  },
  {
   "cell_type": "code",
   "execution_count": 2,
   "metadata": {},
   "outputs": [
    {
     "name": "stdout",
     "output_type": "stream",
     "text": [
      "каждый\n",
      "охотник\n",
      "желает\n",
      "знать\n",
      "где\n",
      "сидит\n",
      "фазан\n",
      "красный\n",
      "оранжевый\n",
      "жёлтый\n",
      "зелёный\n",
      "голубой\n",
      "синий\n",
      "фиолетовый\n",
      "каждый красный\n",
      "охотник оранжевый\n",
      "желает жёлтый\n",
      "знать зелёный\n",
      "где голубой\n",
      "сидит синий\n",
      "фазан фиолетовый\n"
     ]
    }
   ],
   "source": [
    "rainbow_dict = {'каждый': 'красный', \n",
    "                'охотник': 'оранжевый', \n",
    "                'желает': 'жёлтый', \n",
    "                'знать': 'зелёный', \n",
    "                'где': 'голубой', \n",
    "                'сидит': 'синий', \n",
    "                'фазан': 'фиолетовый'}\n",
    "\n",
    "# Перебираем ключи\n",
    "for word in rainbow_dict.keys():\n",
    "    print(word)\n",
    "\n",
    "# Перебираем значения\n",
    "for color in rainbow_dict.values():\n",
    "    print(color)\n",
    "\n",
    "# Перебираем пары ключ-значение\n",
    "for word, color in rainbow_dict.items():\n",
    "    print(word, color)"
   ]
  },
  {
   "cell_type": "code",
   "execution_count": 3,
   "metadata": {},
   "outputs": [
    {
     "name": "stdout",
     "output_type": "stream",
     "text": [
      "Вы - самый крутой студент в SkillFactory"
     ]
    }
   ],
   "source": [
    "string = 'Вы - самый крутой студент в SkillFactory'\n",
    "for letter in string:\n",
    "    print(letter, end = '')"
   ]
  },
  {
   "cell_type": "code",
   "execution_count": 4,
   "metadata": {},
   "outputs": [
    {
     "name": "stdout",
     "output_type": "stream",
     "text": [
      "Программист\n"
     ]
    }
   ],
   "source": [
    "proverb = 'Программисты - это устройства, преобразующие кофеин в код.'\n",
    "print(proverb[0:11])"
   ]
  },
  {
   "cell_type": "code",
   "execution_count": 5,
   "metadata": {},
   "outputs": [
    {
     "name": "stdout",
     "output_type": "stream",
     "text": [
      "кофе\n"
     ]
    }
   ],
   "source": [
    "proverb = 'Программисты - это устройства, преобразующие кофеин в код.'\n",
    "print(proverb[-13:-9])"
   ]
  },
  {
   "cell_type": "code",
   "execution_count": 10,
   "metadata": {},
   "outputs": [
    {
     "ename": "TypeError",
     "evalue": "can only concatenate list (not \"str\") to list",
     "output_type": "error",
     "traceback": [
      "\u001b[1;31m---------------------------------------------------------------------------\u001b[0m",
      "\u001b[1;31mTypeError\u001b[0m                                 Traceback (most recent call last)",
      "\u001b[1;32m<ipython-input-10-a46f713f61e3>\u001b[0m in \u001b[0;36m<module>\u001b[1;34m\u001b[0m\n\u001b[0;32m      4\u001b[0m \u001b[1;31m#result = proverb.split(',')[3][:-2]+'о'\u001b[0m\u001b[1;33m\u001b[0m\u001b[1;33m\u001b[0m\u001b[1;33m\u001b[0m\u001b[0m\n\u001b[0;32m      5\u001b[0m \u001b[0mresult\u001b[0m \u001b[1;33m=\u001b[0m \u001b[0mproverb\u001b[0m\u001b[1;33m.\u001b[0m\u001b[0msplit\u001b[0m\u001b[1;33m(\u001b[0m\u001b[1;33m)\u001b[0m\u001b[1;33m[\u001b[0m\u001b[1;36m3\u001b[0m\u001b[1;33m]\u001b[0m\u001b[1;33m[\u001b[0m\u001b[1;33m:\u001b[0m\u001b[1;33m-\u001b[0m\u001b[1;36m2\u001b[0m\u001b[1;33m]\u001b[0m\u001b[1;33m+\u001b[0m\u001b[1;34m'о'\u001b[0m\u001b[1;33m\u001b[0m\u001b[1;33m\u001b[0m\u001b[0m\n\u001b[1;32m----> 6\u001b[1;33m \u001b[0mresult\u001b[0m \u001b[1;33m=\u001b[0m \u001b[0mproverb\u001b[0m\u001b[1;33m[\u001b[0m\u001b[1;36m19\u001b[0m\u001b[1;33m:\u001b[0m\u001b[1;36m29\u001b[0m\u001b[1;33m]\u001b[0m\u001b[1;33m.\u001b[0m\u001b[0msplit\u001b[0m\u001b[1;33m(\u001b[0m\u001b[1;33m)\u001b[0m\u001b[1;33m+\u001b[0m\u001b[1;34m'о'\u001b[0m\u001b[1;33m\u001b[0m\u001b[1;33m\u001b[0m\u001b[0m\n\u001b[0m\u001b[0;32m      7\u001b[0m \u001b[0mprint\u001b[0m\u001b[1;33m(\u001b[0m\u001b[0mresult\u001b[0m\u001b[1;33m)\u001b[0m\u001b[1;33m\u001b[0m\u001b[1;33m\u001b[0m\u001b[0m\n",
      "\u001b[1;31mTypeError\u001b[0m: can only concatenate list (not \"str\") to list"
     ]
    }
   ],
   "source": [
    "proverb = 'Программисты - это устройства, преобразующие кофеин в код.'\n",
    "result = proverb[19:28]+'о'\n",
    "result = proverb[19:28],'о'\n",
    "#result = proverb.split(',')[3][:-2]+'о'\n",
    "result = proverb.split()[3][:-2]+'о'\n",
    "#result = proverb[19:29].split()+'о'\n",
    "print(result)"
   ]
  },
  {
   "cell_type": "code",
   "execution_count": 13,
   "metadata": {},
   "outputs": [
    {
     "name": "stdout",
     "output_type": "stream",
     "text": [
      "Программисты - это устройства, преобразующие кофеин в код.\n"
     ]
    }
   ],
   "source": [
    "proverb = 'Программисты - это устройства, преобразующие кофеин в код.'\n",
    "new_proverb = ''\n",
    "\n",
    "for i, letter in enumerate(proverb):\n",
    "    if i % 2 != 0:\n",
    "        new_proverb += proverb[i-1]\n",
    "        new_proverb += proverb[i]        \n",
    "        \n",
    "print(new_proverb)    "
   ]
  },
  {
   "cell_type": "code",
   "execution_count": null,
   "metadata": {},
   "outputs": [],
   "source": []
  }
 ],
 "metadata": {
  "kernelspec": {
   "display_name": "Python 3",
   "language": "python",
   "name": "python3"
  },
  "language_info": {
   "codemirror_mode": {
    "name": "ipython",
    "version": 3
   },
   "file_extension": ".py",
   "mimetype": "text/x-python",
   "name": "python",
   "nbconvert_exporter": "python",
   "pygments_lexer": "ipython3",
   "version": "3.7.6"
  }
 },
 "nbformat": 4,
 "nbformat_minor": 4
}
