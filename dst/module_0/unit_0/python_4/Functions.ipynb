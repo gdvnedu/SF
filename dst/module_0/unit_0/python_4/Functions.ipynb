{
 "cells": [
  {
   "cell_type": "code",
   "execution_count": 1,
   "metadata": {},
   "outputs": [
    {
     "name": "stdout",
     "output_type": "stream",
     "text": [
      "25\n"
     ]
    }
   ],
   "source": [
    "def square(x):    \n",
    "    return x**2\n",
    "square_result = square(5)\n",
    "print(square_result)"
   ]
  },
  {
   "cell_type": "code",
   "execution_count": 2,
   "metadata": {},
   "outputs": [
    {
     "name": "stdout",
     "output_type": "stream",
     "text": [
      "60\n"
     ]
    }
   ],
   "source": [
    "def count_cost(product):    \n",
    "    if product == \"apple\":    \n",
    "        cost = 30    \n",
    "    else:    \n",
    "        cost = 60    \n",
    "    return cost \n",
    "orange_cost = count_cost(\"orange\") \n",
    "print(orange_cost)"
   ]
  },
  {
   "cell_type": "code",
   "execution_count": 3,
   "metadata": {},
   "outputs": [
    {
     "name": "stdout",
     "output_type": "stream",
     "text": [
      "115\n"
     ]
    }
   ],
   "source": [
    "# Дополните аргументы и код функции\n",
    "def sum_2(x, y):\n",
    "    result = x + y\n",
    "    return result\n",
    "\n",
    "# Передайте аргументы 42 и 73 в функцию\n",
    "print(sum_2(42, 73))"
   ]
  },
  {
   "cell_type": "code",
   "execution_count": 4,
   "metadata": {},
   "outputs": [
    {
     "name": "stdout",
     "output_type": "stream",
     "text": [
      "1000\n"
     ]
    }
   ],
   "source": [
    "def power(x, y):\n",
    "    result = x ** y\n",
    "    return result\n",
    "\n",
    "print(power(10, 3))"
   ]
  },
  {
   "cell_type": "code",
   "execution_count": 12,
   "metadata": {},
   "outputs": [
    {
     "name": "stdout",
     "output_type": "stream",
     "text": [
      "3\n",
      "5.0\n",
      "22\n"
     ]
    }
   ],
   "source": [
    "def get_median(list):\n",
    "    if len(list) % 2 == 0:\n",
    "        list.sort()\n",
    "        i = int(len(list) / 2)\n",
    "        j = i - 1\n",
    "        result = (list[i] + list[j]) / 2\n",
    "    else:\n",
    "        list.sort()\n",
    "        x = int((len(list) - 1) / 2)\n",
    "        result = list[x]\n",
    "    return result\n",
    "    \n",
    "print(get_median([5, 2, 1, 3, 4]))\n",
    "print(get_median([3, 3, 7, 9]))\n",
    "print(get_median([10, 16, 22, 23, 24]))"
   ]
  },
  {
   "cell_type": "code",
   "execution_count": 13,
   "metadata": {},
   "outputs": [
    {
     "name": "stdout",
     "output_type": "stream",
     "text": [
      "29.0\n"
     ]
    }
   ],
   "source": [
    "user_db = [{'orders': 12}, {'orders': 30}, {'orders': 45}]\n",
    "\n",
    "def avg_orders(user_db):\n",
    "    order_sum = sum([user['orders'] for user in user_db])\n",
    "    orders_per_user = order_sum/len(user_db)\n",
    "    return orders_per_user\n",
    "\n",
    "print(avg_orders(user_db))"
   ]
  },
  {
   "cell_type": "code",
   "execution_count": 17,
   "metadata": {},
   "outputs": [
    {
     "name": "stdout",
     "output_type": "stream",
     "text": [
      "€4.16\n"
     ]
    }
   ],
   "source": [
    "from random import random\n",
    "\n",
    "# добавьте функцию get_euro_rate\n",
    "def get_euro_rate():\n",
    "    x = random()\n",
    "    rate = 65 + x * 20\n",
    "    return rate\n",
    "\n",
    "# используйте get_euro_rate в следующей функции\n",
    "def to_euro(price):  \n",
    "    exchange_rate = get_euro_rate() \n",
    "    rounded = round(price/exchange_rate, 2)  \n",
    "    return '€' + str(rounded)\n",
    "\n",
    "print(to_euro(350))"
   ]
  },
  {
   "cell_type": "code",
   "execution_count": null,
   "metadata": {},
   "outputs": [],
   "source": []
  }
 ],
 "metadata": {
  "kernelspec": {
   "display_name": "Python 3",
   "language": "python",
   "name": "python3"
  },
  "language_info": {
   "codemirror_mode": {
    "name": "ipython",
    "version": 3
   },
   "file_extension": ".py",
   "mimetype": "text/x-python",
   "name": "python",
   "nbconvert_exporter": "python",
   "pygments_lexer": "ipython3",
   "version": "3.7.6"
  }
 },
 "nbformat": 4,
 "nbformat_minor": 4
}
