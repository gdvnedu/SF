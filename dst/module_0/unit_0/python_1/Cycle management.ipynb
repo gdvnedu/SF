{
 "cells": [
  {
   "cell_type": "code",
   "execution_count": 1,
   "metadata": {},
   "outputs": [
    {
     "name": "stdout",
     "output_type": "stream",
     "text": [
      "4\n"
     ]
    }
   ],
   "source": [
    "num_1 = 1812\n",
    "num_2 = 2500\n",
    "x = 0\n",
    "if num_1 < num_2:\n",
    "    num = num_1\n",
    "else:\n",
    "    num = num_2\n",
    "for i in range(num, 1, -1):\n",
    "    if num_1 % i == 0 and num_2 % i == 0:\n",
    "        print(i)\n",
    "        break\n",
    "else:\n",
    "    print('Общих делителей не найдено')"
   ]
  },
  {
   "cell_type": "code",
   "execution_count": 2,
   "metadata": {},
   "outputs": [
    {
     "name": "stdout",
     "output_type": "stream",
     "text": [
      "стркция"
     ]
    }
   ],
   "source": [
    "string = 'абстракция'\n",
    "for i, letter in enumerate(string):\n",
    "    if letter == 'а' or letter == 'б' or letter == 'в':\n",
    "        continue\n",
    "    print(letter, end='')"
   ]
  },
  {
   "cell_type": "code",
   "execution_count": 3,
   "metadata": {},
   "outputs": [
    {
     "name": "stdout",
     "output_type": "stream",
     "text": [
      "Увы, это неправильный ответ\n",
      "Увы, это неправильный ответ\n",
      "Увы, это неправильный ответ\n",
      "Увы, это неправильный ответ\n",
      "Увы, это неправильный ответ\n",
      "Это безнадёжно!\n"
     ]
    }
   ],
   "source": [
    "string = 'Нет'\n",
    "for i in range(5):\n",
    "    if string == '':\n",
    "        print('Это отлично!')\n",
    "        break\n",
    "    else:\n",
    "        print('Увы, это неправильный ответ')\n",
    "else:\n",
    "    print('Это безнадёжно!')"
   ]
  },
  {
   "cell_type": "code",
   "execution_count": 5,
   "metadata": {},
   "outputs": [
    {
     "name": "stdout",
     "output_type": "stream",
     "text": [
      "Не является простым\n"
     ]
    }
   ],
   "source": [
    "number = 175\n",
    "for i in range(2, number):\n",
    "    if number % i == 0:\n",
    "        print('Не является простым')\n",
    "        break\n",
    "else:\n",
    "    print('Простое')"
   ]
  },
  {
   "cell_type": "code",
   "execution_count": 7,
   "metadata": {},
   "outputs": [
    {
     "name": "stdout",
     "output_type": "stream",
     "text": [
      "Какая хорошая строка!\n"
     ]
    }
   ],
   "source": [
    "string = 'прелестная строка'\n",
    "vowels = 'уеыаоэяию'\n",
    "for i, letter in enumerate(string):\n",
    "    if i %2 == 0 and letter in vowels:\n",
    "        print('Строка мне не нравится!')\n",
    "        break\n",
    "else:\n",
    "    print('Какая хорошая строка!')"
   ]
  },
  {
   "cell_type": "code",
   "execution_count": null,
   "metadata": {},
   "outputs": [],
   "source": []
  }
 ],
 "metadata": {
  "kernelspec": {
   "display_name": "Python 3",
   "language": "python",
   "name": "python3"
  },
  "language_info": {
   "codemirror_mode": {
    "name": "ipython",
    "version": 3
   },
   "file_extension": ".py",
   "mimetype": "text/x-python",
   "name": "python",
   "nbconvert_exporter": "python",
   "pygments_lexer": "ipython3",
   "version": "3.7.6"
  }
 },
 "nbformat": 4,
 "nbformat_minor": 4
}
