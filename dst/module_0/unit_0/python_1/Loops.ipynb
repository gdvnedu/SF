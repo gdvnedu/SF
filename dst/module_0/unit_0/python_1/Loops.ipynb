{
 "cells": [
  {
   "cell_type": "code",
   "execution_count": 2,
   "metadata": {},
   "outputs": [
    {
     "name": "stdout",
     "output_type": "stream",
     "text": [
      "п\n",
      "д\n",
      "и\n",
      "н\n",
      "к\n"
     ]
    }
   ],
   "source": [
    "word = 'подшипник'\n",
    "for i, letter in enumerate(word):\n",
    "    if i % 2 == 0:\n",
    "        print(letter)"
   ]
  },
  {
   "cell_type": "code",
   "execution_count": 4,
   "metadata": {},
   "outputs": [
    {
     "name": "stdout",
     "output_type": "stream",
     "text": [
      "2013 год невисокосный\n",
      "2014 год невисокосный\n",
      "2015 год невисокосный\n",
      "2016 год високосный\n",
      "2017 год невисокосный\n",
      "2018 год невисокосный\n",
      "2019 год невисокосный\n",
      "2020 год високосный\n"
     ]
    }
   ],
   "source": [
    "year_1 = 2013\n",
    "year_2 = 2020\n",
    "for year in range(year_1, year_2+1):\n",
    "    if year % 4 == 0:\n",
    "        print(year,'год високосный')\n",
    "    else:\n",
    "        print(year,'год невисокосный')\n"
   ]
  },
  {
   "cell_type": "code",
   "execution_count": 5,
   "metadata": {},
   "outputs": [
    {
     "name": "stdout",
     "output_type": "stream",
     "text": [
      "и\n",
      "у\n",
      "а\n",
      "и\n",
      "а\n"
     ]
    }
   ],
   "source": [
    "word = 'Зимушка-зима'\n",
    "vowels = 'уеыаоэяию'\n",
    "for i, letter in enumerate(word):\n",
    "    if letter in vowels:\n",
    "        print(letter)"
   ]
  },
  {
   "cell_type": "code",
   "execution_count": 6,
   "metadata": {},
   "outputs": [
    {
     "name": "stdout",
     "output_type": "stream",
     "text": [
      "Буква 1 в этом имени - С\n",
      "Буква 2 в этом имени - е\n",
      "Буква 3 в этом имени - р\n",
      "Буква 4 в этом имени - г\n",
      "Буква 5 в этом имени - е\n",
      "Буква 6 в этом имени - й\n"
     ]
    }
   ],
   "source": [
    "name = 'Сергей'\n",
    "for i, letter in enumerate(name):\n",
    "    print('Буква', i+1, 'в этом имени -', letter)"
   ]
  },
  {
   "cell_type": "code",
   "execution_count": 8,
   "metadata": {},
   "outputs": [
    {
     "name": "stdout",
     "output_type": "stream",
     "text": [
      "25\n",
      "27\n",
      "33\n",
      "35\n",
      "39\n",
      "45\n"
     ]
    }
   ],
   "source": [
    "num_1 = 25\n",
    "num_2 = 45\n",
    "if num_1 > num_2 or num_1 < 0:\n",
    "    print('Введён неверный диапазон чисел')\n",
    "else:\n",
    "    for i in range(num_1, num_2 + 1):\n",
    "        if i % 2 != 0 and (i % 3 == 0 or i % 5 == 0):\n",
    "            print(i)"
   ]
  },
  {
   "cell_type": "code",
   "execution_count": 9,
   "metadata": {},
   "outputs": [
    {
     "name": "stdout",
     "output_type": "stream",
     "text": [
      "1 1 1\n",
      "2 4 8\n",
      "3 9 27\n",
      "4 16 64\n",
      "5 25 125\n",
      "6 36 216\n",
      "7 49 343\n",
      "8 64 512\n",
      "9 81 729\n",
      "10 100 1000\n"
     ]
    }
   ],
   "source": [
    "for i in range(1, 11):\n",
    "    print(i, i**2, i**3)"
   ]
  },
  {
   "cell_type": "code",
   "execution_count": 11,
   "metadata": {},
   "outputs": [
    {
     "name": "stdout",
     "output_type": "stream",
     "text": [
      "1\n",
      "2\n",
      "3\n",
      "4\n",
      "6\n",
      "7\n",
      "12\n",
      "14\n",
      "21\n",
      "28\n",
      "42\n",
      "84\n"
     ]
    }
   ],
   "source": [
    "number = 84\n",
    "for i in range(1, number + 1):\n",
    "    if number % i == 0:\n",
    "        print(i)"
   ]
  },
  {
   "cell_type": "code",
   "execution_count": 12,
   "metadata": {},
   "outputs": [
    {
     "name": "stdout",
     "output_type": "stream",
     "text": [
      "2\n"
     ]
    }
   ],
   "source": [
    "num_1 = 12\n",
    "num_2 = 38\n",
    "if num_1 < num_2:\n",
    "    num = num_1\n",
    "else:\n",
    "    num = num_2\n",
    "for i in range(2, num+1):\n",
    "    if num_1 % i == 0 and num_2 % i == 0:\n",
    "        print(i)"
   ]
  },
  {
   "cell_type": "code",
   "execution_count": 27,
   "metadata": {},
   "outputs": [
    {
     "name": "stdout",
     "output_type": "stream",
     "text": [
      "2\n"
     ]
    }
   ],
   "source": [
    "n = 3\n",
    "x = 1\n",
    "y = 1\n",
    "z = 1\n",
    "if n == 1 or n == 2:\n",
    "    print(1)\n",
    "else :\n",
    "    for i in range(3, n+1):\n",
    "        x = z\n",
    "        z = x + y\n",
    "        y = x        \n",
    "    print(z)\n",
    "            "
   ]
  },
  {
   "cell_type": "code",
   "execution_count": 28,
   "metadata": {},
   "outputs": [
    {
     "name": "stdout",
     "output_type": "stream",
     "text": [
      "15 X 1 = 15\n",
      "15 X 2 = 30\n",
      "15 X 3 = 45\n",
      "15 X 4 = 60\n",
      "15 X 5 = 75\n",
      "15 X 6 = 90\n",
      "15 X 7 = 105\n",
      "15 X 8 = 120\n",
      "15 X 9 = 135\n",
      "15 X 10 = 150\n"
     ]
    }
   ],
   "source": [
    "number = 15\n",
    "for i in range (1, 11):\n",
    "    print(number, 'X', i, '=', number * i)"
   ]
  },
  {
   "cell_type": "code",
   "execution_count": null,
   "metadata": {},
   "outputs": [],
   "source": []
  }
 ],
 "metadata": {
  "kernelspec": {
   "display_name": "Python 3",
   "language": "python",
   "name": "python3"
  },
  "language_info": {
   "codemirror_mode": {
    "name": "ipython",
    "version": 3
   },
   "file_extension": ".py",
   "mimetype": "text/x-python",
   "name": "python",
   "nbconvert_exporter": "python",
   "pygments_lexer": "ipython3",
   "version": "3.7.6"
  }
 },
 "nbformat": 4,
 "nbformat_minor": 4
}
