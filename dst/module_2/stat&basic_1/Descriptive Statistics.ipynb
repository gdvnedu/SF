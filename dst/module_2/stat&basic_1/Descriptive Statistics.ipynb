{
 "cells": [
  {
   "cell_type": "code",
   "execution_count": 2,
   "metadata": {},
   "outputs": [
    {
     "name": "stdout",
     "output_type": "stream",
     "text": [
      "12.5\n"
     ]
    }
   ],
   "source": [
    "import pandas as pd\n",
    "\n",
    "df = pd.DataFrame({\n",
    "    'men': [80.2, 80.8, 57.5, 98, 50.5, 73.8, 77.4, 59.7, 77.9, 52.6],\n",
    "    'women': [57.9, 57.3, 72.8, 48.2, 59.5, 48.3, 61.2, 53.9, 53.9, 70.7]\n",
    "})\n",
    "\n",
    "m = df.men.mean()\n",
    "w = df.women.mean()\n",
    "\n",
    "print(round(m-w, 1))"
   ]
  },
  {
   "cell_type": "code",
   "execution_count": 3,
   "metadata": {},
   "outputs": [
    {
     "name": "stdout",
     "output_type": "stream",
     "text": [
      "3.5\n",
      "1.5\n"
     ]
    }
   ],
   "source": [
    "df1 = pd.Series([2,7,4,3,6,4,1,2])\n",
    "df2 = pd.Series([5,2,4,8,1,6,7])\n",
    "\n",
    "m1 = df1.median()\n",
    "m2 = df2.median()\n",
    "\n",
    "print(m1)\n",
    "print(m2-m1)"
   ]
  },
  {
   "cell_type": "code",
   "execution_count": 4,
   "metadata": {},
   "outputs": [
    {
     "name": "stdout",
     "output_type": "stream",
     "text": [
      "75.6\n",
      "57.599999999999994\n",
      "59.6\n"
     ]
    }
   ],
   "source": [
    "df = pd.DataFrame({\n",
    "    'men': [80.2, 80.8, 57.5, 98, 50.5, 73.8, 77.4, 59.7, 77.9, 52.6],\n",
    "    'women': [57.9, 57.3, 72.8, 48.2, 59.5, 48.3, 61.2, 53.9, 53.9, 70.7]\n",
    "})\n",
    "\n",
    "mm = df.men.median()\n",
    "mw = df.women.median()\n",
    "\n",
    "patients = df.men.append(df.women)\n",
    "mp = patients.median()\n",
    "\n",
    "print(mm)\n",
    "print(mw)\n",
    "print(mp)\n"
   ]
  },
  {
   "cell_type": "code",
   "execution_count": 5,
   "metadata": {},
   "outputs": [
    {
     "data": {
      "text/plain": [
       "men      79.1\n",
       "women    60.4\n",
       "Name: 0.75, dtype: float64"
      ]
     },
     "execution_count": 5,
     "metadata": {},
     "output_type": "execute_result"
    }
   ],
   "source": [
    "df = pd.DataFrame({\n",
    "    'men': [80.2, 80.8, 57.5, 98, 50.5, 73.8, 77.4, 59.7, 77.9, 52.6],\n",
    "    'women': [57.9, 57.3, 72.8, 48.2, 59.5, 48.3, 61.2, 53.9, 53.9, 70.7]\n",
    "})\n",
    "\n",
    "round(df.quantile(q=0.75, axis=0, numeric_only=True, interpolation='midpoint'),1)"
   ]
  },
  {
   "cell_type": "code",
   "execution_count": 10,
   "metadata": {},
   "outputs": [
    {
     "name": "stdout",
     "output_type": "stream",
     "text": [
      "men's range = 47.5\n",
      "men's IRQ = 20.45000000000001\n",
      "women's range = 24.599999999999994\n",
      "women's IRQ = 6.450000000000003\n"
     ]
    }
   ],
   "source": [
    "df = pd.DataFrame({\n",
    "    'men': [80.2, 80.8, 57.5, 98, 50.5, 73.8, 77.4, 59.7, 77.9, 52.6],\n",
    "    'women': [57.9, 57.3, 72.8, 48.2, 59.5, 48.3, 61.2, 53.9, 53.9, 70.7]\n",
    "})\n",
    "\n",
    "m_min = df['men'].min()\n",
    "m_max = df['men'].max()\n",
    "m_range = m_max - m_min\n",
    "print('men\\'s range = ' + str(m_range))\n",
    "\n",
    "m_iqr = df.quantile(q=0.75, axis=0, numeric_only=True, interpolation='midpoint').men - df.quantile(q=0.25, axis=0, numeric_only=True, interpolation='midpoint').men\n",
    "print('men\\'s IRQ = ' + str(m_iqr))\n",
    "\n",
    "w_min = df['women'].min()\n",
    "w_max = df['women'].max()\n",
    "w_range = w_max - w_min\n",
    "print('women\\'s range = ' + str(w_range))\n",
    "\n",
    "w_iqr = df.quantile(q=0.75, axis=0, numeric_only=True, interpolation='midpoint').women - df.quantile(q=0.25, axis=0, numeric_only=True, interpolation='midpoint').women\n",
    "print('women\\'s IRQ = ' + str(w_iqr))"
   ]
  },
  {
   "cell_type": "code",
   "execution_count": 13,
   "metadata": {},
   "outputs": [
    {
     "name": "stdout",
     "output_type": "stream",
     "text": [
      "15.2\n",
      "230.5\n",
      "8.3\n",
      "68.4\n"
     ]
    }
   ],
   "source": [
    "df = pd.DataFrame({\n",
    "    'men': [80.2, 80.8, 57.5, 98, 50.5, 73.8, 77.4, 59.7, 77.9, 52.6],\n",
    "    'women': [57.9, 57.3, 72.8, 48.2, 59.5, 48.3, 61.2, 53.9, 53.9, 70.7]\n",
    "})\n",
    "\n",
    "m_std = df['men'].std()\n",
    "m_var = df['men'].var()\n",
    "w_std = df['women'].std()\n",
    "w_var = df['women'].var()\n",
    "\n",
    "print(round(m_std, 1))\n",
    "print(round(m_var, 1))\n",
    "print(round(w_std, 1))\n",
    "print(round(w_var, 1))"
   ]
  },
  {
   "cell_type": "code",
   "execution_count": 17,
   "metadata": {},
   "outputs": [
    {
     "name": "stdout",
     "output_type": "stream",
     "text": [
      "72.8\n",
      "70.7\n"
     ]
    }
   ],
   "source": [
    "df = pd.DataFrame({\n",
    "    'men': [80.2, 80.8, 57.5, 98, 50.5, 73.8, 77.4, 59.7, 77.9, 52.6],\n",
    "    'women': [57.9, 57.3, 72.8, 48.2, 59.5, 48.3, 61.2, 53.9, 53.9, 70.7]\n",
    "})\n",
    "\n",
    "m_q1 = df.quantile(q=0.25, axis=0, numeric_only=True, interpolation='midpoint').men\n",
    "m_q3 = df.quantile(q=0.75, axis=0, numeric_only=True, interpolation='midpoint').men\n",
    "m_iqr = m_q3 - m_q1\n",
    "\n",
    "for w in df['men']:\n",
    "    if w < (m_q1 - 1.5*m_iqr):\n",
    "        print(w)\n",
    "    if w > (m_q3 + 1.5*m_iqr):\n",
    "        print(w)\n",
    "        \n",
    "w_q1 = df.quantile(q=0.25, axis=0, numeric_only=True, interpolation='midpoint').women\n",
    "w_q3 = df.quantile(q=0.75, axis=0, numeric_only=True, interpolation='midpoint').women\n",
    "w_iqr = w_q3 - w_q1\n",
    "\n",
    "for w in df['women']:\n",
    "    if w < (w_q1 - 1.5*w_iqr):\n",
    "        print(w)\n",
    "    if w > (w_q3 + 1.5*w_iqr):\n",
    "        print(w)"
   ]
  },
  {
   "cell_type": "code",
   "execution_count": 24,
   "metadata": {},
   "outputs": [
    {
     "name": "stdout",
     "output_type": "stream",
     "text": [
      "8    2015\n",
      "Name: year, dtype: int64 -12.1\n",
      "mean - -6.1\n",
      "median - -6.0\n",
      "std - 2.3\n",
      "var - 5.3\n",
      "t_range - 9.0\n",
      "t_iqr - 1.9\n"
     ]
    }
   ],
   "source": [
    "df = pd.DataFrame({\n",
    "    'year': [2007, 2008, 2009, 2010, 2011, 2012, 2013, 2014, 2015, 2016, 2017, 2018],\n",
    "    'temp': [-4.7, -6.1, -5.5, -3.3, -7.1, -3.1, -5.2, -7.3, -12.1, -6.6, -5.9, -6.3]\n",
    "})\n",
    "\n",
    "mean = df['temp'].mean()\n",
    "median = df['temp'].median()\n",
    "std = df['temp'].std()\n",
    "var = df['temp'].var()\n",
    "t_min = df['temp'].min()\n",
    "t_max = df['temp'].max()\n",
    "t_range = t_max - t_min\n",
    "t_q1 = df.quantile(q=0.25, axis=0, numeric_only=True, interpolation='midpoint').temp\n",
    "t_q3 = df.quantile(q=0.75, axis=0, numeric_only=True, interpolation='midpoint').temp\n",
    "t_iqr = t_q3 - t_q1\n",
    "\n",
    "for t in df['temp']:\n",
    "    if t < (t_q1 - 1.5*t_iqr):\n",
    "        print(df[df.temp == t].year, t)\n",
    "    if t > (t_q3 + 1.5*t_iqr):\n",
    "        print(df[df.temp == t].year, t)\n",
    "\n",
    "print('mean -', round(mean, 1))\n",
    "print('median -', round(median, 1))\n",
    "print('std -', round(std, 1))\n",
    "print('var -', round(var, 1))\n",
    "print('t_range -', round(t_range, 1))\n",
    "print('t_iqr -', round(t_iqr, 1))"
   ]
  },
  {
   "cell_type": "code",
   "execution_count": 25,
   "metadata": {},
   "outputs": [
    {
     "data": {
      "image/png": "[encoded data removed]",
      "text/plain": [
       "<Figure size 432x288 with 1 Axes>"
      ]
     },
     "metadata": {
      "needs_background": "light"
     },
     "output_type": "display_data"
    }
   ],
   "source": [
    "df = pd.DataFrame({\n",
    "    'city_a': [240, 440, 455, 475, 475, 490, 490, 500, 500, 500, 530, 550, 578, 580, 620, 687, 694, 703, 859],\n",
    "    'city_b': [500, 564, 590, 600, 600, 600, 645, 650, 660, 667, 689, 692, 700, 700, 705, 735, 760, 764, 805]\n",
    "})\n",
    "\n",
    "boxplot = df.boxplot(column=['city_a', 'city_b'])"
   ]
  },
  {
   "cell_type": "code",
   "execution_count": null,
   "metadata": {},
   "outputs": [],
   "source": []
  }
 ],
 "metadata": {
  "kernelspec": {
   "display_name": "Python 3",
   "language": "python",
   "name": "python3"
  },
  "language_info": {
   "codemirror_mode": {
    "name": "ipython",
    "version": 3
   },
   "file_extension": ".py",
   "mimetype": "text/x-python",
   "name": "python",
   "nbconvert_exporter": "python",
   "pygments_lexer": "ipython3",
   "version": "3.7.6"
  }
 },
 "nbformat": 4,
 "nbformat_minor": 4
}
