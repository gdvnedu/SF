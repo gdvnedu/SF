{
 "cells": [
  {
   "cell_type": "code",
   "execution_count": 83,
   "metadata": {},
   "outputs": [],
   "source": [
    "import numpy as np"
   ]
  },
  {
   "cell_type": "code",
   "execution_count": 84,
   "metadata": {},
   "outputs": [],
   "source": [
    "arr1 = np.array([1,2,3,4])"
   ]
  },
  {
   "cell_type": "code",
   "execution_count": 85,
   "metadata": {},
   "outputs": [
    {
     "data": {
      "text/plain": [
       "dtype('float64')"
      ]
     },
     "execution_count": 85,
     "metadata": {},
     "output_type": "execute_result"
    }
   ],
   "source": [
    "arr2 = np.array([5,6,7,8], dtype = float)\n",
    "arr2.dtype"
   ]
  },
  {
   "cell_type": "code",
   "execution_count": 86,
   "metadata": {},
   "outputs": [
    {
     "data": {
      "text/plain": [
       "(3, 3)"
      ]
     },
     "execution_count": 86,
     "metadata": {},
     "output_type": "execute_result"
    }
   ],
   "source": [
    "arr3 = np.array([[1,2,3],[4,5,6],[7,8,9]])\n",
    "np.shape(arr3)"
   ]
  },
  {
   "cell_type": "code",
   "execution_count": 87,
   "metadata": {},
   "outputs": [
    {
     "data": {
      "text/plain": [
       "numpy.ndarray"
      ]
     },
     "execution_count": 87,
     "metadata": {},
     "output_type": "execute_result"
    }
   ],
   "source": [
    "import pandas as pd\n",
    "\n",
    "df = pd.DataFrame()\n",
    "x = df.values\n",
    "type(x)"
   ]
  },
  {
   "cell_type": "code",
   "execution_count": 88,
   "metadata": {},
   "outputs": [
    {
     "data": {
      "text/plain": [
       "array([ 5,  6,  7,  8,  9, 10], dtype=int64)"
      ]
     },
     "execution_count": 88,
     "metadata": {},
     "output_type": "execute_result"
    }
   ],
   "source": [
    "my_series = pd.Series([5, 6, 7, 8, 9, 10])\n",
    "my_series.values"
   ]
  },
  {
   "cell_type": "code",
   "execution_count": 89,
   "metadata": {},
   "outputs": [
    {
     "data": {
      "text/plain": [
       "array([14., 10.,  6., 56., 40.])"
      ]
     },
     "execution_count": 89,
     "metadata": {},
     "output_type": "execute_result"
    }
   ],
   "source": [
    "np.empty(5)"
   ]
  },
  {
   "cell_type": "code",
   "execution_count": 90,
   "metadata": {},
   "outputs": [
    {
     "data": {
      "text/plain": [
       "array([[0., 0., 0., 0., 0., 0., 0.],\n",
       "       [0., 0., 0., 0., 0., 0., 0.],\n",
       "       [0., 0., 0., 0., 0., 0., 0.],\n",
       "       [0., 0., 0., 0., 0., 0., 0.],\n",
       "       [0., 0., 0., 0., 0., 0., 0.],\n",
       "       [0., 0., 0., 0., 0., 0., 0.],\n",
       "       [0., 0., 0., 0., 0., 0., 0.],\n",
       "       [0., 0., 0., 0., 0., 0., 0.],\n",
       "       [0., 0., 0., 0., 0., 0., 0.],\n",
       "       [0., 0., 0., 0., 0., 0., 0.]])"
      ]
     },
     "execution_count": 90,
     "metadata": {},
     "output_type": "execute_result"
    }
   ],
   "source": [
    "np.zeros((10, 7)) "
   ]
  },
  {
   "cell_type": "code",
   "execution_count": 91,
   "metadata": {},
   "outputs": [
    {
     "data": {
      "text/plain": [
       "array([[[1., 1., 1.],\n",
       "        [1., 1., 1.],\n",
       "        [1., 1., 1.]],\n",
       "\n",
       "       [[1., 1., 1.],\n",
       "        [1., 1., 1.],\n",
       "        [1., 1., 1.]],\n",
       "\n",
       "       [[1., 1., 1.],\n",
       "        [1., 1., 1.],\n",
       "        [1., 1., 1.]]])"
      ]
     },
     "execution_count": 91,
     "metadata": {},
     "output_type": "execute_result"
    }
   ],
   "source": [
    "np.ones((3,3,3))"
   ]
  },
  {
   "cell_type": "code",
   "execution_count": 92,
   "metadata": {},
   "outputs": [
    {
     "data": {
      "text/plain": [
       "array([[1., 0., 0.],\n",
       "       [0., 1., 0.],\n",
       "       [0., 0., 1.]])"
      ]
     },
     "execution_count": 92,
     "metadata": {},
     "output_type": "execute_result"
    }
   ],
   "source": [
    "np.eye(3)"
   ]
  },
  {
   "cell_type": "code",
   "execution_count": 93,
   "metadata": {},
   "outputs": [
    {
     "data": {
      "text/plain": [
       "array([[3.14, 3.14, 3.14, 3.14, 3.14],\n",
       "       [3.14, 3.14, 3.14, 3.14, 3.14],\n",
       "       [3.14, 3.14, 3.14, 3.14, 3.14]])"
      ]
     },
     "execution_count": 93,
     "metadata": {},
     "output_type": "execute_result"
    }
   ],
   "source": [
    "np.full((3, 5), 3.14)"
   ]
  },
  {
   "cell_type": "code",
   "execution_count": 94,
   "metadata": {},
   "outputs": [
    {
     "data": {
      "text/plain": [
       "array([ 0,  7, 14])"
      ]
     },
     "execution_count": 94,
     "metadata": {},
     "output_type": "execute_result"
    }
   ],
   "source": [
    "np.arange(0, 21, 7)"
   ]
  },
  {
   "cell_type": "code",
   "execution_count": 95,
   "metadata": {},
   "outputs": [
    {
     "data": {
      "text/plain": [
       "array([0.  , 0.25, 0.5 , 0.75, 1.  ])"
      ]
     },
     "execution_count": 95,
     "metadata": {},
     "output_type": "execute_result"
    }
   ],
   "source": [
    "np.linspace(0, 1, 5)"
   ]
  },
  {
   "cell_type": "code",
   "execution_count": 96,
   "metadata": {},
   "outputs": [
    {
     "data": {
      "text/plain": [
       "array([[1, 4, 2],\n",
       "       [6, 1, 9],\n",
       "       [2, 0, 2]])"
      ]
     },
     "execution_count": 96,
     "metadata": {},
     "output_type": "execute_result"
    }
   ],
   "source": [
    "np.random.randint(0, 10, (3, 3))"
   ]
  },
  {
   "cell_type": "code",
   "execution_count": 97,
   "metadata": {},
   "outputs": [
    {
     "data": {
      "text/plain": [
       "array([[  1. ,  57. ,  71. , 127. , 141. , 197. , 211. , 267. , 281. ],\n",
       "       [  0.5,  28.5,  35.5,  63.5,  70.5,  98.5, 105.5, 133.5, 140.5],\n",
       "       [-99. , -43. , -29. ,  27. ,  41. ,  97. , 111. , 167. , 181. ]])"
      ]
     },
     "execution_count": 97,
     "metadata": {},
     "output_type": "execute_result"
    }
   ],
   "source": [
    "my_secret = [x for x in range(1, 301, 7) if x%10 == 7 or x%10 == 1]\n",
    "np.array([my_secret, [x/2 for x in my_secret], [x-100 for x in my_secret]])"
   ]
  },
  {
   "cell_type": "code",
   "execution_count": 98,
   "metadata": {},
   "outputs": [
    {
     "data": {
      "text/plain": [
       "array([1., 1., 1., 1., 1.])"
      ]
     },
     "execution_count": 98,
     "metadata": {},
     "output_type": "execute_result"
    }
   ],
   "source": [
    "np.ones(5)"
   ]
  },
  {
   "cell_type": "code",
   "execution_count": 99,
   "metadata": {},
   "outputs": [
    {
     "data": {
      "text/plain": [
       "array([[1., 1., 1., 1., 1.],\n",
       "       [1., 1., 1., 1., 1.],\n",
       "       [1., 1., 1., 1., 1.],\n",
       "       [1., 1., 1., 1., 1.],\n",
       "       [1., 1., 1., 1., 1.]])"
      ]
     },
     "execution_count": 99,
     "metadata": {},
     "output_type": "execute_result"
    }
   ],
   "source": [
    "np.ones((5,5))"
   ]
  },
  {
   "cell_type": "code",
   "execution_count": 100,
   "metadata": {},
   "outputs": [
    {
     "data": {
      "text/plain": [
       "array([[1, 1, 1, 1, 1],\n",
       "       [1, 1, 1, 1, 1],\n",
       "       [1, 1, 1, 1, 1],\n",
       "       [1, 1, 1, 1, 1],\n",
       "       [1, 1, 1, 1, 1]])"
      ]
     },
     "execution_count": 100,
     "metadata": {},
     "output_type": "execute_result"
    }
   ],
   "source": [
    "np.full((5,5), 1)"
   ]
  },
  {
   "cell_type": "code",
   "execution_count": 101,
   "metadata": {},
   "outputs": [
    {
     "data": {
      "text/plain": [
       "array([[0, 3, 0],\n",
       "       [2, 2, 3],\n",
       "       [3, 2, 1]])"
      ]
     },
     "execution_count": 101,
     "metadata": {},
     "output_type": "execute_result"
    }
   ],
   "source": [
    "np.random.randint(0, 4, (3, 3))"
   ]
  },
  {
   "cell_type": "code",
   "execution_count": 102,
   "metadata": {},
   "outputs": [
    {
     "data": {
      "text/plain": [
       "array([0, 1, 4])"
      ]
     },
     "execution_count": 102,
     "metadata": {},
     "output_type": "execute_result"
    }
   ],
   "source": [
    "np.random.randint(0, 5, 3)"
   ]
  },
  {
   "cell_type": "code",
   "execution_count": 103,
   "metadata": {},
   "outputs": [
    {
     "data": {
      "text/plain": [
       "array([[1., 1., 1., 1.],\n",
       "       [1., 1., 1., 1.],\n",
       "       [1., 1., 1., 1.],\n",
       "       [1., 1., 1., 1.]])"
      ]
     },
     "execution_count": 103,
     "metadata": {},
     "output_type": "execute_result"
    }
   ],
   "source": [
    "np.ones((4, 4), dtype=float)"
   ]
  },
  {
   "cell_type": "code",
   "execution_count": 104,
   "metadata": {},
   "outputs": [
    {
     "data": {
      "text/plain": [
       "array([ 1,  3,  5,  7,  9, 11, 13])"
      ]
     },
     "execution_count": 104,
     "metadata": {},
     "output_type": "execute_result"
    }
   ],
   "source": [
    "np.arange(1, 14, 2)"
   ]
  },
  {
   "cell_type": "code",
   "execution_count": 105,
   "metadata": {},
   "outputs": [
    {
     "data": {
      "text/plain": [
       "array([1, 3, 5, 7, 9])"
      ]
     },
     "execution_count": 105,
     "metadata": {},
     "output_type": "execute_result"
    }
   ],
   "source": [
    "np.array([i for i in range(11) if i%2])"
   ]
  },
  {
   "cell_type": "code",
   "execution_count": 106,
   "metadata": {},
   "outputs": [
    {
     "data": {
      "text/plain": [
       "array([[[1., 1.],\n",
       "        [1., 1.]],\n",
       "\n",
       "       [[1., 1.],\n",
       "        [1., 1.]]])"
      ]
     },
     "execution_count": 106,
     "metadata": {},
     "output_type": "execute_result"
    }
   ],
   "source": [
    "np.ones((2,2,2))"
   ]
  },
  {
   "cell_type": "code",
   "execution_count": 107,
   "metadata": {},
   "outputs": [
    {
     "data": {
      "text/plain": [
       "5"
      ]
     },
     "execution_count": 107,
     "metadata": {},
     "output_type": "execute_result"
    }
   ],
   "source": [
    "my_array = np.array([x for x in range(10)])\n",
    "my_array[5]"
   ]
  },
  {
   "cell_type": "code",
   "execution_count": 108,
   "metadata": {},
   "outputs": [
    {
     "data": {
      "text/plain": [
       "9"
      ]
     },
     "execution_count": 108,
     "metadata": {},
     "output_type": "execute_result"
    }
   ],
   "source": [
    "my_array[-1]"
   ]
  },
  {
   "cell_type": "code",
   "execution_count": 109,
   "metadata": {},
   "outputs": [
    {
     "data": {
      "text/plain": [
       "array([3, 4, 5])"
      ]
     },
     "execution_count": 109,
     "metadata": {},
     "output_type": "execute_result"
    }
   ],
   "source": [
    "my_array[3:6]"
   ]
  },
  {
   "cell_type": "code",
   "execution_count": 110,
   "metadata": {},
   "outputs": [
    {
     "data": {
      "text/plain": [
       "array([1, 4, 7])"
      ]
     },
     "execution_count": 110,
     "metadata": {},
     "output_type": "execute_result"
    }
   ],
   "source": [
    "my_array[1:8:3]"
   ]
  },
  {
   "cell_type": "code",
   "execution_count": 111,
   "metadata": {},
   "outputs": [
    {
     "data": {
      "text/plain": [
       "12"
      ]
     },
     "execution_count": 111,
     "metadata": {},
     "output_type": "execute_result"
    }
   ],
   "source": [
    "my_array = np.array([[1,2,3,4], [10,11,12,13], [45,46,47,48]])\n",
    "my_array[1][2]"
   ]
  },
  {
   "cell_type": "code",
   "execution_count": 112,
   "metadata": {},
   "outputs": [
    {
     "data": {
      "text/plain": [
       "12"
      ]
     },
     "execution_count": 112,
     "metadata": {},
     "output_type": "execute_result"
    }
   ],
   "source": [
    "my_array[1,2]"
   ]
  },
  {
   "cell_type": "code",
   "execution_count": 113,
   "metadata": {},
   "outputs": [
    {
     "data": {
      "text/plain": [
       "array([10, 11, 12, 13])"
      ]
     },
     "execution_count": 113,
     "metadata": {},
     "output_type": "execute_result"
    }
   ],
   "source": [
    "my_array[1]"
   ]
  },
  {
   "cell_type": "code",
   "execution_count": 114,
   "metadata": {},
   "outputs": [
    {
     "data": {
      "text/plain": [
       "array([ 3, 12, 47])"
      ]
     },
     "execution_count": 114,
     "metadata": {},
     "output_type": "execute_result"
    }
   ],
   "source": [
    "my_array[:,2]"
   ]
  },
  {
   "cell_type": "code",
   "execution_count": 115,
   "metadata": {},
   "outputs": [
    {
     "data": {
      "text/plain": [
       "array([[11, 12],\n",
       "       [46, 47]])"
      ]
     },
     "execution_count": 115,
     "metadata": {},
     "output_type": "execute_result"
    }
   ],
   "source": [
    "my_array[1:,1:3]"
   ]
  },
  {
   "cell_type": "code",
   "execution_count": 116,
   "metadata": {},
   "outputs": [
    {
     "data": {
      "text/plain": [
       "array([[1.40000000e+01, 1.00000000e+01, 6.00000000e+00, 5.60000000e+01,\n",
       "        4.00000000e+01, 2.40000000e+01, 9.80000000e+01, 7.00000000e+01,\n",
       "        4.20000000e+01, 1.40000000e+02, 1.00000000e+02, 6.00000000e+01,\n",
       "        1.82000000e+02, 1.30000000e+02, 7.80000000e+01, 2.24000000e+02,\n",
       "        1.60000000e+02, 9.60000000e+01, 2.66000000e+02, 1.90000000e+02,\n",
       "        1.14000000e+02, 3.08000000e+02, 2.20000000e+02, 1.32000000e+02,\n",
       "        3.50000000e+02, 2.50000000e+02, 1.50000000e+02, 3.92000000e+02,\n",
       "        2.80000000e+02, 1.68000000e+02, 4.34000000e+02, 3.10000000e+02,\n",
       "        1.86000000e+02, 4.76000000e+02, 3.40000000e+02, 2.04000000e+02,\n",
       "        5.18000000e+02, 3.70000000e+02, 2.22000000e+02, 5.60000000e+02,\n",
       "        4.00000000e+02, 2.40000000e+02, 6.02000000e+02, 4.30000000e+02,\n",
       "        2.58000000e+02, 6.44000000e+02, 4.60000000e+02, 2.76000000e+02,\n",
       "        6.86000000e+02, 4.90000000e+02, 2.94000000e+02],\n",
       "       [3.16227766e+01, 3.16543836e+01, 3.16859590e+01, 3.17175031e+01,\n",
       "        3.17490157e+01, 3.17804972e+01, 3.18119474e+01, 3.18433667e+01,\n",
       "        3.18747549e+01, 3.19061123e+01, 3.19374388e+01, 3.19687347e+01,\n",
       "        3.20000000e+01, 3.20312348e+01, 3.20624391e+01, 3.20936131e+01,\n",
       "        3.21247568e+01, 3.21558704e+01, 3.21869539e+01, 3.22180074e+01,\n",
       "        3.22490310e+01, 3.22800248e+01, 3.23109888e+01, 3.23419233e+01,\n",
       "        3.23728281e+01, 3.24037035e+01, 3.24345495e+01, 3.24653662e+01,\n",
       "        3.24961536e+01, 3.25269119e+01, 3.25576412e+01, 3.25883415e+01,\n",
       "        3.26190129e+01, 3.26496554e+01, 3.26802693e+01, 3.27108545e+01,\n",
       "        3.27414111e+01, 3.27719392e+01, 3.28024389e+01, 3.28329103e+01,\n",
       "        3.28633535e+01, 3.28937684e+01, 3.29241553e+01, 3.29545141e+01,\n",
       "        3.29848450e+01, 3.30151480e+01, 3.30454233e+01, 3.30756708e+01,\n",
       "        3.31058907e+01, 3.31360831e+01, 3.31662479e+01],\n",
       "       [0.00000000e+00, 1.00000000e+00, 4.00000000e+00, 9.00000000e+00,\n",
       "        1.60000000e+01, 2.50000000e+01, 3.60000000e+01, 4.90000000e+01,\n",
       "        6.40000000e+01, 8.10000000e+01, 1.00000000e+02, 1.21000000e+02,\n",
       "        1.44000000e+02, 1.69000000e+02, 1.96000000e+02, 2.25000000e+02,\n",
       "        2.56000000e+02, 2.89000000e+02, 3.24000000e+02, 3.61000000e+02,\n",
       "        4.00000000e+02, 4.41000000e+02, 4.84000000e+02, 5.29000000e+02,\n",
       "        5.76000000e+02, 6.25000000e+02, 6.76000000e+02, 7.29000000e+02,\n",
       "        7.84000000e+02, 8.41000000e+02, 9.00000000e+02, 9.61000000e+02,\n",
       "        1.02400000e+03, 1.08900000e+03, 1.15600000e+03, 1.22500000e+03,\n",
       "        1.29600000e+03, 1.36900000e+03, 1.44400000e+03, 1.52100000e+03,\n",
       "        1.60000000e+03, 1.68100000e+03, 1.76400000e+03, 1.84900000e+03,\n",
       "        1.93600000e+03, 2.02500000e+03, 2.11600000e+03, 2.20900000e+03,\n",
       "        2.30400000e+03, 2.40100000e+03, 2.50000000e+03],\n",
       "       [3.16227766e+01, 3.16543836e+01, 3.16859590e+01, 3.17175031e+01,\n",
       "        3.17490157e+01, 3.17804972e+01, 3.18119474e+01, 3.18433667e+01,\n",
       "        3.18747549e+01, 3.19061123e+01, 3.19374388e+01, 3.19687347e+01,\n",
       "        3.20000000e+01, 3.20312348e+01, 3.20624391e+01, 3.20936131e+01,\n",
       "        3.21247568e+01, 3.21558704e+01, 3.21869539e+01, 3.22180074e+01,\n",
       "        3.22490310e+01, 3.22800248e+01, 3.23109888e+01, 3.23419233e+01,\n",
       "        3.23728281e+01, 3.24037035e+01, 3.24345495e+01, 3.24653662e+01,\n",
       "        3.24961536e+01, 3.25269119e+01, 3.25576412e+01, 3.25883415e+01,\n",
       "        3.26190129e+01, 3.26496554e+01, 3.26802693e+01, 3.27108545e+01,\n",
       "        3.27414111e+01, 3.27719392e+01, 3.28024389e+01, 3.28329103e+01,\n",
       "        3.28633535e+01, 3.28937684e+01, 3.29241553e+01, 3.29545141e+01,\n",
       "        3.29848450e+01, 3.30151480e+01, 3.30454233e+01, 3.30756708e+01,\n",
       "        3.31058907e+01, 3.31360831e+01, 3.31662479e+01],\n",
       "       [1.40000000e+01, 1.00000000e+01, 6.00000000e+00, 5.60000000e+01,\n",
       "        4.00000000e+01, 2.40000000e+01, 9.80000000e+01, 7.00000000e+01,\n",
       "        4.20000000e+01, 1.40000000e+02, 1.00000000e+02, 6.00000000e+01,\n",
       "        1.82000000e+02, 1.30000000e+02, 7.80000000e+01, 2.24000000e+02,\n",
       "        1.60000000e+02, 9.60000000e+01, 2.66000000e+02, 1.90000000e+02,\n",
       "        1.14000000e+02, 3.08000000e+02, 2.20000000e+02, 1.32000000e+02,\n",
       "        3.50000000e+02, 2.50000000e+02, 1.50000000e+02, 3.92000000e+02,\n",
       "        2.80000000e+02, 1.68000000e+02, 4.34000000e+02, 3.10000000e+02,\n",
       "        1.86000000e+02, 4.76000000e+02, 3.40000000e+02, 2.04000000e+02,\n",
       "        5.18000000e+02, 3.70000000e+02, 2.22000000e+02, 5.60000000e+02,\n",
       "        4.00000000e+02, 2.40000000e+02, 6.02000000e+02, 4.30000000e+02,\n",
       "        2.58000000e+02, 6.44000000e+02, 4.60000000e+02, 2.76000000e+02,\n",
       "        6.86000000e+02, 4.90000000e+02, 2.94000000e+02]])"
      ]
     },
     "execution_count": 116,
     "metadata": {},
     "output_type": "execute_result"
    }
   ],
   "source": [
    "first_line = [x*y for x in range(2, 100, 6) for y in range (7, 1, -2)]\n",
    "second_line = [x ** 0.5 for x in range(1000, 1101, 2)]\n",
    "third_line = [x**2 for x in range(51)]\n",
    "\n",
    "big_secret = np.array([first_line, second_line, third_line, second_line, first_line])\n",
    "\n",
    "big_secret"
   ]
  },
  {
   "cell_type": "code",
   "execution_count": 117,
   "metadata": {},
   "outputs": [
    {
     "data": {
      "text/plain": [
       "3154.33"
      ]
     },
     "execution_count": 117,
     "metadata": {},
     "output_type": "execute_result"
    }
   ],
   "source": [
    "x = 0\n",
    "for i in range(len(big_secret)):\n",
    "    x += big_secret[i,-1]\n",
    "    \n",
    "round(x, 2)"
   ]
  },
  {
   "cell_type": "code",
   "execution_count": 118,
   "metadata": {},
   "outputs": [
    {
     "data": {
      "text/plain": [
       "121.37"
      ]
     },
     "execution_count": 118,
     "metadata": {},
     "output_type": "execute_result"
    }
   ],
   "source": [
    "x = 0\n",
    "new_secret = big_secret[:,0:5]\n",
    "for i in range(len(new_secret)):\n",
    "    x+=new_secret[i,i]\n",
    "    \n",
    "round(x, 2)"
   ]
  },
  {
   "cell_type": "code",
   "execution_count": 119,
   "metadata": {},
   "outputs": [
    {
     "data": {
      "text/plain": [
       "341505315559.23"
      ]
     },
     "execution_count": 119,
     "metadata": {},
     "output_type": "execute_result"
    }
   ],
   "source": [
    "x = 1\n",
    "new_secret = big_secret[:,-5:]\n",
    "for i in range(len(new_secret)):\n",
    "    x*=new_secret[i,i]\n",
    " \n",
    "round(x, 2)"
   ]
  },
  {
   "cell_type": "code",
   "execution_count": 120,
   "metadata": {},
   "outputs": [
    {
     "data": {
      "text/plain": [
       "array([[64, 49, 18, 99, 41, 73],\n",
       "       [83, 85, 29, 61, 50, 22],\n",
       "       [22, 79, 42, 38, 55, 31],\n",
       "       [57, 23, 16, 17, 55, 47]])"
      ]
     },
     "execution_count": 120,
     "metadata": {},
     "output_type": "execute_result"
    }
   ],
   "source": [
    "my_array = np.random.randint(1, 100, (4, 6))\n",
    "my_array"
   ]
  },
  {
   "cell_type": "code",
   "execution_count": 121,
   "metadata": {},
   "outputs": [
    {
     "data": {
      "text/plain": [
       "array([[29, 61],\n",
       "       [42, 38]])"
      ]
     },
     "execution_count": 121,
     "metadata": {},
     "output_type": "execute_result"
    }
   ],
   "source": [
    "my_slice = my_array[1:3, 2:4]\n",
    "my_slice"
   ]
  },
  {
   "cell_type": "code",
   "execution_count": 122,
   "metadata": {},
   "outputs": [
    {
     "data": {
      "text/plain": [
       "array([[64, 49, 18, 99, 41, 73],\n",
       "       [83, 85,  0,  0, 50, 22],\n",
       "       [22, 79,  0,  0, 55, 31],\n",
       "       [57, 23, 16, 17, 55, 47]])"
      ]
     },
     "execution_count": 122,
     "metadata": {},
     "output_type": "execute_result"
    }
   ],
   "source": [
    "my_slice[:] = 0\n",
    "my_array"
   ]
  },
  {
   "cell_type": "code",
   "execution_count": 127,
   "metadata": {},
   "outputs": [
    {
     "data": {
      "text/plain": [
       "array([[-1.00000000e+00,  1.00000000e+01, -1.00000000e+00,\n",
       "         5.60000000e+01, -1.00000000e+00,  2.40000000e+01,\n",
       "        -1.00000000e+00,  7.00000000e+01, -1.00000000e+00,\n",
       "         1.40000000e+02, -1.00000000e+00,  6.00000000e+01,\n",
       "        -1.00000000e+00,  1.30000000e+02, -1.00000000e+00,\n",
       "         2.24000000e+02, -1.00000000e+00,  9.60000000e+01,\n",
       "        -1.00000000e+00,  1.90000000e+02, -1.00000000e+00,\n",
       "         3.08000000e+02, -1.00000000e+00,  1.32000000e+02,\n",
       "        -1.00000000e+00,  2.50000000e+02, -1.00000000e+00,\n",
       "         3.92000000e+02, -1.00000000e+00,  1.68000000e+02,\n",
       "        -1.00000000e+00,  3.10000000e+02, -1.00000000e+00,\n",
       "         4.76000000e+02, -1.00000000e+00,  2.04000000e+02,\n",
       "        -1.00000000e+00,  3.70000000e+02, -1.00000000e+00,\n",
       "         5.60000000e+02, -1.00000000e+00,  2.40000000e+02,\n",
       "        -1.00000000e+00,  4.30000000e+02, -1.00000000e+00,\n",
       "         6.44000000e+02, -1.00000000e+00,  2.76000000e+02,\n",
       "        -1.00000000e+00,  4.90000000e+02, -1.00000000e+00],\n",
       "       [ 3.16227766e+01,  1.00000000e+00,  3.16859590e+01,\n",
       "         1.00000000e+00,  3.17490157e+01,  1.00000000e+00,\n",
       "         3.18119474e+01,  1.00000000e+00,  3.18747549e+01,\n",
       "         1.00000000e+00,  3.19374388e+01,  1.00000000e+00,\n",
       "         3.20000000e+01,  1.00000000e+00,  3.20624391e+01,\n",
       "         1.00000000e+00,  3.21247568e+01,  1.00000000e+00,\n",
       "         3.21869539e+01,  1.00000000e+00,  3.22490310e+01,\n",
       "         1.00000000e+00,  3.23109888e+01,  1.00000000e+00,\n",
       "         3.23728281e+01,  1.00000000e+00,  3.24345495e+01,\n",
       "         1.00000000e+00,  3.24961536e+01,  1.00000000e+00,\n",
       "         3.25576412e+01,  1.00000000e+00,  3.26190129e+01,\n",
       "         1.00000000e+00,  3.26802693e+01,  1.00000000e+00,\n",
       "         3.27414111e+01,  1.00000000e+00,  3.28024389e+01,\n",
       "         1.00000000e+00,  3.28633535e+01,  1.00000000e+00,\n",
       "         3.29241553e+01,  1.00000000e+00,  3.29848450e+01,\n",
       "         1.00000000e+00,  3.30454233e+01,  1.00000000e+00,\n",
       "         3.31058907e+01,  1.00000000e+00,  3.31662479e+01],\n",
       "       [-1.00000000e+00,  1.00000000e+00, -1.00000000e+00,\n",
       "         9.00000000e+00, -1.00000000e+00,  2.50000000e+01,\n",
       "        -1.00000000e+00,  4.90000000e+01, -1.00000000e+00,\n",
       "         8.10000000e+01, -1.00000000e+00,  1.21000000e+02,\n",
       "        -1.00000000e+00,  1.69000000e+02, -1.00000000e+00,\n",
       "         2.25000000e+02, -1.00000000e+00,  2.89000000e+02,\n",
       "        -1.00000000e+00,  3.61000000e+02, -1.00000000e+00,\n",
       "         4.41000000e+02, -1.00000000e+00,  5.29000000e+02,\n",
       "        -1.00000000e+00,  6.25000000e+02, -1.00000000e+00,\n",
       "         7.29000000e+02, -1.00000000e+00,  8.41000000e+02,\n",
       "        -1.00000000e+00,  9.61000000e+02, -1.00000000e+00,\n",
       "         1.08900000e+03, -1.00000000e+00,  1.22500000e+03,\n",
       "        -1.00000000e+00,  1.36900000e+03, -1.00000000e+00,\n",
       "         1.52100000e+03, -1.00000000e+00,  1.68100000e+03,\n",
       "        -1.00000000e+00,  1.84900000e+03, -1.00000000e+00,\n",
       "         2.02500000e+03, -1.00000000e+00,  2.20900000e+03,\n",
       "        -1.00000000e+00,  2.40100000e+03, -1.00000000e+00],\n",
       "       [ 3.16227766e+01,  1.00000000e+00,  3.16859590e+01,\n",
       "         1.00000000e+00,  3.17490157e+01,  1.00000000e+00,\n",
       "         3.18119474e+01,  1.00000000e+00,  3.18747549e+01,\n",
       "         1.00000000e+00,  3.19374388e+01,  1.00000000e+00,\n",
       "         3.20000000e+01,  1.00000000e+00,  3.20624391e+01,\n",
       "         1.00000000e+00,  3.21247568e+01,  1.00000000e+00,\n",
       "         3.21869539e+01,  1.00000000e+00,  3.22490310e+01,\n",
       "         1.00000000e+00,  3.23109888e+01,  1.00000000e+00,\n",
       "         3.23728281e+01,  1.00000000e+00,  3.24345495e+01,\n",
       "         1.00000000e+00,  3.24961536e+01,  1.00000000e+00,\n",
       "         3.25576412e+01,  1.00000000e+00,  3.26190129e+01,\n",
       "         1.00000000e+00,  3.26802693e+01,  1.00000000e+00,\n",
       "         3.27414111e+01,  1.00000000e+00,  3.28024389e+01,\n",
       "         1.00000000e+00,  3.28633535e+01,  1.00000000e+00,\n",
       "         3.29241553e+01,  1.00000000e+00,  3.29848450e+01,\n",
       "         1.00000000e+00,  3.30454233e+01,  1.00000000e+00,\n",
       "         3.31058907e+01,  1.00000000e+00,  3.31662479e+01],\n",
       "       [-1.00000000e+00,  1.00000000e+01, -1.00000000e+00,\n",
       "         5.60000000e+01, -1.00000000e+00,  2.40000000e+01,\n",
       "        -1.00000000e+00,  7.00000000e+01, -1.00000000e+00,\n",
       "         1.40000000e+02, -1.00000000e+00,  6.00000000e+01,\n",
       "        -1.00000000e+00,  1.30000000e+02, -1.00000000e+00,\n",
       "         2.24000000e+02, -1.00000000e+00,  9.60000000e+01,\n",
       "        -1.00000000e+00,  1.90000000e+02, -1.00000000e+00,\n",
       "         3.08000000e+02, -1.00000000e+00,  1.32000000e+02,\n",
       "        -1.00000000e+00,  2.50000000e+02, -1.00000000e+00,\n",
       "         3.92000000e+02, -1.00000000e+00,  1.68000000e+02,\n",
       "        -1.00000000e+00,  3.10000000e+02, -1.00000000e+00,\n",
       "         4.76000000e+02, -1.00000000e+00,  2.04000000e+02,\n",
       "        -1.00000000e+00,  3.70000000e+02, -1.00000000e+00,\n",
       "         5.60000000e+02, -1.00000000e+00,  2.40000000e+02,\n",
       "        -1.00000000e+00,  4.30000000e+02, -1.00000000e+00,\n",
       "         6.44000000e+02, -1.00000000e+00,  2.76000000e+02,\n",
       "        -1.00000000e+00,  4.90000000e+02, -1.00000000e+00]])"
      ]
     },
     "execution_count": 127,
     "metadata": {},
     "output_type": "execute_result"
    }
   ],
   "source": [
    "for i in range(len(big_secret)):\n",
    "    for j in range(len(big_secret[i])):\n",
    "        if i%2==0 and j%2==0:\n",
    "            big_secret[i, j] = -1\n",
    "        elif i%2!=0 and j%2!=0:\n",
    "            big_secret[i, j] = 1\n",
    "            \n",
    "big_secret"
   ]
  },
  {
   "cell_type": "code",
   "execution_count": 128,
   "metadata": {},
   "outputs": [
    {
     "data": {
      "text/plain": [
       "-1.0"
      ]
     },
     "execution_count": 128,
     "metadata": {},
     "output_type": "execute_result"
    }
   ],
   "source": [
    "x = 0\n",
    "new_secret = big_secret[:,0:5]\n",
    "for i in range(len(new_secret)):\n",
    "    x+=new_secret[i,i]\n",
    "    \n",
    "x"
   ]
  },
  {
   "cell_type": "code",
   "execution_count": 129,
   "metadata": {},
   "outputs": [
    {
     "data": {
      "text/plain": [
       "-1.0"
      ]
     },
     "execution_count": 129,
     "metadata": {},
     "output_type": "execute_result"
    }
   ],
   "source": [
    "x = 1\n",
    "new_secret = big_secret[:,-5:]\n",
    "for i in range(len(new_secret)):\n",
    "    x*=new_secret[i,i]\n",
    " \n",
    "x"
   ]
  }
 ],
 "metadata": {
  "kernelspec": {
   "display_name": "Python 3",
   "language": "python",
   "name": "python3"
  },
  "language_info": {
   "codemirror_mode": {
    "name": "ipython",
    "version": 3
   },
   "file_extension": ".py",
   "mimetype": "text/x-python",
   "name": "python",
   "nbconvert_exporter": "python",
   "pygments_lexer": "ipython3",
   "version": "3.7.6"
  }
 },
 "nbformat": 4,
 "nbformat_minor": 4
}
