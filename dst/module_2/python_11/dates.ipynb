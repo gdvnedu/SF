{
 "cells": [
  {
   "cell_type": "code",
   "execution_count": 1,
   "metadata": {},
   "outputs": [],
   "source": [
    "from datetime import datetime, timedelta"
   ]
  },
  {
   "cell_type": "code",
   "execution_count": 4,
   "metadata": {},
   "outputs": [
    {
     "data": {
      "text/plain": [
       "5"
      ]
     },
     "execution_count": 4,
     "metadata": {},
     "output_type": "execute_result"
    }
   ],
   "source": [
    "date_string = '05.05.2019 21:00'\n",
    "dt = datetime.strptime(date_string, '%d.%m.%Y %H:%M')\n",
    "dt\n",
    "dt.hour\n",
    "dt.month"
   ]
  },
  {
   "cell_type": "code",
   "execution_count": 5,
   "metadata": {},
   "outputs": [
    {
     "data": {
      "text/plain": [
       "'2019-04-01'"
      ]
     },
     "execution_count": 5,
     "metadata": {},
     "output_type": "execute_result"
    }
   ],
   "source": [
    "dt = datetime(2019, 4, 1, 18, 59, 44)\n",
    "dt.strftime('%Y-%m-%d')"
   ]
  },
  {
   "cell_type": "code",
   "execution_count": 6,
   "metadata": {},
   "outputs": [
    {
     "data": {
      "text/plain": [
       "'07.07.2019'"
      ]
     },
     "execution_count": 6,
     "metadata": {},
     "output_type": "execute_result"
    }
   ],
   "source": [
    "date_string = '2019-07-07T18:59:33'\n",
    "dt = datetime.strptime(date_string, '%Y-%m-%dT%H:%M:%S')\n",
    "date_format = dt.strftime('%d.%m.%Y')\n",
    "date_format"
   ]
  },
  {
   "cell_type": "code",
   "execution_count": 8,
   "metadata": {},
   "outputs": [
    {
     "name": "stdout",
     "output_type": "stream",
     "text": [
      "[datetime.datetime(2019, 7, 7, 18, 59, 6), datetime.datetime(2019, 7, 7, 19, 0, 2), datetime.datetime(2019, 7, 7, 19, 1, 4)]\n"
     ]
    }
   ],
   "source": [
    "dt_list = ['2019-07-07T18:59:06', '2019-07-07T19:00:02', '2019-07-07T19:01:04']\n",
    "datetime_list = []\n",
    "for dt_string in dt_list:\n",
    "    datetime_list.append(datetime.strptime(dt_string, '%Y-%m-%dT%H:%M:%S'))\n",
    "print(datetime_list)"
   ]
  },
  {
   "cell_type": "code",
   "execution_count": 12,
   "metadata": {},
   "outputs": [
    {
     "name": "stdout",
     "output_type": "stream",
     "text": [
      "[6, 2, 4]\n"
     ]
    }
   ],
   "source": [
    "datetime_list = [\n",
    "    datetime(2019, 7, 7, 18, 59, 6),\n",
    "    datetime(2019, 7, 7, 19, 0, 2),\n",
    "    datetime(2019, 7, 7, 19, 1, 4)\n",
    "]\n",
    "\n",
    "report_seconds = []\n",
    "for dt in datetime_list:\n",
    "    report_seconds.append(dt.second)\n",
    "\n",
    "print(report_seconds)"
   ]
  },
  {
   "cell_type": "code",
   "execution_count": 13,
   "metadata": {},
   "outputs": [
    {
     "name": "stdout",
     "output_type": "stream",
     "text": [
      "12\n"
     ]
    }
   ],
   "source": [
    "report_seconds = [6, 2, 4]\n",
    "total_time = 0\n",
    "for duration in report_seconds:\n",
    "    total_time += duration\n",
    "    \n",
    "print(total_time)"
   ]
  },
  {
   "cell_type": "code",
   "execution_count": null,
   "metadata": {},
   "outputs": [],
   "source": []
  }
 ],
 "metadata": {
  "kernelspec": {
   "display_name": "Python 3",
   "language": "python",
   "name": "python3"
  },
  "language_info": {
   "codemirror_mode": {
    "name": "ipython",
    "version": 3
   },
   "file_extension": ".py",
   "mimetype": "text/x-python",
   "name": "python",
   "nbconvert_exporter": "python",
   "pygments_lexer": "ipython3",
   "version": "3.7.6"
  }
 },
 "nbformat": 4,
 "nbformat_minor": 4
}
