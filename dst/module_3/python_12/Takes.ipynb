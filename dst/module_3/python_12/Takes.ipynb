{
 "cells": [
  {
   "cell_type": "code",
   "execution_count": 1,
   "metadata": {},
   "outputs": [],
   "source": [
    "import pandas as pd\n",
    "\n",
    "log = pd.read_csv(\"log.csv\", header=None)\n",
    "log.columns= ['user_id', 'time', 'bet', 'win']\n",
    "\n",
    "users = pd.read_csv('users.csv', encoding ='KOI8-R', sep='\\t')"
   ]
  },
  {
   "cell_type": "code",
   "execution_count": 2,
   "metadata": {},
   "outputs": [
    {
     "name": "stdout",
     "output_type": "stream",
     "text": [
      "<class 'pandas.core.frame.DataFrame'>\n",
      "Int64Index: 986 entries, 0 to 995\n",
      "Data columns (total 4 columns):\n",
      " #   Column   Non-Null Count  Dtype  \n",
      "---  ------   --------------  -----  \n",
      " 0   user_id  986 non-null    object \n",
      " 1   time     985 non-null    object \n",
      " 2   bet      472 non-null    float64\n",
      " 3   win      133 non-null    float64\n",
      "dtypes: float64(2), object(2)\n",
      "memory usage: 38.5+ KB\n"
     ]
    }
   ],
   "source": [
    "log4 = log.drop_duplicates(subset=['user_id', 'time'])\n",
    "log4.info()"
   ]
  },
  {
   "cell_type": "code",
   "execution_count": null,
   "metadata": {},
   "outputs": [],
   "source": []
  }
 ],
 "metadata": {
  "kernelspec": {
   "display_name": "Python 3",
   "language": "python",
   "name": "python3"
  },
  "language_info": {
   "codemirror_mode": {
    "name": "ipython",
    "version": 3
   },
   "file_extension": ".py",
   "mimetype": "text/x-python",
   "name": "python",
   "nbconvert_exporter": "python",
   "pygments_lexer": "ipython3",
   "version": "3.7.7"
  }
 },
 "nbformat": 4,
 "nbformat_minor": 4
}
