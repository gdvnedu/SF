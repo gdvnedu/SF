{
 "cells": [
  {
   "cell_type": "code",
   "execution_count": 4,
   "metadata": {},
   "outputs": [],
   "source": [
    "import pandas as pd\n",
    "import numpy as np\n",
    "\n",
    "\n",
    "log = pd.read_csv(\"log.csv\", header=None)\n",
    "log.columns= ['user_id', 'time', 'bet', 'win']\n",
    "log = log[log.user_id != '#error']  \n",
    "log.user_id = log.user_id.str.split(' - ').apply(lambda x: x[1])\n",
    "log['bet'].fillna(0, inplace=True)\n",
    "log['win'].fillna(0, inplace=True)\n",
    "log['net'] = log.apply(lambda row: row.win - row.bet, axis=1)\n",
    "\n",
    "users = pd.read_csv('users.csv', encoding ='KOI8-R', sep='\\t')\n",
    "users.columns = ['user_id', 'email', 'geo']\n",
    "users.user_id = users.user_id.apply(lambda x: x.lower())\n",
    "\n",
    "merged = pd.merge(users, log, on='user_id')"
   ]
  },
  {
   "cell_type": "code",
   "execution_count": 5,
   "metadata": {},
   "outputs": [
    {
     "data": {
      "text/plain": [
       "1986.0"
      ]
     },
     "execution_count": 5,
     "metadata": {},
     "output_type": "execute_result"
    }
   ],
   "source": [
    "merged.groupby('user_id').net.sum().median()"
   ]
  },
  {
   "cell_type": "code",
   "execution_count": 7,
   "metadata": {},
   "outputs": [
    {
     "data": {
      "text/plain": [
       "5.05"
      ]
     },
     "execution_count": 7,
     "metadata": {},
     "output_type": "execute_result"
    }
   ],
   "source": [
    "data = merged.groupby('user_id')\n",
    "\n",
    "def get_bets(bet):\n",
    "    i = 0\n",
    "    if bet.sum()>0:        \n",
    "        for b in bet:\n",
    "            if b == 0:\n",
    "                i+=1\n",
    "        return i\n",
    "    else:\n",
    "        return 0\n",
    "\n",
    "\n",
    "bets=data.bet.apply(get_bets)\n",
    "bets.mean()\n"
   ]
  },
  {
   "cell_type": "code",
   "execution_count": 13,
   "metadata": {},
   "outputs": [
    {
     "data": {
      "text/plain": [
       "user_id\n",
       "user_1000     133.333333\n",
       "user_900      271.428571\n",
       "user_901       75.000000\n",
       "user_902      212.500000\n",
       "user_903     1506.000000\n",
       "                ...     \n",
       "user_995     1285.400000\n",
       "user_996      200.000000\n",
       "user_997      200.000000\n",
       "user_998     1414.000000\n",
       "user_999      200.000000\n",
       "Name: bet, Length: 100, dtype: float64"
      ]
     },
     "execution_count": 13,
     "metadata": {},
     "output_type": "execute_result"
    }
   ],
   "source": [
    "#data = data.sort_values(by = ['time'], ascending=False)\n",
    "#def get_days(data):    \n",
    "#    if data.bet.sum()>0:\n",
    "#        if data.bet[0] == 0:\n",
    "#            return data['time']\n",
    "    \n",
    "        \n",
    "#days=data.apply(get_days)\n",
    "#days\n",
    "\n",
    "data.bet.mean()"
   ]
  }
 ],
 "metadata": {
  "kernelspec": {
   "display_name": "Python 3",
   "language": "python",
   "name": "python3"
  },
  "language_info": {
   "codemirror_mode": {
    "name": "ipython",
    "version": 3
   },
   "file_extension": ".py",
   "mimetype": "text/x-python",
   "name": "python",
   "nbconvert_exporter": "python",
   "pygments_lexer": "ipython3",
   "version": "3.8.3"
  }
 },
 "nbformat": 4,
 "nbformat_minor": 4
}
