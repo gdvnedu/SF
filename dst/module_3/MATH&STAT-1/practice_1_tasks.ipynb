{
 "cells": [
  {
   "cell_type": "code",
   "execution_count": 1,
   "metadata": {},
   "outputs": [],
   "source": [
    "import numpy as np\n",
    "import pandas as pd"
   ]
  },
  {
   "cell_type": "code",
   "execution_count": 4,
   "metadata": {},
   "outputs": [
    {
     "name": "stdout",
     "output_type": "stream",
     "text": [
      "   1.Rent  2.Area  3.Rooms  4.Floor  5.Demo two weeks  6.Liv.Area\n",
      "0      65      50        3        5                 8          37\n",
      "1      70      52        2       12                 4          40\n",
      "2     120      80        1       10                 5          65\n",
      "3      35      33        1        3                10          20\n",
      "4      40      33        1        6                20          16\n",
      "5      50      44        2       13                12          35\n",
      "6     100      80        4        8                 5          60\n",
      "7      90      65        3       21                 1          50\n",
      "8      85      65        2        5                10          40\n"
     ]
    }
   ],
   "source": [
    "Hut_Paradise_DF = pd.DataFrame({'1.Rent': [65, 70, 120, 35, 40, 50, 100, 90, 85], \n",
    "                                '2.Area': [50, 52, 80, 33, 33, 44, 80, 65, 65], \n",
    "                                '3.Rooms':[3, 2, 1, 1, 1, 2, 4, 3, 2],\n",
    "                                '4.Floor':[5, 12, 10, 3, 6, 13, 8, 21, 5], \n",
    "                                '5.Demo two weeks':[8, 4, 5, 10, 20, 12, 5, 1, 10], \n",
    "                                '6.Liv.Area': [37, 40, 65, 20, 16, 35, 60, 50, 40]})\n",
    "print(Hut_Paradise_DF)"
   ]
  },
  {
   "cell_type": "code",
   "execution_count": 5,
   "metadata": {},
   "outputs": [
    {
     "name": "stdout",
     "output_type": "stream",
     "text": [
      "[[ 65  50   3   5   8  37]\n",
      " [ 70  52   2  12   4  40]\n",
      " [120  80   1  10   5  65]\n",
      " [ 35  33   1   3  10  20]\n",
      " [ 40  33   1   6  20  16]\n",
      " [ 50  44   2  13  12  35]\n",
      " [100  80   4   8   5  60]\n",
      " [ 90  65   3  21   1  50]\n",
      " [ 85  65   2   5  10  40]]\n"
     ]
    }
   ],
   "source": [
    "hp = Hut_Paradise_DF.values\n",
    "print(hp)"
   ]
  },
  {
   "cell_type": "code",
   "execution_count": 16,
   "metadata": {},
   "outputs": [
    {
     "name": "stdout",
     "output_type": "stream",
     "text": [
      "[40 33  1  6 20 16]\n"
     ]
    }
   ],
   "source": [
    "# 1.7.1\n",
    "print(hp[4])"
   ]
  },
  {
   "cell_type": "code",
   "execution_count": 14,
   "metadata": {},
   "outputs": [
    {
     "name": "stdout",
     "output_type": "stream",
     "text": [
      "[ 5 12 10  3  6 13  8 21  5]\n"
     ]
    }
   ],
   "source": [
    "#1.7.2\n",
    "print(hp[:,3])"
   ]
  },
  {
   "cell_type": "code",
   "execution_count": 8,
   "metadata": {},
   "outputs": [
    {
     "name": "stdout",
     "output_type": "stream",
     "text": [
      "10\n"
     ]
    }
   ],
   "source": [
    "#1.7.3\n",
    "print(hp[2,3])"
   ]
  },
  {
   "cell_type": "code",
   "execution_count": 9,
   "metadata": {},
   "outputs": [
    {
     "name": "stdout",
     "output_type": "stream",
     "text": [
      "9\n"
     ]
    }
   ],
   "source": [
    "#1.7.4\n",
    "print(len(hp[:,0]))"
   ]
  },
  {
   "cell_type": "code",
   "execution_count": 17,
   "metadata": {},
   "outputs": [
    {
     "name": "stdout",
     "output_type": "stream",
     "text": [
      "[13 12 15 13 17  9 20 15 25]\n"
     ]
    }
   ],
   "source": [
    "#1.7.5\n",
    "total_area = np.array(hp[:,1])\n",
    "inhabited_area = np.array(hp[:,5])\n",
    "uninhabited_area = total_area - inhabited_area\n",
    "print(uninhabited_area)"
   ]
  },
  {
   "cell_type": "code",
   "execution_count": 18,
   "metadata": {},
   "outputs": [
    {
     "name": "stdout",
     "output_type": "stream",
     "text": [
      "[26. 28. 48. 14. 16. 20. 40. 36. 34.]\n"
     ]
    }
   ],
   "source": [
    "#1.7.6\n",
    "rub = hp[:,0]\n",
    "uah = 0.4*rub\n",
    "print(uah)"
   ]
  },
  {
   "cell_type": "code",
   "execution_count": 19,
   "metadata": {},
   "outputs": [
    {
     "name": "stdout",
     "output_type": "stream",
     "text": [
      "1348\n"
     ]
    }
   ],
   "source": [
    "#1.7.7\n",
    "dur = np.array([10, 20, 30, 15, 5, 40, 20, 8, 20])\n",
    "demo = np.array(hp[:,4])\n",
    "demo_d = dur@demo\n",
    "print(demo_d)"
   ]
  },
  {
   "cell_type": "code",
   "execution_count": 20,
   "metadata": {},
   "outputs": [],
   "source": [
    "u=np.array([3,0,1,1,1])\n",
    "v=np.array([0,1,0,2,-2])\n",
    "w=np.array([1,-4,-1,0,-2])"
   ]
  },
  {
   "cell_type": "code",
   "execution_count": 22,
   "metadata": {},
   "outputs": [
    {
     "name": "stdout",
     "output_type": "stream",
     "text": [
      "[-3 14  3  4  2]\n"
     ]
    }
   ],
   "source": [
    "#1.7.8\n",
    "r = v*2+w*-3\n",
    "print(r)"
   ]
  },
  {
   "cell_type": "code",
   "execution_count": 24,
   "metadata": {},
   "outputs": [
    {
     "data": {
      "text/plain": [
       "0"
      ]
     },
     "execution_count": 24,
     "metadata": {},
     "output_type": "execute_result"
    }
   ],
   "source": [
    "#1.7.9\n",
    "r@u"
   ]
  },
  {
   "cell_type": "code",
   "execution_count": 25,
   "metadata": {},
   "outputs": [
    {
     "name": "stdout",
     "output_type": "stream",
     "text": [
      "u_norm: [0.8660254  0.         0.28867513 0.28867513 0.28867513]\n",
      "v_norm: [ 0.          0.33333333  0.          0.66666667 -0.66666667]\n",
      "w_norm: [ 0.21320072 -0.85280287 -0.21320072  0.         -0.42640143]\n"
     ]
    }
   ],
   "source": [
    "#1.7.10\n",
    "u_norm = u/np.linalg.norm(u)\n",
    "v_norm = v/np.linalg.norm(v)\n",
    "w_norm = w/np.linalg.norm(w)\n",
    "print('u_norm:', u_norm)\n",
    "print('v_norm:', v_norm)\n",
    "print('w_norm:', w_norm)"
   ]
  },
  {
   "cell_type": "code",
   "execution_count": null,
   "metadata": {},
   "outputs": [],
   "source": []
  }
 ],
 "metadata": {
  "kernelspec": {
   "display_name": "Python 3",
   "language": "python",
   "name": "python3"
  },
  "language_info": {
   "codemirror_mode": {
    "name": "ipython",
    "version": 3
   },
   "file_extension": ".py",
   "mimetype": "text/x-python",
   "name": "python",
   "nbconvert_exporter": "python",
   "pygments_lexer": "ipython3",
   "version": "3.7.7"
  }
 },
 "nbformat": 4,
 "nbformat_minor": 4
}
