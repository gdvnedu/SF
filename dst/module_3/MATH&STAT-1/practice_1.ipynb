{
 "cells": [
  {
   "cell_type": "code",
   "execution_count": 1,
   "metadata": {},
   "outputs": [],
   "source": [
    "import numpy as np\n",
    "import pandas as pd"
   ]
  },
  {
   "cell_type": "code",
   "execution_count": 2,
   "metadata": {},
   "outputs": [
    {
     "name": "stdout",
     "output_type": "stream",
     "text": [
      "[1 2 3] <class 'numpy.ndarray'>\n"
     ]
    }
   ],
   "source": [
    "a=np.array([1,2,3])\n",
    "print(a, type(a))"
   ]
  },
  {
   "cell_type": "code",
   "execution_count": 3,
   "metadata": {},
   "outputs": [
    {
     "data": {
      "text/plain": [
       "array([1., 2., 3.])"
      ]
     },
     "execution_count": 3,
     "metadata": {},
     "output_type": "execute_result"
    }
   ],
   "source": [
    "np.array([1,2,3], dtype='float')"
   ]
  },
  {
   "cell_type": "code",
   "execution_count": 4,
   "metadata": {},
   "outputs": [
    {
     "name": "stdout",
     "output_type": "stream",
     "text": [
      "[1, 2, 3] <class 'list'>\n",
      "[1 2 3] <class 'numpy.ndarray'>\n"
     ]
    }
   ],
   "source": [
    "x=[1,2,3]\n",
    "x_arr=np.array(x)\n",
    "print(x, type(x))\n",
    "print(x_arr, type(x_arr))"
   ]
  },
  {
   "cell_type": "code",
   "execution_count": 5,
   "metadata": {},
   "outputs": [
    {
     "data": {
      "text/plain": [
       "array([0., 0., 0., 0., 0.])"
      ]
     },
     "execution_count": 5,
     "metadata": {},
     "output_type": "execute_result"
    }
   ],
   "source": [
    "np.zeros(5)"
   ]
  },
  {
   "cell_type": "code",
   "execution_count": 6,
   "metadata": {},
   "outputs": [
    {
     "data": {
      "text/plain": [
       "array([1., 1., 1., 1., 1., 1., 1., 1.])"
      ]
     },
     "execution_count": 6,
     "metadata": {},
     "output_type": "execute_result"
    }
   ],
   "source": [
    "np.ones(8)"
   ]
  },
  {
   "cell_type": "code",
   "execution_count": 7,
   "metadata": {},
   "outputs": [
    {
     "data": {
      "text/plain": [
       "array([10, 15, 20, 25, 30, 35, 40, 45])"
      ]
     },
     "execution_count": 7,
     "metadata": {},
     "output_type": "execute_result"
    }
   ],
   "source": [
    "np.arange(10, 50, 5)"
   ]
  },
  {
   "cell_type": "code",
   "execution_count": 8,
   "metadata": {},
   "outputs": [
    {
     "data": {
      "text/plain": [
       "array([ 1, -1,  0, -4, -3, -1,  0,  1, -1,  1])"
      ]
     },
     "execution_count": 8,
     "metadata": {},
     "output_type": "execute_result"
    }
   ],
   "source": [
    "np.random.randint(-4, 2, 10)"
   ]
  },
  {
   "cell_type": "code",
   "execution_count": 9,
   "metadata": {},
   "outputs": [
    {
     "name": "stdout",
     "output_type": "stream",
     "text": [
      "Series:\n",
      " 0     65\n",
      "1     70\n",
      "2    120\n",
      "3     35\n",
      "dtype: int64\n"
     ]
    }
   ],
   "source": [
    "data = [65, 70, 120, 35]\n",
    "s = pd.Series(data)\n",
    "print('Series:\\n', s)"
   ]
  },
  {
   "cell_type": "code",
   "execution_count": 10,
   "metadata": {},
   "outputs": [
    {
     "name": "stdout",
     "output_type": "stream",
     "text": [
      "vactor:\n",
      " [ 65  70 120  35]\n",
      "type of x: <class 'numpy.ndarray'>\n"
     ]
    }
   ],
   "source": [
    "x = s.values\n",
    "print('vactor:\\n', x)\n",
    "print('type of x:',type(x))"
   ]
  },
  {
   "cell_type": "code",
   "execution_count": 11,
   "metadata": {},
   "outputs": [
    {
     "name": "stdout",
     "output_type": "stream",
     "text": [
      "Data Frame:\n",
      "     $$  2.Area  3.Rooms:  4.Floor  5.Demo\n",
      "0   65      50         3        5       8\n",
      "1   70      52         2       12       4\n",
      "2  120      80         1       10       5\n",
      "3   35      33         1        3      10\n"
     ]
    }
   ],
   "source": [
    "d = {'$$': [65,70,120,35], '2.Area': [50,52,80,33], '3.Rooms:': [3,2,1,1], '4.Floor': [5,12,10,3], '5.Demo': [8,4,5,10]}\n",
    "df = pd.DataFrame(d)\n",
    "print('Data Frame:\\n', df)"
   ]
  },
  {
   "cell_type": "code",
   "execution_count": 12,
   "metadata": {},
   "outputs": [
    {
     "name": "stdout",
     "output_type": "stream",
     "text": [
      "Matrix:\n",
      " [[ 65  50   3   5   8]\n",
      " [ 70  52   2  12   4]\n",
      " [120  80   1  10   5]\n",
      " [ 35  33   1   3  10]]\n"
     ]
    }
   ],
   "source": [
    "A = df.values\n",
    "print('Matrix:\\n', A)"
   ]
  },
  {
   "cell_type": "code",
   "execution_count": 13,
   "metadata": {},
   "outputs": [
    {
     "name": "stdout",
     "output_type": "stream",
     "text": [
      "Second apartment vector:\n",
      " [70 52  2 12  4]\n",
      "type of x: <class 'numpy.ndarray'>\n"
     ]
    }
   ],
   "source": [
    "x=A[1]\n",
    "print('Second apartment vector:\\n',x)\n",
    "print('type of x:',type(x))"
   ]
  },
  {
   "cell_type": "code",
   "execution_count": 14,
   "metadata": {},
   "outputs": [
    {
     "name": "stdout",
     "output_type": "stream",
     "text": [
      "$$ vector:\n",
      " [ 65  70 120  35]\n"
     ]
    }
   ],
   "source": [
    "y=A[:,0]\n",
    "print('$$ vector:\\n',y)"
   ]
  },
  {
   "cell_type": "code",
   "execution_count": 15,
   "metadata": {},
   "outputs": [
    {
     "name": "stdout",
     "output_type": "stream",
     "text": [
      "$$ of 3 apartment: 120\n"
     ]
    }
   ],
   "source": [
    "print('$$ of 3 apartment:',y[2])"
   ]
  },
  {
   "cell_type": "code",
   "execution_count": 16,
   "metadata": {},
   "outputs": [
    {
     "name": "stdout",
     "output_type": "stream",
     "text": [
      "Number of apartments = diim(x): 5\n"
     ]
    }
   ],
   "source": [
    "print('Number of apartments = diim(x):',len(x))"
   ]
  },
  {
   "cell_type": "code",
   "execution_count": 17,
   "metadata": {},
   "outputs": [
    {
     "name": "stdout",
     "output_type": "stream",
     "text": [
      "a+b: [ 7  9 11]\n",
      "2a: [2 4 6]\n"
     ]
    }
   ],
   "source": [
    "a=np.array([1,2,3])\n",
    "b=np.array([6,7,8])\n",
    "print('a+b:', a+b)\n",
    "print('2a:', 2*a)"
   ]
  },
  {
   "cell_type": "code",
   "execution_count": 18,
   "metadata": {},
   "outputs": [
    {
     "name": "stdout",
     "output_type": "stream",
     "text": [
      "a+b: [1, 2, 3, 1, 2, 3]\n",
      "2a: [1, 2, 3, 1, 2, 3]\n"
     ]
    }
   ],
   "source": [
    "a_list=[1,2,3]\n",
    "b_list=[6,7,8]\n",
    "print('a+b:', a_list+a_list)\n",
    "print('2a:', 2*a_list)"
   ]
  },
  {
   "cell_type": "code",
   "execution_count": 19,
   "metadata": {},
   "outputs": [
    {
     "name": "stdout",
     "output_type": "stream",
     "text": [
      "linear combination: [17 18 25]\n"
     ]
    }
   ],
   "source": [
    "a=np.array([1,2,3])\n",
    "b=np.array([6,7,8])\n",
    "c=np.array([1,0,1])\n",
    "\n",
    "d=2*a+2*b+3*c\n",
    "print('linear combination:', d)"
   ]
  },
  {
   "cell_type": "code",
   "execution_count": 20,
   "metadata": {},
   "outputs": [
    {
     "name": "stdout",
     "output_type": "stream",
     "text": [
      "scalar product: 44\n",
      "coordinate product: [ 6 14 24]\n"
     ]
    }
   ],
   "source": [
    "s=np.dot(a,b)\n",
    "print('scalar product:', s)\n",
    "print('coordinate product:', a*b)"
   ]
  },
  {
   "cell_type": "code",
   "execution_count": 21,
   "metadata": {},
   "outputs": [
    {
     "name": "stdout",
     "output_type": "stream",
     "text": [
      "scalar product: 44\n"
     ]
    }
   ],
   "source": [
    "s1=a@b\n",
    "print('scalar product:', s1)"
   ]
  },
  {
   "cell_type": "code",
   "execution_count": 22,
   "metadata": {},
   "outputs": [
    {
     "name": "stdout",
     "output_type": "stream",
     "text": [
      "length of a: 3.7416573867739413\n"
     ]
    }
   ],
   "source": [
    "l=np.linalg.norm(a)\n",
    "print('length of a:', l)"
   ]
  },
  {
   "cell_type": "code",
   "execution_count": 23,
   "metadata": {},
   "outputs": [
    {
     "name": "stdout",
     "output_type": "stream",
     "text": [
      "a_norm: [0.26726124 0.53452248 0.80178373]\n",
      "length of a_norm: 1.0\n"
     ]
    }
   ],
   "source": [
    "a_norm=a/np.linalg.norm(a)\n",
    "print('a_norm:', a_norm)\n",
    "print('length of a_norm:', np.linalg.norm(a_norm))"
   ]
  },
  {
   "cell_type": "code",
   "execution_count": 24,
   "metadata": {},
   "outputs": [
    {
     "name": "stdout",
     "output_type": "stream",
     "text": [
      "a: [1 2 1]\n",
      "b: [2 4 2]\n",
      "c: [-1  1 -1]\n"
     ]
    }
   ],
   "source": [
    "a=np.array([1,2,1])\n",
    "b=a*2\n",
    "c=np.array([-1,1,-1])\n",
    "print('a:',a)\n",
    "print('b:',b)\n",
    "print('c:',c)"
   ]
  },
  {
   "cell_type": "code",
   "execution_count": 26,
   "metadata": {},
   "outputs": [
    {
     "name": "stdout",
     "output_type": "stream",
     "text": [
      "(a,b): 12\n",
      "(a,c): 0\n",
      "(b,c): 0\n"
     ]
    }
   ],
   "source": [
    "print('(a,b):',np.dot(a,b))\n",
    "print('(a,c):',np.dot(a,c))\n",
    "print('(b,c):',np.dot(b,c))"
   ]
  },
  {
   "cell_type": "code",
   "execution_count": 27,
   "metadata": {},
   "outputs": [
    {
     "name": "stdout",
     "output_type": "stream",
     "text": [
      "a: [1 0 1]\n",
      "b: [0 1 0]\n",
      "c: [ 1  0 -1]\n"
     ]
    }
   ],
   "source": [
    "a=np.array([1,0,1])\n",
    "b=np.array([0,1,0])\n",
    "c=np.array([1,0,-1])\n",
    "print('a:',a)\n",
    "print('b:',b)\n",
    "print('c:',c)"
   ]
  },
  {
   "cell_type": "code",
   "execution_count": 28,
   "metadata": {},
   "outputs": [
    {
     "name": "stdout",
     "output_type": "stream",
     "text": [
      "(a,b): 0\n",
      "(a,c): 0\n",
      "(b,c): 0\n"
     ]
    }
   ],
   "source": [
    "print('(a,b):',np.dot(a,b))\n",
    "print('(a,c):',np.dot(a,c))\n",
    "print('(b,c):',np.dot(b,c))"
   ]
  },
  {
   "cell_type": "code",
   "execution_count": 30,
   "metadata": {},
   "outputs": [
    {
     "name": "stdout",
     "output_type": "stream",
     "text": [
      "a: [1 0 1]\n",
      "b: [0 1 0]\n",
      "c1: [1 0 4]\n"
     ]
    }
   ],
   "source": [
    "c1=np.array([1,0,4])\n",
    "print('a:',a)\n",
    "print('b:',b)\n",
    "print('c1:',c1)"
   ]
  },
  {
   "cell_type": "code",
   "execution_count": 32,
   "metadata": {},
   "outputs": [
    {
     "name": "stdout",
     "output_type": "stream",
     "text": [
      "(a,b): 0\n",
      "(a,c): 5\n",
      "(b,c): 0\n"
     ]
    }
   ],
   "source": [
    "print('(a,b):',a@b)\n",
    "print('(a,c):',a@c1)\n",
    "print('(b,c):',b@c1)"
   ]
  },
  {
   "cell_type": "code",
   "execution_count": null,
   "metadata": {},
   "outputs": [],
   "source": []
  }
 ],
 "metadata": {
  "kernelspec": {
   "display_name": "Python 3",
   "language": "python",
   "name": "python3"
  },
  "language_info": {
   "codemirror_mode": {
    "name": "ipython",
    "version": 3
   },
   "file_extension": ".py",
   "mimetype": "text/x-python",
   "name": "python",
   "nbconvert_exporter": "python",
   "pygments_lexer": "ipython3",
   "version": "3.7.7"
  }
 },
 "nbformat": 4,
 "nbformat_minor": 4
}
