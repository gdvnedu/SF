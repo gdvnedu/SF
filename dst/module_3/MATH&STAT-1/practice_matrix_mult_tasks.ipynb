{
 "cells": [
  {
   "cell_type": "code",
   "execution_count": 26,
   "metadata": {},
   "outputs": [],
   "source": [
    "# 1.15. --> Практика. Умножение матриц\n",
    "\n",
    "import numpy as np\n",
    "import pandas as pd"
   ]
  },
  {
   "cell_type": "code",
   "execution_count": 7,
   "metadata": {},
   "outputs": [],
   "source": [
    "# task 1\n",
    "\n",
    "A = np.array([[5,-1,3,1,2], [-2,8,5,-1,1]])\n",
    "x = np.array([1,2,3,4,5])"
   ]
  },
  {
   "cell_type": "code",
   "execution_count": 8,
   "metadata": {},
   "outputs": [
    {
     "data": {
      "text/plain": [
       "array([26, 30])"
      ]
     },
     "execution_count": 8,
     "metadata": {},
     "output_type": "execute_result"
    }
   ],
   "source": [
    "# 1.15.1\n",
    "\n",
    "A@x"
   ]
  },
  {
   "cell_type": "code",
   "execution_count": 9,
   "metadata": {},
   "outputs": [],
   "source": [
    "# task 2\n",
    "\n",
    "A = np.array([[1,9,8,5], [3,6,3,2], [3,3,3,3], [0,2,5,9], [4,4,1,2]])\n",
    "B = np.array([[1,-1,0,1,1], [-2,0,2,-1,1]])"
   ]
  },
  {
   "cell_type": "code",
   "execution_count": 11,
   "metadata": {},
   "outputs": [
    {
     "data": {
      "text/plain": [
       "array([[  2,   9,  11,  14],\n",
       "       [  8, -10, -14, -11]])"
      ]
     },
     "execution_count": 11,
     "metadata": {},
     "output_type": "execute_result"
    }
   ],
   "source": [
    "# 1.15.2\n",
    "\n",
    "B@A"
   ]
  },
  {
   "cell_type": "code",
   "execution_count": 22,
   "metadata": {},
   "outputs": [],
   "source": [
    "# task 3\n",
    "\n",
    "x = np.array([1,2,1,0,4])\n",
    "y = np.array([2,1,-1,1,0])\n",
    "z = np.array([-1,1,-1,0,0])"
   ]
  },
  {
   "cell_type": "code",
   "execution_count": 24,
   "metadata": {},
   "outputs": [
    {
     "name": "stdout",
     "output_type": "stream",
     "text": [
      "[[22  3  0]\n",
      " [ 3  7  0]\n",
      " [ 0  0  3]]\n"
     ]
    }
   ],
   "source": [
    "# 1.15.3\n",
    "\n",
    "A = np.array([x, y, z]).T\n",
    "print(A.T@A)"
   ]
  },
  {
   "cell_type": "code",
   "execution_count": 30,
   "metadata": {},
   "outputs": [],
   "source": [
    "# tqssk 4\n",
    "\n",
    "Count_DF = pd.DataFrame({'Женские стрижки': [10, 2, 12, 4, 6, 10, 22, 7], \n",
    "                                'Мужские стрижки': [5, 21, 12, 8, 25, 3, 1, 0], \n",
    "                                'Окрашивания':[12, 3, 0, 18, 27, 2, 4, 31],\n",
    "                              'Укладка':[15, 25, 30, 14, 25, 17, 25, 31],\n",
    "                                'Уход':[10, 6, 4, 5, 18, 12, 20, 28]\n",
    "                                }, \n",
    "                               index=['Аня', 'Борис', 'Вика', 'Галя', 'Дима', 'Егор', 'Женя','Юра'])\n",
    "Price_DF = pd.DataFrame({'Женские стрижки': [2, 1.8, 2, 1.8, 2.5, 5, 1.1, 4.5], \n",
    "                                'Мужские стрижки': [1.5, 2.5, 2, 1.2, 3.5, 5, 1, 4], \n",
    "                                'Окрашивания':[1, 1, 0, 2.8, 2, 3, 1.5, 2.5],\n",
    "                              'Укладка':[0.8, 1, 0.5, 0.8, 1, 2, 0.5, 1],\n",
    "                                'Уход':[1, 1, 2, 2, 1.5, 2.5, 1.7, 2] \n",
    "                                }, \n",
    "                               index=['Аня', 'Борис', 'Вика', 'Галя', 'Дима', 'Егор', 'Женя','Юра'])"
   ]
  },
  {
   "cell_type": "code",
   "execution_count": 47,
   "metadata": {},
   "outputs": [
    {
     "data": {
      "text/plain": [
       "array([ 3.6, 52.5,  3. , 25. ,  6. ])"
      ]
     },
     "execution_count": 47,
     "metadata": {},
     "output_type": "execute_result"
    }
   ],
   "source": [
    "# 1.15.4\n",
    "\n",
    "count_b = np.array(Count_DF.values[1])\n",
    "price_b = np.array(Price_DF.values[1])\n",
    "\n",
    "count_b*price_b"
   ]
  },
  {
   "cell_type": "code",
   "execution_count": 66,
   "metadata": {},
   "outputs": [
    {
     "name": "stdout",
     "output_type": "stream",
     "text": [
      "[11.3  15.22 11.9  20.6  41.9  21.2  11.49 38.25]\n"
     ]
    }
   ],
   "source": [
    "# 1.15.5\n",
    "\n",
    "C = np.array(Count_DF.values)\n",
    "P = np.array(Price_DF.values)\n",
    "com = [0.2, 0.2, 0.3, 0.1, 0.1]\n",
    "\n",
    "salon_inc = (P*C)@(com)\n",
    "\n",
    "print(salon_inc)\n",
    "\n",
    "\n"
   ]
  },
  {
   "cell_type": "code",
   "execution_count": 67,
   "metadata": {},
   "outputs": [
    {
     "name": "stdout",
     "output_type": "stream",
     "text": [
      "[ 50.2   74.88  59.1   67.8  166.6  113.8   66.21 157.75]\n"
     ]
    }
   ],
   "source": [
    "# 1.15.6\n",
    "\n",
    "C = np.array(Count_DF.values)\n",
    "P = np.array(Price_DF.values)\n",
    "com = [0.2, 0.2, 0.3, 0.1, 0.1]\n",
    "\n",
    "styl_inc = (P*C)@(np.ones(5)-com)\n",
    "\n",
    "print(styl_inc)"
   ]
  },
  {
   "cell_type": "code",
   "execution_count": null,
   "metadata": {},
   "outputs": [],
   "source": []
  }
 ],
 "metadata": {
  "kernelspec": {
   "display_name": "Python 3",
   "language": "python",
   "name": "python3"
  },
  "language_info": {
   "codemirror_mode": {
    "name": "ipython",
    "version": 3
   },
   "file_extension": ".py",
   "mimetype": "text/x-python",
   "name": "python",
   "nbconvert_exporter": "python",
   "pygments_lexer": "ipython3",
   "version": "3.7.7"
  }
 },
 "nbformat": 4,
 "nbformat_minor": 4
}
