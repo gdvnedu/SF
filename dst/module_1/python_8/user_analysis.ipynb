{
 "cells": [
  {
   "cell_type": "code",
   "execution_count": 3,
   "metadata": {},
   "outputs": [],
   "source": [
    "import pandas as pd\n",
    "import numpy as np\n",
    "\n",
    "\n",
    "log = pd.read_csv(\"log.csv\", header=None)\n",
    "log.columns= ['user_id', 'time', 'bet', 'win']\n",
    "log = log[log.user_id != '#error']  \n",
    "log.user_id = log.user_id.str.split(' - ').apply(lambda x: x[1])\n",
    "log['bet'].fillna(0, inplace=True)\n",
    "log['win'].fillna(0, inplace=True)\n",
    "log['net'] = log.apply(lambda row: row.win - row.bet, axis=1)\n",
    "\n",
    "users = pd.read_csv('users.csv', encoding ='KOI8-R', sep='\\t')\n",
    "users.columns = ['user_id', 'email', 'geo']\n",
    "users.user_id = users.user_id.apply(lambda x: x.lower())\n",
    "\n",
    "merged = pd.merge(users, log, on='user_id')"
   ]
  },
  {
   "cell_type": "code",
   "execution_count": 6,
   "metadata": {},
   "outputs": [
    {
     "data": {
      "text/plain": [
       "1986.0"
      ]
     },
     "execution_count": 6,
     "metadata": {},
     "output_type": "execute_result"
    }
   ],
   "source": [
    "merged.groupby('user_id').net.sum().median()"
   ]
  },
  {
   "cell_type": "code",
   "execution_count": null,
   "metadata": {},
   "outputs": [],
   "source": []
  }
 ],
 "metadata": {
  "kernelspec": {
   "display_name": "Python 3",
   "language": "python",
   "name": "python3"
  },
  "language_info": {
   "codemirror_mode": {
    "name": "ipython",
    "version": 3
   },
   "file_extension": ".py",
   "mimetype": "text/x-python",
   "name": "python",
   "nbconvert_exporter": "python",
   "pygments_lexer": "ipython3",
   "version": "3.7.7"
  }
 },
 "nbformat": 4,
 "nbformat_minor": 4
}
