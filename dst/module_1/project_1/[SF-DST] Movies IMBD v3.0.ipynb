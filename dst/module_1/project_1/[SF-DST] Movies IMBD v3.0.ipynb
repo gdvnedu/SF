{
 "cells": [
  {
   "cell_type": "code",
   "execution_count": 3,
   "metadata": {
    "_cell_guid": "b1076dfc-b9ad-4769-8c92-a6c4dae69d19",
    "_uuid": "8f2839f25d086af736a60e9eeb907d3b93b6e0e5"
   },
   "outputs": [
    {
     "name": "stdout",
     "output_type": "stream",
     "text": [
      "['.ipynb_checkpoints', 'data.csv', '[SF-DST] Movies IMBD v3.0.ipynb']\n"
     ]
    }
   ],
   "source": [
    "import numpy as np\n",
    "import pandas as pd\n",
    "import seaborn as sns\n",
    "import matplotlib.pyplot as plt\n",
    "import os\n",
    "from collections import Counter\n",
    "print(os.listdir(\"./\"))"
   ]
  },
  {
   "cell_type": "code",
   "execution_count": 4,
   "metadata": {},
   "outputs": [
    {
     "data": {
      "text/html": [
       "<div>\n",
       "<style scoped>\n",
       "    .dataframe tbody tr th:only-of-type {\n",
       "        vertical-align: middle;\n",
       "    }\n",
       "\n",
       "    .dataframe tbody tr th {\n",
       "        vertical-align: top;\n",
       "    }\n",
       "\n",
       "    .dataframe thead th {\n",
       "        text-align: right;\n",
       "    }\n",
       "</style>\n",
       "<table border=\"1\" class=\"dataframe\">\n",
       "  <thead>\n",
       "    <tr style=\"text-align: right;\">\n",
       "      <th></th>\n",
       "      <th>imdb_id</th>\n",
       "      <th>popularity</th>\n",
       "      <th>budget</th>\n",
       "      <th>revenue</th>\n",
       "      <th>original_title</th>\n",
       "      <th>cast</th>\n",
       "      <th>director</th>\n",
       "      <th>tagline</th>\n",
       "      <th>overview</th>\n",
       "      <th>runtime</th>\n",
       "      <th>genres</th>\n",
       "      <th>production_companies</th>\n",
       "      <th>release_date</th>\n",
       "      <th>vote_count</th>\n",
       "      <th>vote_average</th>\n",
       "      <th>release_year</th>\n",
       "    </tr>\n",
       "  </thead>\n",
       "  <tbody>\n",
       "    <tr>\n",
       "      <th>0</th>\n",
       "      <td>tt0369610</td>\n",
       "      <td>32.985763</td>\n",
       "      <td>150000000</td>\n",
       "      <td>1513528810</td>\n",
       "      <td>Jurassic World</td>\n",
       "      <td>Chris Pratt|Bryce Dallas Howard|Irrfan Khan|Vi...</td>\n",
       "      <td>Colin Trevorrow</td>\n",
       "      <td>The park is open.</td>\n",
       "      <td>Twenty-two years after the events of Jurassic ...</td>\n",
       "      <td>124</td>\n",
       "      <td>Action|Adventure|Science Fiction|Thriller</td>\n",
       "      <td>Universal Studios|Amblin Entertainment|Legenda...</td>\n",
       "      <td>6/9/2015</td>\n",
       "      <td>5562</td>\n",
       "      <td>6.5</td>\n",
       "      <td>2015</td>\n",
       "    </tr>\n",
       "    <tr>\n",
       "      <th>1</th>\n",
       "      <td>tt1392190</td>\n",
       "      <td>28.419936</td>\n",
       "      <td>150000000</td>\n",
       "      <td>378436354</td>\n",
       "      <td>Mad Max: Fury Road</td>\n",
       "      <td>Tom Hardy|Charlize Theron|Hugh Keays-Byrne|Nic...</td>\n",
       "      <td>George Miller</td>\n",
       "      <td>What a Lovely Day.</td>\n",
       "      <td>An apocalyptic story set in the furthest reach...</td>\n",
       "      <td>120</td>\n",
       "      <td>Action|Adventure|Science Fiction|Thriller</td>\n",
       "      <td>Village Roadshow Pictures|Kennedy Miller Produ...</td>\n",
       "      <td>5/13/2015</td>\n",
       "      <td>6185</td>\n",
       "      <td>7.1</td>\n",
       "      <td>2015</td>\n",
       "    </tr>\n",
       "    <tr>\n",
       "      <th>2</th>\n",
       "      <td>tt2908446</td>\n",
       "      <td>13.112507</td>\n",
       "      <td>110000000</td>\n",
       "      <td>295238201</td>\n",
       "      <td>Insurgent</td>\n",
       "      <td>Shailene Woodley|Theo James|Kate Winslet|Ansel...</td>\n",
       "      <td>Robert Schwentke</td>\n",
       "      <td>One Choice Can Destroy You</td>\n",
       "      <td>Beatrice Prior must confront her inner demons ...</td>\n",
       "      <td>119</td>\n",
       "      <td>Adventure|Science Fiction|Thriller</td>\n",
       "      <td>Summit Entertainment|Mandeville Films|Red Wago...</td>\n",
       "      <td>3/18/2015</td>\n",
       "      <td>2480</td>\n",
       "      <td>6.3</td>\n",
       "      <td>2015</td>\n",
       "    </tr>\n",
       "    <tr>\n",
       "      <th>3</th>\n",
       "      <td>tt2488496</td>\n",
       "      <td>11.173104</td>\n",
       "      <td>200000000</td>\n",
       "      <td>2068178225</td>\n",
       "      <td>Star Wars: The Force Awakens</td>\n",
       "      <td>Harrison Ford|Mark Hamill|Carrie Fisher|Adam D...</td>\n",
       "      <td>J.J. Abrams</td>\n",
       "      <td>Every generation has a story.</td>\n",
       "      <td>Thirty years after defeating the Galactic Empi...</td>\n",
       "      <td>136</td>\n",
       "      <td>Action|Adventure|Science Fiction|Fantasy</td>\n",
       "      <td>Lucasfilm|Truenorth Productions|Bad Robot</td>\n",
       "      <td>12/15/2015</td>\n",
       "      <td>5292</td>\n",
       "      <td>7.5</td>\n",
       "      <td>2015</td>\n",
       "    </tr>\n",
       "    <tr>\n",
       "      <th>4</th>\n",
       "      <td>tt2820852</td>\n",
       "      <td>9.335014</td>\n",
       "      <td>190000000</td>\n",
       "      <td>1506249360</td>\n",
       "      <td>Furious 7</td>\n",
       "      <td>Vin Diesel|Paul Walker|Jason Statham|Michelle ...</td>\n",
       "      <td>James Wan</td>\n",
       "      <td>Vengeance Hits Home</td>\n",
       "      <td>Deckard Shaw seeks revenge against Dominic Tor...</td>\n",
       "      <td>137</td>\n",
       "      <td>Action|Crime|Thriller</td>\n",
       "      <td>Universal Pictures|Original Film|Media Rights ...</td>\n",
       "      <td>4/1/2015</td>\n",
       "      <td>2947</td>\n",
       "      <td>7.3</td>\n",
       "      <td>2015</td>\n",
       "    </tr>\n",
       "  </tbody>\n",
       "</table>\n",
       "</div>"
      ],
      "text/plain": [
       "     imdb_id  popularity     budget     revenue                original_title  \\\n",
       "0  tt0369610   32.985763  150000000  1513528810                Jurassic World   \n",
       "1  tt1392190   28.419936  150000000   378436354            Mad Max: Fury Road   \n",
       "2  tt2908446   13.112507  110000000   295238201                     Insurgent   \n",
       "3  tt2488496   11.173104  200000000  2068178225  Star Wars: The Force Awakens   \n",
       "4  tt2820852    9.335014  190000000  1506249360                     Furious 7   \n",
       "\n",
       "                                                cast          director  \\\n",
       "0  Chris Pratt|Bryce Dallas Howard|Irrfan Khan|Vi...   Colin Trevorrow   \n",
       "1  Tom Hardy|Charlize Theron|Hugh Keays-Byrne|Nic...     George Miller   \n",
       "2  Shailene Woodley|Theo James|Kate Winslet|Ansel...  Robert Schwentke   \n",
       "3  Harrison Ford|Mark Hamill|Carrie Fisher|Adam D...       J.J. Abrams   \n",
       "4  Vin Diesel|Paul Walker|Jason Statham|Michelle ...         James Wan   \n",
       "\n",
       "                         tagline  \\\n",
       "0              The park is open.   \n",
       "1             What a Lovely Day.   \n",
       "2     One Choice Can Destroy You   \n",
       "3  Every generation has a story.   \n",
       "4            Vengeance Hits Home   \n",
       "\n",
       "                                            overview  runtime  \\\n",
       "0  Twenty-two years after the events of Jurassic ...      124   \n",
       "1  An apocalyptic story set in the furthest reach...      120   \n",
       "2  Beatrice Prior must confront her inner demons ...      119   \n",
       "3  Thirty years after defeating the Galactic Empi...      136   \n",
       "4  Deckard Shaw seeks revenge against Dominic Tor...      137   \n",
       "\n",
       "                                      genres  \\\n",
       "0  Action|Adventure|Science Fiction|Thriller   \n",
       "1  Action|Adventure|Science Fiction|Thriller   \n",
       "2         Adventure|Science Fiction|Thriller   \n",
       "3   Action|Adventure|Science Fiction|Fantasy   \n",
       "4                      Action|Crime|Thriller   \n",
       "\n",
       "                                production_companies release_date  vote_count  \\\n",
       "0  Universal Studios|Amblin Entertainment|Legenda...     6/9/2015        5562   \n",
       "1  Village Roadshow Pictures|Kennedy Miller Produ...    5/13/2015        6185   \n",
       "2  Summit Entertainment|Mandeville Films|Red Wago...    3/18/2015        2480   \n",
       "3          Lucasfilm|Truenorth Productions|Bad Robot   12/15/2015        5292   \n",
       "4  Universal Pictures|Original Film|Media Rights ...     4/1/2015        2947   \n",
       "\n",
       "   vote_average  release_year  \n",
       "0           6.5          2015  \n",
       "1           7.1          2015  \n",
       "2           6.3          2015  \n",
       "3           7.5          2015  \n",
       "4           7.3          2015  "
      ]
     },
     "execution_count": 4,
     "metadata": {},
     "output_type": "execute_result"
    }
   ],
   "source": [
    "data = pd.read_csv('data.csv')\n",
    "data.head(5)"
   ]
  },
  {
   "cell_type": "code",
   "execution_count": 5,
   "metadata": {},
   "outputs": [
    {
     "data": {
      "text/plain": [
       "1890"
      ]
     },
     "execution_count": 5,
     "metadata": {},
     "output_type": "execute_result"
    }
   ],
   "source": [
    "len(data)"
   ]
  },
  {
   "cell_type": "markdown",
   "metadata": {},
   "source": [
    "# Предобработка датасета"
   ]
  },
  {
   "cell_type": "code",
   "execution_count": 6,
   "metadata": {},
   "outputs": [],
   "source": [
    "answer_ls = [] # создадим список с ответами. сюда будем добавлять ответы по мере прохождения теста\n",
    "# сюда можем вписать создание новых колонок в датасете"
   ]
  },
  {
   "cell_type": "markdown",
   "metadata": {},
   "source": [
    "# 1. У какого фильма из списка самый большой бюджет?\n",
    "Варианты ответов:\n",
    "1. The Dark Knight Rises (tt1345836)\n",
    "2. Spider-Man 3 (tt0413300)\n",
    "3. Avengers: Age of Ultron (tt2395427)\n",
    "4. The Warrior's Way\t(tt1032751)\n",
    "5. Pirates of the Caribbean: On Stranger Tides (tt1298650)"
   ]
  },
  {
   "cell_type": "code",
   "execution_count": 7,
   "metadata": {},
   "outputs": [
    {
     "data": {
      "text/plain": [
       "491    The Warrior's Way\n",
       "Name: original_title, dtype: object"
      ]
     },
     "metadata": {},
     "output_type": "display_data"
    },
    {
     "data": {
      "text/plain": [
       "491    425000000\n",
       "Name: budget, dtype: int64"
      ]
     },
     "metadata": {},
     "output_type": "display_data"
    }
   ],
   "source": [
    "# тут вводим ваш ответ и добавлем в его список ответов (сейчас для примера стоит \"1\")\n",
    "display(data[data.budget == data.budget.max()].original_title)\n",
    "display(data[data.budget == data.budget.max()].budget)\n",
    "answer_ls.append(4)"
   ]
  },
  {
   "cell_type": "markdown",
   "metadata": {},
   "source": [
    "# 2. Какой из фильмов самый длительный (в минутах)\n",
    "1. The Lord of the Rings: The Return of the King\t(tt0167260)\n",
    "2. Gods and Generals\t(tt0279111)\n",
    "3. King Kong\t(tt0360717)\n",
    "4. Pearl Harbor\t(tt0213149)\n",
    "5. Alexander\t(tt0346491)"
   ]
  },
  {
   "cell_type": "code",
   "execution_count": 8,
   "metadata": {},
   "outputs": [
    {
     "data": {
      "text/plain": [
       "1158    Gods and Generals\n",
       "Name: original_title, dtype: object"
      ]
     },
     "metadata": {},
     "output_type": "display_data"
    },
    {
     "data": {
      "text/plain": [
       "1158    214\n",
       "Name: runtime, dtype: int64"
      ]
     },
     "metadata": {},
     "output_type": "display_data"
    }
   ],
   "source": [
    "display(data[data.runtime == data.runtime.max()].original_title)\n",
    "display(data[data.runtime == data.runtime.max()].runtime)\n",
    "answer_ls.append(2)"
   ]
  },
  {
   "cell_type": "markdown",
   "metadata": {},
   "source": [
    "# 3. Какой из фильмов самый короткий (в минутах)\n",
    "Варианты ответов:\n",
    "\n",
    "1. Home on the Range\ttt0299172\n",
    "2. The Jungle Book 2\ttt0283426\n",
    "3. Winnie the Pooh\ttt1449283\n",
    "4. Corpse Bride\ttt0121164\n",
    "5. Hoodwinked!\ttt0443536"
   ]
  },
  {
   "cell_type": "code",
   "execution_count": 9,
   "metadata": {},
   "outputs": [
    {
     "data": {
      "text/plain": [
       "769    Winnie the Pooh\n",
       "Name: original_title, dtype: object"
      ]
     },
     "metadata": {},
     "output_type": "display_data"
    },
    {
     "data": {
      "text/plain": [
       "769    63\n",
       "Name: runtime, dtype: int64"
      ]
     },
     "metadata": {},
     "output_type": "display_data"
    }
   ],
   "source": [
    "display(data[data.runtime == data.runtime.min()].original_title)\n",
    "display(data[data.runtime == data.runtime.min()].runtime)\n",
    "answer_ls.append(3)"
   ]
  },
  {
   "cell_type": "markdown",
   "metadata": {},
   "source": [
    "# 4. Средняя длительность фильма?\n",
    "\n",
    "Варианты ответов:\n",
    "1. 115\n",
    "2. 110\n",
    "3. 105\n",
    "4. 120\n",
    "5. 100\n"
   ]
  },
  {
   "cell_type": "code",
   "execution_count": 10,
   "metadata": {},
   "outputs": [
    {
     "name": "stdout",
     "output_type": "stream",
     "text": [
      "109.65343915343915\n"
     ]
    }
   ],
   "source": [
    "print(data.runtime.mean())\n",
    "answer_ls.append(2)"
   ]
  },
  {
   "cell_type": "markdown",
   "metadata": {},
   "source": [
    "# 5. Средняя длительность фильма по медиане?\n",
    "Варианты ответов:\n",
    "1. 106\n",
    "2. 112\n",
    "3. 101\n",
    "4. 120\n",
    "5. 115\n",
    "\n",
    "\n"
   ]
  },
  {
   "cell_type": "code",
   "execution_count": 11,
   "metadata": {},
   "outputs": [
    {
     "name": "stdout",
     "output_type": "stream",
     "text": [
      "106.5\n"
     ]
    }
   ],
   "source": [
    "print(data.runtime.median())\n",
    "answer_ls.append(1)"
   ]
  },
  {
   "cell_type": "markdown",
   "metadata": {},
   "source": [
    "# 6. Какой самый прибыльный фильм?\n",
    "Варианты ответов:\n",
    "1. The Avengers\ttt0848228\n",
    "2. Minions\ttt2293640\n",
    "3. Star Wars: The Force Awakens\ttt2488496\n",
    "4. Furious 7\ttt2820852\n",
    "5. Avatar\ttt0499549"
   ]
  },
  {
   "cell_type": "code",
   "execution_count": 12,
   "metadata": {},
   "outputs": [
    {
     "data": {
      "text/plain": [
       "239    Avatar\n",
       "Name: original_title, dtype: object"
      ]
     },
     "metadata": {},
     "output_type": "display_data"
    }
   ],
   "source": [
    "data['net_income'] = (data['revenue']) - (data['budget'])\n",
    "display(data.loc[data.net_income == data.net_income.max()].original_title)\n",
    "answer_ls.append(5)"
   ]
  },
  {
   "cell_type": "markdown",
   "metadata": {},
   "source": [
    "# 7. Какой фильм самый убыточный?\n",
    "Варианты ответов:\n",
    "1. Supernova tt0134983\n",
    "2. The Warrior's Way tt1032751\n",
    "3. Flushed Away\ttt0424095\n",
    "4. The Adventures of Pluto Nash\ttt0180052\n",
    "5. The Lone Ranger\ttt1210819"
   ]
  },
  {
   "cell_type": "code",
   "execution_count": 13,
   "metadata": {},
   "outputs": [
    {
     "data": {
      "text/plain": [
       "491    The Warrior's Way\n",
       "Name: original_title, dtype: object"
      ]
     },
     "metadata": {},
     "output_type": "display_data"
    }
   ],
   "source": [
    "display(data.loc[data.net_income == data.net_income.min()].original_title)\n",
    "answer_ls.append(2)"
   ]
  },
  {
   "cell_type": "markdown",
   "metadata": {},
   "source": [
    "# 8. Сколько всего фильмов в прибыли?\n",
    "Варианты ответов:\n",
    "1. 1478\n",
    "2. 1520\n",
    "3. 1241\n",
    "4. 1135\n",
    "5. 1398\n"
   ]
  },
  {
   "cell_type": "code",
   "execution_count": 14,
   "metadata": {},
   "outputs": [
    {
     "name": "stdout",
     "output_type": "stream",
     "text": [
      "1478\n"
     ]
    }
   ],
   "source": [
    "print(data.loc[data.net_income > 0].original_title.count())\n",
    "answer_ls.append(1)"
   ]
  },
  {
   "cell_type": "markdown",
   "metadata": {},
   "source": [
    "# 9. Самый прибыльный фильм в 2008 году?\n",
    "Варианты ответов:\n",
    "1. Madagascar: Escape 2 Africa\ttt0479952\n",
    "2. Iron Man\ttt0371746\n",
    "3. Kung Fu Panda\ttt0441773\n",
    "4. The Dark Knight\ttt0468569\n",
    "5. Mamma Mia!\ttt0795421"
   ]
  },
  {
   "cell_type": "code",
   "execution_count": 15,
   "metadata": {},
   "outputs": [
    {
     "data": {
      "text/plain": [
       "600    The Dark Knight\n",
       "Name: original_title, dtype: object"
      ]
     },
     "metadata": {},
     "output_type": "display_data"
    }
   ],
   "source": [
    "data_2008 = data.loc[data.release_year == 2008]\n",
    "display(data_2008.loc[data_2008.net_income == data_2008.net_income.max()].original_title)\n",
    "answer_ls.append(4)"
   ]
  },
  {
   "cell_type": "markdown",
   "metadata": {},
   "source": [
    " 10. Самый убыточный фильм за период с 2012 по 2014 (включительно)?\n",
    "\n",
    "Варианты ответов:\n",
    "\n",
    "1. Winter's Tale\ttt1837709\n",
    "2. Stolen\ttt1656186\n",
    "3. Broken City\ttt1235522\n",
    "4. Upside Down\ttt1374992\n",
    "5. The Lone Ranger\ttt1210819\n"
   ]
  },
  {
   "cell_type": "code",
   "execution_count": 16,
   "metadata": {},
   "outputs": [
    {
     "data": {
      "text/plain": [
       "1246    The Lone Ranger\n",
       "Name: original_title, dtype: object"
      ]
     },
     "metadata": {},
     "output_type": "display_data"
    }
   ],
   "source": [
    "data_1214 = data.loc[(data.release_year >= 2012) & (data.release_year <= 2014)]\n",
    "display(data_1214.loc[data_1214.net_income == data_1214.net_income.min()].original_title)\n",
    "answer_ls.append(5)"
   ]
  },
  {
   "cell_type": "markdown",
   "metadata": {},
   "source": [
    "11. Какого жанра фильмов больше всего?\n",
    "\n",
    "Варианты ответов:\n",
    "1. Action\n",
    "2. Adventure\n",
    "3. Drama\n",
    "4. Comedy\n",
    "5. Thriller"
   ]
  },
  {
   "cell_type": "code",
   "execution_count": 17,
   "metadata": {
    "scrolled": false
   },
   "outputs": [
    {
     "name": "stdout",
     "output_type": "stream",
     "text": [
      "{'Action': 583, 'Adventure': 416, 'Drama': 782, 'Comedy': 683, 'Thriller': 597}\n"
     ]
    }
   ],
   "source": [
    "Action = data[data.genres.str.contains(\"Action\", na=False)].original_title.count()\n",
    "Adventure = data[data.genres.str.contains(\"Adventure\", na=False)].original_title.count()\n",
    "Drama = data[data.genres.str.contains(\"Drama\", na=False)].original_title.count()\n",
    "Comedy = data[data.genres.str.contains(\"Comedy\", na=False)].original_title.count()\n",
    "Thriller = data[data.genres.str.contains(\"Thriller\", na=False)].original_title.count()\n",
    "genres = {\n",
    "    'Action': Action,\n",
    "    'Adventure': Adventure,\n",
    "    'Drama': Drama,\n",
    "    'Comedy': Comedy,\n",
    "    'Thriller': Thriller,\n",
    "}\n",
    "print(genres)\n",
    "answer_ls.append(3)"
   ]
  },
  {
   "cell_type": "markdown",
   "metadata": {},
   "source": [
    "# 12. Какого жанра среди прибыльных фильмов больше всего?\n",
    "Варианты ответов:\n",
    "1. Drama\n",
    "2. Comedy\n",
    "3. Action\n",
    "4. Thriller\n",
    "5. Adventure"
   ]
  },
  {
   "cell_type": "code",
   "execution_count": 18,
   "metadata": {},
   "outputs": [
    {
     "name": "stdout",
     "output_type": "stream",
     "text": [
      "{'Action': 444, 'Adventure': 337, 'Drama': 560, 'Comedy': 551, 'Thriller': 446}\n"
     ]
    }
   ],
   "source": [
    "p_data = data.loc[data.net_income > 0]\n",
    "Action = p_data[p_data.genres.str.contains(\"Action\", na=False)].original_title.count()\n",
    "Adventure = p_data[p_data.genres.str.contains(\"Adventure\", na=False)].original_title.count()\n",
    "Drama = p_data[p_data.genres.str.contains(\"Drama\", na=False)].original_title.count()\n",
    "Comedy = p_data[p_data.genres.str.contains(\"Comedy\", na=False)].original_title.count()\n",
    "Thriller = p_data[p_data.genres.str.contains(\"Thriller\", na=False)].original_title.count()\n",
    "genres = {\n",
    "    'Action': Action,\n",
    "    'Adventure': Adventure,\n",
    "    'Drama': Drama,\n",
    "    'Comedy': Comedy,\n",
    "    'Thriller': Thriller,\n",
    "}\n",
    "print(genres)\n",
    "answer_ls.append(1)"
   ]
  },
  {
   "cell_type": "markdown",
   "metadata": {},
   "source": [
    "# 13. Кто из режиссеров снял больше всего фильмов?\n",
    "Варианты ответов:\n",
    "1. Steven Spielberg\n",
    "2. Ridley Scott \n",
    "3. Steven Soderbergh\n",
    "4. Christopher Nolan\n",
    "5. Clint Eastwood"
   ]
  },
  {
   "cell_type": "code",
   "execution_count": 137,
   "metadata": {},
   "outputs": [
    {
     "data": {
      "text/plain": [
       "{'Aaron Seltzer': 5,\n",
       " 'Adam McKay': 6,\n",
       " 'Adam Shankman': 8,\n",
       " 'Adam Wingard': 1,\n",
       " 'Adrian Lyne': 1,\n",
       " 'Akiva Goldsman': 1,\n",
       " 'Alan Parker': 1,\n",
       " 'Alan Poul': 1,\n",
       " 'Alan Taylor': 2,\n",
       " 'Alastair Fothergill': 1,\n",
       " 'Albert Hughes': 2,\n",
       " 'Alejandro Agresti': 1,\n",
       " 'Alejandro AmenÃ¡bar': 2,\n",
       " 'Alejandro GonzÃ¡lez IÃ±Ã¡rritu': 4,\n",
       " 'Alejandro Monteverde': 1,\n",
       " 'Aleksander Bach': 1,\n",
       " 'Alex Garland': 1,\n",
       " 'Alex Kurtzman': 1,\n",
       " 'Alex Proyas': 2,\n",
       " 'Alexander Payne': 4,\n",
       " 'Alexander Witt': 1,\n",
       " 'Alexandre Aja': 3,\n",
       " 'Alfonso CuarÃ³n': 3,\n",
       " 'Alister Grierson': 1,\n",
       " 'Allen Hughes': 3,\n",
       " 'Amma Asante': 1,\n",
       " 'Amy Heckerling': 1,\n",
       " 'Anand Tucker': 1,\n",
       " 'Andrew Adamson': 4,\n",
       " 'Andrew Davis': 2,\n",
       " 'Andrew Dominik': 2,\n",
       " 'Andrew Douglas': 1,\n",
       " 'Andrew Erwin': 1,\n",
       " 'Andrew Niccol': 3,\n",
       " 'Andrew Stanton': 3,\n",
       " 'Andrzej Bartkowiak': 5,\n",
       " 'Andy Fickman': 6,\n",
       " 'Andy Muschietti': 1,\n",
       " 'Andy Tennant': 4,\n",
       " 'Ang Lee': 3,\n",
       " 'Angela Robinson': 1,\n",
       " 'Anne Fletcher': 4,\n",
       " 'Anthony Bell': 1,\n",
       " 'Anthony Hemingway': 1,\n",
       " 'Anthony Leondis': 1,\n",
       " 'Anthony Minghella': 1,\n",
       " 'Anthony Russo': 2,\n",
       " 'Anthony Silverston': 1,\n",
       " 'Anthony Stacchi': 2,\n",
       " 'Antoine Fuqua': 8,\n",
       " 'Antony Hoffman': 1,\n",
       " 'Ari Sandel': 1,\n",
       " 'Ariel Schulman': 2,\n",
       " 'Asger Leth': 1,\n",
       " 'Ash Brannon': 1,\n",
       " 'Asif Kapadia': 1,\n",
       " 'Atom Egoyan': 1,\n",
       " 'Ava DuVernay': 1,\n",
       " 'Baltasar KormÃ¡kur': 3,\n",
       " 'Barbet Schroeder': 1,\n",
       " 'Barry Cook': 1,\n",
       " 'Barry Levinson': 4,\n",
       " 'Barry Sonnenfeld': 4,\n",
       " 'Baz Luhrmann': 3,\n",
       " 'Beeban Kidron': 1,\n",
       " 'Ben Falcone': 1,\n",
       " 'Ben Garant': 1,\n",
       " 'Ben Gluck': 1,\n",
       " 'Ben Younger': 1,\n",
       " 'Bennett Miller': 3,\n",
       " 'Benny Chan': 1,\n",
       " 'Benson Lee': 1,\n",
       " 'Betty Thomas': 3,\n",
       " 'Bibo Bergeron': 2,\n",
       " 'Bill Condon': 4,\n",
       " 'Bille Woodruff': 2,\n",
       " 'Billy Ray': 1,\n",
       " 'BjÃ¶rn Stein': 1,\n",
       " 'Boaz Yakin': 4,\n",
       " 'Bobby Farrelly': 9,\n",
       " 'Brad Anderson': 3,\n",
       " 'Brad Bird': 4,\n",
       " 'Brad Furman': 2,\n",
       " 'Brad Lewis': 1,\n",
       " 'Brad Peyton': 3,\n",
       " 'Brad Silberling': 2,\n",
       " 'Brandon Camp': 1,\n",
       " 'Breck Eisner': 3,\n",
       " 'Brenda Chapman': 1,\n",
       " 'Brendan Malloy': 1,\n",
       " 'Brett Ratner': 8,\n",
       " 'Brian A Miller': 1,\n",
       " 'Brian De Palma': 2,\n",
       " 'Brian Helgeland': 4,\n",
       " 'Brian Klugman': 1,\n",
       " 'Brian Koppelman': 2,\n",
       " 'Brian Levant': 3,\n",
       " 'Brian Robbins': 6,\n",
       " 'Brian Taylor': 4,\n",
       " 'Bruce A. Evans': 1,\n",
       " 'Bruce Beresford': 2,\n",
       " 'Bruce Hunt': 1,\n",
       " 'Bruce Robinson': 1,\n",
       " 'Bryan Bertino': 1,\n",
       " 'Bryan Singer': 5,\n",
       " 'Burr Steers': 3,\n",
       " 'Byron Howard': 2,\n",
       " 'Callan Brunker': 1,\n",
       " 'Cameron Crowe': 5,\n",
       " 'Camille Delamarre': 2,\n",
       " 'Carl Franklin': 2,\n",
       " 'Carl Rinsch': 1,\n",
       " 'Carlos Saldanha': 5,\n",
       " 'Catherine Hardwicke': 3,\n",
       " 'Chad Stahelski': 1,\n",
       " 'Charles Herman-Wurmfeld': 1,\n",
       " 'Charles Martin Smith': 2,\n",
       " 'Charles Shyer': 1,\n",
       " 'Charles Stone III': 2,\n",
       " 'Chris Buck': 2,\n",
       " 'Chris Butler': 1,\n",
       " 'Chris Carter': 1,\n",
       " 'Chris Columbus': 5,\n",
       " 'Chris Gorak': 1,\n",
       " 'Chris Koch': 1,\n",
       " 'Chris Nahon': 1,\n",
       " 'Chris Noonan': 1,\n",
       " 'Chris Renaud': 3,\n",
       " 'Chris Sivertson': 1,\n",
       " 'Chris Weitz': 3,\n",
       " 'Chris Williams': 2,\n",
       " 'Christian Alvart': 2,\n",
       " 'Christian Duguay': 1,\n",
       " 'Christian E. Christiansen': 1,\n",
       " 'Christine Jeffs': 1,\n",
       " 'Christophe Gans': 1,\n",
       " 'Christopher B. Landon': 1,\n",
       " 'Christopher Erskin': 1,\n",
       " 'Christopher Guest': 1,\n",
       " 'Christopher McQuarrie': 2,\n",
       " 'Christopher Miller': 4,\n",
       " 'Christopher Nolan': 8,\n",
       " 'Christopher Spencer': 1,\n",
       " 'Chuck Russell': 1,\n",
       " 'Ciaran Foy': 1,\n",
       " 'Clare Kilner': 1,\n",
       " 'Clark Johnson': 2,\n",
       " 'Cody Cameron': 1,\n",
       " 'Colin Strause': 1,\n",
       " 'Colin Trevorrow': 1,\n",
       " 'Corey Yuen Kwai': 1,\n",
       " 'Cory Edwards': 1,\n",
       " 'Courtney Solomon': 2,\n",
       " 'Craig Brewer': 3,\n",
       " 'Craig Gillespie': 2,\n",
       " 'Craig Mazin': 1,\n",
       " 'Curtis Hanson': 1,\n",
       " 'D.J. Caruso': 5,\n",
       " 'DJ Pooh': 1,\n",
       " 'Dan Bradley': 1,\n",
       " 'Dan Cutforth': 1,\n",
       " 'Dan Gilroy': 1,\n",
       " 'Dan Rush': 1,\n",
       " 'Dan Scanlon': 1,\n",
       " 'Dan St. Pierre': 1,\n",
       " 'Daniel Barber': 1,\n",
       " 'Daniel Barnz': 2,\n",
       " 'Daniel Espinosa': 2,\n",
       " 'Daniel Sackheim': 1,\n",
       " 'Danny Boyle': 6,\n",
       " 'Danny Cannon': 1,\n",
       " 'Danny Leiner': 2,\n",
       " 'Danny Pang': 1,\n",
       " 'Darren Aronofsky': 4,\n",
       " 'Darren Lynn Bousman': 2,\n",
       " 'Dave Green': 1,\n",
       " 'Dave Meyers': 1,\n",
       " 'David Ayer': 4,\n",
       " 'David Barrett': 1,\n",
       " 'David Bowers': 4,\n",
       " 'David Cronenberg': 4,\n",
       " 'David Dobkin': 5,\n",
       " 'David E. Talbert': 1,\n",
       " 'David Fincher': 6,\n",
       " 'David Frankel': 4,\n",
       " 'David Gordon Green': 4,\n",
       " 'David Hackl': 1,\n",
       " 'David Koepp': 3,\n",
       " 'David Leitch': 1,\n",
       " 'David Leland': 1,\n",
       " 'David Levien': 2,\n",
       " 'David Lynch': 1,\n",
       " 'David M. Rosenthal': 1,\n",
       " 'David Mackenzie': 1,\n",
       " 'David Mamet': 1,\n",
       " 'David McNally': 1,\n",
       " 'David MichÃ´d': 1,\n",
       " 'David Moreau': 1,\n",
       " 'David O. Russell': 3,\n",
       " 'David R. Ellis': 5,\n",
       " 'David Raynr': 1,\n",
       " 'David S. Goyer': 3,\n",
       " 'David Silverman': 2,\n",
       " 'David Slade': 2,\n",
       " 'David Soren': 1,\n",
       " 'David Twohy': 4,\n",
       " 'David Wain': 2,\n",
       " 'David Yates': 4,\n",
       " 'David Zucker': 2,\n",
       " 'Davis Guggenheim': 1,\n",
       " 'Dean DeBlois': 3,\n",
       " 'Dean Israelite': 1,\n",
       " 'Dean Parisot': 1,\n",
       " 'Dean Wright': 1,\n",
       " 'Demian Lichtenstein': 1,\n",
       " 'Denis Villeneuve': 2,\n",
       " 'Dennie Gordon': 1,\n",
       " 'Dennis Dugan': 7,\n",
       " 'Derek Cianfrance': 1,\n",
       " 'Derrick Borte': 1,\n",
       " 'Des McAnuff': 1,\n",
       " 'Dewey Nicks': 1,\n",
       " 'Dito Montiel': 1,\n",
       " 'Dominic Sena': 4,\n",
       " 'Don Bluth': 1,\n",
       " 'Don Hall': 2,\n",
       " 'Don Mancini': 1,\n",
       " 'Don McKellar': 1,\n",
       " 'Don Michael Paul': 1,\n",
       " 'Don Scardino': 1,\n",
       " 'Donald Petrie': 4,\n",
       " 'Donovan Cook': 1,\n",
       " 'Doug Atchison': 1,\n",
       " 'Doug Ellin': 1,\n",
       " 'Doug Lefler': 1,\n",
       " 'Doug Liman': 5,\n",
       " 'Douglas Aarniokoski': 1,\n",
       " 'Douglas McGrath': 1,\n",
       " 'Drew Goddard': 1,\n",
       " 'Duncan Jones': 2,\n",
       " 'E. Elias Merhige': 1,\n",
       " 'Ed Gass-Donnelly': 1,\n",
       " 'Edgar Wright': 2,\n",
       " 'Edward Zwick': 4,\n",
       " 'Elizabeth Allen Rosenbaum': 1,\n",
       " 'Emmett Malloy': 1,\n",
       " 'Eric Bress': 1,\n",
       " 'Eric Brevig': 2,\n",
       " 'Eric Darnell': 4,\n",
       " 'Eric Leighton': 1,\n",
       " 'Ericson Core': 1,\n",
       " 'Ernest R. Dickerson': 1,\n",
       " 'Etan Cohen': 1,\n",
       " 'Ethan Coen': 4,\n",
       " 'Ethan Maniquis': 1,\n",
       " 'Evan Goldberg': 2,\n",
       " 'F. Gary Gray': 5,\n",
       " 'Fede Alvarez': 1,\n",
       " 'Feng Xiaogang': 1,\n",
       " 'Fernando Meirelles': 1,\n",
       " 'Florent-Emilio Siri': 1,\n",
       " 'Floria Sigismondi': 1,\n",
       " 'Florian Henckel von Donnersmarck': 1,\n",
       " 'Francine McDougall': 1,\n",
       " 'Francis Lawrence': 6,\n",
       " 'Frank Coraci': 4,\n",
       " 'Frank Darabont': 2,\n",
       " 'Frank Marshall': 1,\n",
       " 'Frank Miller': 3,\n",
       " 'Frank Oz': 2,\n",
       " 'FranÃ§ois Ozon': 1,\n",
       " 'Fred Savage': 1,\n",
       " 'Fred Wolf': 1,\n",
       " 'Frederik Du Chau': 1,\n",
       " 'Fyodor Bondarchuk': 1,\n",
       " 'Gabriele Muccino': 2,\n",
       " 'Gareth Edwards': 1,\n",
       " 'Garth Jennings': 1,\n",
       " 'Gary Chapman': 1,\n",
       " 'Gary Fleder': 4,\n",
       " 'Gary Goldman': 1,\n",
       " 'Gary McKendry': 1,\n",
       " 'Gary Ross': 2,\n",
       " 'Gary Shore': 1,\n",
       " 'Gary Trousdale': 1,\n",
       " 'Gary Winick': 2,\n",
       " 'Gavin Hood': 4,\n",
       " \"Gavin O'Connor\": 1,\n",
       " 'Genndy Tartakovsky': 2,\n",
       " 'Geoffrey Sax': 2,\n",
       " 'George A. Romero': 1,\n",
       " 'George Armitage': 1,\n",
       " 'George Lucas': 2,\n",
       " 'George Miller': 3,\n",
       " 'George Nolfi': 1,\n",
       " 'George Tillman, Jr.': 2,\n",
       " 'Gil Kenan': 3,\n",
       " 'Gina Prince-Bythewood': 2,\n",
       " 'Giuseppe Tornatore': 1,\n",
       " 'Glen Morgan': 1,\n",
       " 'Glenn Ficarra': 3,\n",
       " 'Gonzalo LÃ³pez-Gallego': 1,\n",
       " 'Gore Verbinski': 8,\n",
       " 'Graham Annable': 1,\n",
       " 'Grant Heslov': 1,\n",
       " 'Greg Berlanti': 1,\n",
       " 'Greg Coolidge': 1,\n",
       " 'Greg Mottola': 3,\n",
       " 'Greg Strause': 1,\n",
       " 'Gregory Hoblit': 3,\n",
       " 'Gregory Jacobs': 1,\n",
       " 'Gregory Plotkin': 1,\n",
       " 'Gregory Poirier': 1,\n",
       " 'Griffin Dunne': 1,\n",
       " 'GrÃ©gory Levasseur': 1,\n",
       " 'Guillaume Canet': 1,\n",
       " 'Guillermo del Toro': 5,\n",
       " 'Gus Van Sant': 3,\n",
       " 'Guy Ferland': 1,\n",
       " 'Guy Ritchie': 5,\n",
       " 'GÃ¡bor CsupÃ³': 2,\n",
       " 'Harald Zwart': 3,\n",
       " 'Harmony Korine': 1,\n",
       " 'Harold Becker': 1,\n",
       " 'Harold Cronk': 1,\n",
       " 'Harold Ramis': 2,\n",
       " 'Hayden Schlossberg': 2,\n",
       " 'Henry Alex Rubin': 1,\n",
       " 'Henry Joost': 2,\n",
       " 'Henry Selick': 2,\n",
       " 'Hironobu Sakaguchi': 1,\n",
       " 'Howard Deutch': 2,\n",
       " 'Howard McCain': 1,\n",
       " 'Hoyt Yeatman': 1,\n",
       " 'Iain Softley': 3,\n",
       " 'Ilya Naishuller': 1,\n",
       " 'Ivan Reitman': 2,\n",
       " 'J. Mackye Gruber': 1,\n",
       " 'J.B. Rogers': 1,\n",
       " 'J.C. Chandor': 2,\n",
       " 'J.J. Abrams': 5,\n",
       " 'Jack Sholder': 1,\n",
       " 'Jaco Van Dormael': 1,\n",
       " 'Jake Kasdan': 3,\n",
       " 'Jake Schreier': 1,\n",
       " 'James Bobin': 2,\n",
       " 'James Cameron': 2,\n",
       " 'James Cox': 1,\n",
       " 'James DeMonaco': 1,\n",
       " 'James Duffy': 1,\n",
       " 'James Foley': 1,\n",
       " 'James Gray': 1,\n",
       " 'James Gunn': 2,\n",
       " 'James Isaac': 1,\n",
       " 'James L. Brooks': 2,\n",
       " 'James Mangold': 5,\n",
       " 'James Marsh': 1,\n",
       " 'James Mather': 1,\n",
       " 'James McTeigue': 4,\n",
       " 'James Wan': 4,\n",
       " 'James Watkins': 1,\n",
       " 'James Wong': 2,\n",
       " 'Jan Pinkava': 1,\n",
       " 'Jan de Bont': 1,\n",
       " 'Jane Campion': 1,\n",
       " 'Jane Lipsitz': 1,\n",
       " 'Jared Hess': 1,\n",
       " 'Jason Eisener': 1,\n",
       " 'Jason Friedberg': 5,\n",
       " 'Jason Moore': 2,\n",
       " 'Jason Reitman': 4,\n",
       " 'Jason Winer': 1,\n",
       " 'Jaume Collet-Serra': 5,\n",
       " 'Javier Abad': 1,\n",
       " 'Jay Chandrasekhar': 2,\n",
       " 'Jay Duplass': 1,\n",
       " 'Jay Roach': 5,\n",
       " 'Jay Russell': 2,\n",
       " 'Jean-FranÃ§ois Richet': 1,\n",
       " 'Jean-Jacques Annaud': 2,\n",
       " 'Jean-Marc VallÃ©e': 2,\n",
       " 'Jeff Newitt': 1,\n",
       " 'Jeff Nichols': 1,\n",
       " 'Jeff Schaffer': 1,\n",
       " 'Jeff Tremaine': 3,\n",
       " 'Jeff Wadlow': 1,\n",
       " 'Jennifer Flackett': 1,\n",
       " 'Jennifer Lee': 1,\n",
       " 'Jennifer Yuh': 1,\n",
       " 'Jeremy Garelick': 1,\n",
       " 'Jerry Zucker': 1,\n",
       " 'Jesse Dylan': 3,\n",
       " 'Jesse Peretz': 1,\n",
       " 'Jessie Nelson': 2,\n",
       " 'Jill Culton': 1,\n",
       " 'Jim Fall': 1,\n",
       " 'Jim Field Smith': 1,\n",
       " 'Jim Gillespie': 1,\n",
       " 'Jim Jarmusch': 1,\n",
       " 'Jim Sheridan': 3,\n",
       " 'Jim Sonzero': 1,\n",
       " 'Jimmy Hayward': 3,\n",
       " 'Joby Harold': 1,\n",
       " 'Jocelyn Moorhouse': 1,\n",
       " 'Joe Carnahan': 3,\n",
       " 'Joe Cornish': 1,\n",
       " 'Joe Dante': 1,\n",
       " 'Joe Johnston': 3,\n",
       " 'Joe Nussbaum': 2,\n",
       " 'Joe Ranft': 1,\n",
       " 'Joe Roth': 1,\n",
       " 'Joe Russo': 2,\n",
       " 'Joe Wright': 5,\n",
       " 'Joel Coen': 6,\n",
       " 'Joel Gallen': 1,\n",
       " 'Joel Schumacher': 5,\n",
       " 'Joel Zwick': 1,\n",
       " 'John A. Davis': 2,\n",
       " 'John Bonito': 1,\n",
       " 'John Boorman': 1,\n",
       " 'John Carney': 1,\n",
       " 'John Carpenter': 1,\n",
       " 'John Crowley': 1,\n",
       " 'John Curran': 1,\n",
       " 'John Dahl': 2,\n",
       " 'John Erick Dowdle': 4,\n",
       " 'John Francis Daley': 1,\n",
       " 'John Frankenheimer': 1,\n",
       " 'John Gulager': 1,\n",
       " 'John Hamburg': 2,\n",
       " 'John Herzfeld': 1,\n",
       " 'John Hillcoat': 2,\n",
       " 'John Landis': 1,\n",
       " 'John Lasseter': 2,\n",
       " 'John Lee Hancock': 4,\n",
       " 'John Luessenhop': 2,\n",
       " 'John Madden': 3,\n",
       " 'John Maybury': 1,\n",
       " 'John McTiernan': 1,\n",
       " 'John Michael McDonagh': 1,\n",
       " 'John Moore': 5,\n",
       " 'John Musker': 2,\n",
       " 'John Patrick Shanley': 1,\n",
       " 'John Polson': 1,\n",
       " 'John R. Leonetti': 1,\n",
       " 'John Requa': 3,\n",
       " 'John Sanford': 1,\n",
       " 'John Schultz': 1,\n",
       " 'John Singleton': 5,\n",
       " 'John Stevenson': 1,\n",
       " 'John Stockwell': 3,\n",
       " 'John Wells': 3,\n",
       " 'John Whitesell': 2,\n",
       " 'John Woo': 3,\n",
       " 'Jon Amiel': 1,\n",
       " 'Jon Avnet': 2,\n",
       " 'Jon Erwin': 1,\n",
       " 'Jon Hurwitz': 2,\n",
       " 'Jon Kasdan': 1,\n",
       " 'Jon Lucas': 1,\n",
       " 'Jon M. Chu': 4,\n",
       " 'Jon Turteltaub': 5,\n",
       " 'Jonas Elmer': 1,\n",
       " 'Jonathan Dayton': 1,\n",
       " 'Jonathan Demme': 2,\n",
       " 'Jonathan Glazer': 1,\n",
       " 'Jonathan Hensleigh': 1,\n",
       " 'Jonathan Levine': 3,\n",
       " 'Jonathan Liebesman': 3,\n",
       " 'Jonathan Lynn': 2,\n",
       " 'Jonathan M. Goldstein': 1,\n",
       " 'Jonathan Mostow': 3,\n",
       " 'Jonathan Teplitzky': 1,\n",
       " 'Jonathan van Tulleken': 1,\n",
       " 'Jorge Blanco': 1,\n",
       " 'Joseph Kahn': 1,\n",
       " 'Joseph Kosinski': 2,\n",
       " 'Joseph Ruben': 1,\n",
       " 'Josh Boone': 1,\n",
       " 'Josh Gordon': 1,\n",
       " 'Josh Schwartz': 1,\n",
       " 'Josh Trank': 2,\n",
       " 'Joshua Michael Stern': 2,\n",
       " 'Joss Whedon': 2,\n",
       " 'JosÃ© Padilha': 1,\n",
       " 'Juan Antonio Bayona': 1,\n",
       " 'Juan Carlos Fresnadillo': 1,\n",
       " 'Juan Diego Solanas': 1,\n",
       " 'Judd Apatow': 5,\n",
       " 'Julian Jarrold': 2,\n",
       " 'Julie Anne Robinson': 1,\n",
       " 'Julie Taymor': 1,\n",
       " 'Justin Chadwick': 1,\n",
       " 'Justin Lin': 5,\n",
       " 'Justin Zackham': 1,\n",
       " 'Karey Kirkpatrick': 1,\n",
       " 'Karyn Kusama': 2,\n",
       " 'Kasi Lemmons': 1,\n",
       " 'Kathryn Bigelow': 3,\n",
       " 'Keenen Ivory Wayans': 4,\n",
       " 'Kelly Asbury': 3,\n",
       " 'Ken Kwapis': 5,\n",
       " 'Ken Scott': 2,\n",
       " 'Kerry Conran': 1,\n",
       " 'Kevin Allen': 1,\n",
       " 'Kevin Bray': 1,\n",
       " 'Kevin Greutert': 2,\n",
       " 'Kevin Lima': 2,\n",
       " 'Kevin Macdonald': 3,\n",
       " 'Kevin Munroe': 2,\n",
       " 'Kevin Reynolds': 1,\n",
       " 'Kevin Rodney Sullivan': 2,\n",
       " 'Kevin Smith': 4,\n",
       " 'Kimberly Peirce': 1,\n",
       " 'Kirk De Micco': 2,\n",
       " 'Kirk Jones': 2,\n",
       " 'Kirk Wise': 1,\n",
       " 'Kirsten Sheridan': 1,\n",
       " 'Klay Hall': 1,\n",
       " 'Kris Pearn': 1,\n",
       " 'Kurt Wimmer': 1,\n",
       " 'Kyle Balda': 2,\n",
       " 'Lana Wachowski': 5,\n",
       " 'Larry Charles': 2,\n",
       " 'Lars von Trier': 1,\n",
       " 'Lasse HallstrÃ¶m': 7,\n",
       " 'Lawrence Guterman': 1,\n",
       " 'Lawrence Kasdan': 1,\n",
       " 'Lee Daniels': 2,\n",
       " 'Lee Sternthal': 1,\n",
       " 'Lee Tamahori': 5,\n",
       " 'Lee Toland Krieger': 1,\n",
       " 'Lee Unkrich': 3,\n",
       " 'Leigh Whannell': 1,\n",
       " 'Len Wiseman': 4,\n",
       " 'Lenny Abrahamson': 1,\n",
       " 'Les Mayfield': 1,\n",
       " 'Lexi Alexander': 1,\n",
       " 'Liam Lynch': 1,\n",
       " 'Lilly Wachowski': 5,\n",
       " 'Liz Friedlander': 1,\n",
       " 'Lone Scherfig': 2,\n",
       " 'Lorna Cook': 1,\n",
       " 'Louis Leterrier': 6,\n",
       " 'Loveleen Tandan': 1,\n",
       " 'Luc Besson': 2,\n",
       " 'Luis Mandoki': 2,\n",
       " 'Luke Greenfield': 4,\n",
       " 'M. Night Shyamalan': 8,\n",
       " 'Mabrouk El Mechri': 1,\n",
       " 'Malcolm D. Lee': 4,\n",
       " 'Marc Forster': 7,\n",
       " 'Marc Lawrence': 3,\n",
       " 'Marc Webb': 3,\n",
       " 'Marcel Langenegger': 1,\n",
       " 'Marco Schnabel': 1,\n",
       " 'Marcos MartÃ\\xadnez': 1,\n",
       " 'Marcus Nispel': 4,\n",
       " 'Marcus Raboy': 1,\n",
       " 'Mark Andrews': 1,\n",
       " 'Mark Dindal': 2,\n",
       " 'Mark Duplass': 1,\n",
       " 'Mark Helfrich': 1,\n",
       " 'Mark Herman': 1,\n",
       " 'Mark Levin': 1,\n",
       " 'Mark Linfield': 1,\n",
       " 'Mark Mylod': 1,\n",
       " 'Mark Neveldine': 4,\n",
       " 'Mark Osborne': 2,\n",
       " 'Mark Pellington': 1,\n",
       " 'Mark Romanek': 2,\n",
       " 'Mark Rosman': 1,\n",
       " 'Mark Steven Johnson': 2,\n",
       " 'Mark Waters': 5,\n",
       " 'Martin Brest': 1,\n",
       " 'Martin Campbell': 5,\n",
       " 'Martin McDonagh': 2,\n",
       " 'Martin Scorsese': 6,\n",
       " 'Mary Harron': 1,\n",
       " 'Mary Lambert': 1,\n",
       " 'Matt Bettinelli-Olpin': 1,\n",
       " 'Matt Reeves': 3,\n",
       " \"Matthew O'Callaghan\": 1,\n",
       " 'Matthew Robinson': 1,\n",
       " 'Matthew Vaughn': 4,\n",
       " 'Matthijs van Heijningen Jr.': 1,\n",
       " 'Max Joseph': 1,\n",
       " 'McG': 13,\n",
       " 'Mennan Yapo': 1,\n",
       " 'Michael Apted': 2,\n",
       " 'Michael Bay': 8,\n",
       " 'Michael Caton-Jones': 2,\n",
       " 'Michael Cristofer': 1,\n",
       " 'Michael Cuesta': 1,\n",
       " 'Michael Davis': 1,\n",
       " 'Michael Dougherty': 1,\n",
       " 'Michael Dowse': 2,\n",
       " 'Michael Haneke': 1,\n",
       " 'Michael Hoffman': 1,\n",
       " 'Michael J. Bassett': 2,\n",
       " 'Michael Lembeck': 3,\n",
       " 'Michael Mann': 5,\n",
       " 'Michael McCullers': 1,\n",
       " 'Michael Moore': 3,\n",
       " 'Michael Patrick King': 2,\n",
       " 'Michael Rymer': 1,\n",
       " 'Michael Spierig': 2,\n",
       " 'Michael Sucsy': 1,\n",
       " 'Michael Winterbottom': 1,\n",
       " 'Michel Gondry': 2,\n",
       " 'Michel Hazanavicius': 1,\n",
       " 'Miguel Arteta': 2,\n",
       " 'Miguel Sapochnik': 1,\n",
       " 'Mikael HÃ¥fstrÃ¶m': 4,\n",
       " 'Mike Binder': 2,\n",
       " 'Mike Disa': 1,\n",
       " 'Mike Flanagan': 1,\n",
       " 'Mike Johnson': 1,\n",
       " 'Mike Judge': 1,\n",
       " 'Mike McCoy': 1,\n",
       " 'Mike Mitchell': 3,\n",
       " 'Mike Newell': 3,\n",
       " 'Mike Nichols': 2,\n",
       " 'Mike Thurmeier': 1,\n",
       " 'Mike Tollin': 2,\n",
       " 'Mimi Leder': 1,\n",
       " 'Mira Nair': 2,\n",
       " 'Mort Nathan': 1,\n",
       " 'Morten Tyldum': 1,\n",
       " 'Motonori Sakakibara': 1,\n",
       " 'MÃ¥ns MÃ¥rlind': 1,\n",
       " 'Nancy Meyers': 5,\n",
       " 'Nanette Burstein': 1,\n",
       " 'Nathan Greno': 1,\n",
       " 'Neil Burger': 3,\n",
       " 'Neil LaBute': 3,\n",
       " 'Neil Marshall': 2,\n",
       " 'Neil Nightingale': 1,\n",
       " 'Neill Blomkamp': 3,\n",
       " 'Nicholas Hytner': 1,\n",
       " 'Nicholas Jarecki': 1,\n",
       " 'Nicholas Stoller': 4,\n",
       " 'Nick Cassavetes': 4,\n",
       " 'Nick Hamm': 1,\n",
       " 'Nick Hurran': 2,\n",
       " 'Nick Park': 2,\n",
       " 'Nicolas Winding Refn': 1,\n",
       " 'Nigel Cole': 2,\n",
       " 'Niki Caro': 1,\n",
       " 'Nima Nourizadeh': 1,\n",
       " 'NimrÃ³d Antal': 4,\n",
       " 'Noah Baumbach': 1,\n",
       " 'Noam Murro': 2,\n",
       " 'Nora Ephron': 2,\n",
       " 'Olatunde Osunsanmi': 1,\n",
       " 'Ole Bornedal': 1,\n",
       " 'Oliver Hirschbiegel': 2,\n",
       " 'Oliver Parker': 1,\n",
       " 'Oliver Stone': 5,\n",
       " 'Olivier Megaton': 4,\n",
       " 'Oxide Pang Chun': 1,\n",
       " 'P.J. Hogan': 2,\n",
       " 'Paolo Sorrentino': 1,\n",
       " \"Pat O'Connor\": 1,\n",
       " 'Patrick Hughes': 1,\n",
       " 'Patrick Lussier': 3,\n",
       " 'Patrick Tatopoulos': 1,\n",
       " 'Patrik Forsberg': 1,\n",
       " 'Patty Jenkins': 1,\n",
       " 'Paul Abascal': 1,\n",
       " 'Paul Feig': 3,\n",
       " 'Paul Greengrass': 5,\n",
       " 'Paul Haggis': 3,\n",
       " 'Paul Johansson': 1,\n",
       " 'Paul King': 1,\n",
       " 'Paul McGuigan': 4,\n",
       " 'Paul Schrader': 1,\n",
       " 'Paul Thomas Anderson': 3,\n",
       " 'Paul Tibbitt': 1,\n",
       " 'Paul Verhoeven': 1,\n",
       " 'Paul W.S. Anderson': 7,\n",
       " 'Paul Weiland': 1,\n",
       " 'Paul Weitz': 5,\n",
       " 'Penny Marshall': 1,\n",
       " 'Pete Docter': 3,\n",
       " 'Pete Travis': 2,\n",
       " 'Peter Billingsley': 1,\n",
       " 'Peter Bogdanovich': 1,\n",
       " 'Peter Cattaneo': 1,\n",
       " 'Peter Chelsom': 3,\n",
       " 'Peter Farrelly': 10,\n",
       " 'Peter Hedges': 1,\n",
       " 'Peter Hewitt': 2,\n",
       " 'Peter Howitt': 2,\n",
       " 'Peter Hyams': 2,\n",
       " 'Peter Jackson': 8,\n",
       " 'Peter Landesman': 1,\n",
       " 'Peter Lord': 2,\n",
       " 'Peter Ramsey': 1,\n",
       " 'Peter Segal': 6,\n",
       " 'Peter Sollett': 1,\n",
       " 'Peter Spierig': 2,\n",
       " 'Peter Webber': 1,\n",
       " 'Peter Weir': 2,\n",
       " 'Peyton Reed': 5,\n",
       " 'Phil Joanou': 1,\n",
       " 'Phil Lord': 4,\n",
       " 'Phil Traill': 1,\n",
       " 'Philip G. Atwell': 1,\n",
       " 'Philip Kaufman': 2,\n",
       " 'Phillip Noyce': 2,\n",
       " 'Phyllida Lloyd': 2,\n",
       " 'Pierre Coffin': 3,\n",
       " 'Pierre Morel': 3,\n",
       " 'Pitof': 1,\n",
       " 'Quentin Tarantino': 7,\n",
       " 'R.J. Cutler': 1,\n",
       " 'Rachid Bouchareb': 1,\n",
       " 'Raja Gosnell': 6,\n",
       " 'Rajkumar Hirani': 1,\n",
       " 'Ralph Zondag': 1,\n",
       " 'Raman Hui': 1,\n",
       " 'Randall Wallace': 3,\n",
       " 'Rawson Marshall Thurber': 1,\n",
       " 'Reginald Hudlin': 2,\n",
       " 'Renny Harlin': 5,\n",
       " 'Rian Johnson': 2,\n",
       " 'Ric Roman Waugh': 1,\n",
       " 'Rich Moore': 1,\n",
       " 'Richard Curtis': 2,\n",
       " 'Richard Donner': 2,\n",
       " 'Richard Eyre': 1,\n",
       " 'Richard J. Lewis': 1,\n",
       " 'Richard Kelly': 1,\n",
       " 'Richard LaGravenese': 2,\n",
       " 'Richard Linklater': 4,\n",
       " 'Richard Loncraine': 2,\n",
       " 'Richard Shepard': 1,\n",
       " 'Rick Rosenthal': 1,\n",
       " 'Ricky Gervais': 1,\n",
       " 'Ridley Scott': 12,\n",
       " 'Rob Bowman': 2,\n",
       " 'Rob Cohen': 6,\n",
       " 'Rob Letterman': 4,\n",
       " 'Rob Marshall': 4,\n",
       " 'Rob Minkoff': 4,\n",
       " 'Rob Pritts': 1,\n",
       " 'Rob Schmidt': 1,\n",
       " 'Rob Thomas': 1,\n",
       " 'Rob Zombie': 4,\n",
       " 'Robert Altman': 1,\n",
       " 'Robert B. Weide': 1,\n",
       " 'Robert Iscove': 2,\n",
       " 'Robert Luketic': 6,\n",
       " 'Robert Pulcini': 1,\n",
       " 'Robert Rodriguez': 11,\n",
       " 'Robert Schwentke': 4,\n",
       " 'Robert Stevenhagen': 1,\n",
       " 'Robert Stromberg': 1,\n",
       " 'Robert Zemeckis': 6,\n",
       " 'Roberts Gannaway': 1,\n",
       " 'Robin Budd': 1,\n",
       " 'Rod Lurie': 2,\n",
       " 'Rodrigo GarcÃ\\xada': 1,\n",
       " 'Roger Allers': 1,\n",
       " 'Roger Donaldson': 3,\n",
       " 'Roger Kumble': 2,\n",
       " 'Roger Michell': 2,\n",
       " 'Roger Spottiswoode': 1,\n",
       " 'Roland Emmerich': 5,\n",
       " 'Roland JoffÃ©': 1,\n",
       " 'Roman Polanski': 3,\n",
       " 'Ron Clements': 2,\n",
       " 'Ron Howard': 8,\n",
       " 'Ron Shelton': 1,\n",
       " 'Ron Underwood': 1,\n",
       " 'Ronald F. Maxwell': 1,\n",
       " 'Ronny Yu': 1,\n",
       " 'Ruben Fleischer': 3,\n",
       " 'Rupert Sanders': 1,\n",
       " 'Rupert Wainwright': 1,\n",
       " 'Rupert Wyatt': 2,\n",
       " 'Russell Mulcahy': 1,\n",
       " 'Rusty Cundieff': 1,\n",
       " 'Ryan Coogler': 1,\n",
       " 'Ryan Murphy': 1,\n",
       " 'RyÃ»hei Kitamura': 1,\n",
       " 'Salim Akil': 2,\n",
       " 'Sam Fell': 3,\n",
       " 'Sam Mendes': 5,\n",
       " 'Sam Miller': 1,\n",
       " 'Sam Raimi': 6,\n",
       " 'Sam Taylor-Johnson': 1,\n",
       " 'Samuel Bayer': 1,\n",
       " 'Sanjay Gadhvi': 1,\n",
       " 'Sara Sugarman': 1,\n",
       " 'Sarah Gavron': 1,\n",
       " 'Saul Dibb': 1,\n",
       " 'Scott Cooper': 3,\n",
       " 'Scott Derrickson': 2,\n",
       " 'Scott Frank': 2,\n",
       " 'Scott Hicks': 2,\n",
       " 'Scott Moore': 1,\n",
       " 'Scott Speer': 1,\n",
       " 'Scott Stewart': 2,\n",
       " 'Scott Walker': 1,\n",
       " 'Scott Waugh': 2,\n",
       " 'Sean Anders': 3,\n",
       " 'Sean McNamara': 1,\n",
       " 'Sergey Bodrov': 1,\n",
       " 'Seth Gordon': 3,\n",
       " 'Shana Feste': 2,\n",
       " 'Shane Acker': 1,\n",
       " 'Shane Black': 1,\n",
       " 'Shari Springer Berman': 1,\n",
       " 'Sharon Maguire': 1,\n",
       " 'Shawn Levy': 10,\n",
       " 'Shekhar Kapur': 2,\n",
       " 'Sidney Lumet': 1,\n",
       " 'Simon Curtis': 2,\n",
       " 'Simon Hunter': 1,\n",
       " 'Simon J. Smith': 2,\n",
       " 'Simon Wells': 2,\n",
       " 'Simon West': 5,\n",
       " 'Simon Wincer': 1,\n",
       " 'Sngmoo Lee': 1,\n",
       " 'Sofia Coppola': 2,\n",
       " 'Spike Jonze': 2,\n",
       " 'Spike Lee': 2,\n",
       " 'Stefen Fangmeier': 1,\n",
       " 'Stephen Anderson': 1,\n",
       " 'Stephen Chbosky': 1,\n",
       " 'Stephen Daldry': 3,\n",
       " 'Stephen Frears': 3,\n",
       " 'Stephen Gaghan': 2,\n",
       " 'Stephen Herek': 1,\n",
       " 'Stephen Hillenburg': 1,\n",
       " 'Stephen Hopkins': 1,\n",
       " 'Stephen J. Anderson': 1,\n",
       " 'Stephen Kay': 1,\n",
       " 'Stephen Norrington': 1,\n",
       " 'Stephen Sommers': 3,\n",
       " 'Stephen St. Leger': 1,\n",
       " 'Stephen T. Kay': 1,\n",
       " \"Steve 'Spaz' Williams\": 1,\n",
       " 'Steve Antin': 1,\n",
       " 'Steve Beck': 1,\n",
       " 'Steve Bendelack': 1,\n",
       " 'Steve Box': 1,\n",
       " 'Steve Carr': 6,\n",
       " 'Steve Hickner': 1,\n",
       " 'Steve Martino': 3,\n",
       " 'Steve McQueen': 1,\n",
       " 'Steve Oedekerk': 1,\n",
       " 'Steve Pink': 3,\n",
       " 'Steve Purcell': 1,\n",
       " 'Steve Shill': 1,\n",
       " 'Steve Trenbirth': 1,\n",
       " 'Steven Brill': 3,\n",
       " 'Steven Knight': 1,\n",
       " 'Steven Quale': 2,\n",
       " 'Steven Shainberg': 1,\n",
       " 'Steven Soderbergh': 13,\n",
       " 'Steven Spielberg': 10,\n",
       " 'Steven Zaillian': 1,\n",
       " 'Stewart Hendler': 2,\n",
       " 'Stiles White': 1,\n",
       " 'Stuart Baird': 1,\n",
       " 'Stuart Beattie': 2,\n",
       " 'Susanna White': 1,\n",
       " 'Susannah Grant': 1,\n",
       " 'Susanne Bier': 1,\n",
       " 'Sydney Pollack': 1,\n",
       " 'Sylvain White': 1,\n",
       " 'Takashi Shimizu': 2,\n",
       " 'Tamra Davis': 1,\n",
       " 'Tarsem Singh': 4,\n",
       " 'Tate Taylor': 1,\n",
       " 'Taylor Hackford': 2,\n",
       " 'Ted Demme': 1,\n",
       " 'Terrence Malick': 1,\n",
       " 'Terry George': 1,\n",
       " 'Terry Gilliam': 1,\n",
       " 'Terry Zwigoff': 1,\n",
       " 'Theodore Melfi': 1,\n",
       " 'Thomas Bezucha': 1,\n",
       " 'Thomas Carter': 3,\n",
       " 'Thor Freudenthal': 3,\n",
       " 'Tim Burton': 9,\n",
       " 'Tim Hill': 3,\n",
       " 'Tim Johnson': 2,\n",
       " 'Tim Story': 6,\n",
       " 'Timur Bekmambetov': 2,\n",
       " 'Toby Wilkins': 1,\n",
       " 'Todd Edwards': 1,\n",
       " 'Todd Graff': 1,\n",
       " 'Todd Haynes': 3,\n",
       " 'Todd Lincoln ': 1,\n",
       " 'Todd Phillips': 8,\n",
       " 'Todd Strauss-Schulson': 1,\n",
       " 'Tom Dey': 3,\n",
       " 'Tom Gormican': 1,\n",
       " 'Tom Hooper': 3,\n",
       " 'Tom McCarthy': 1,\n",
       " 'Tom Shadyac': 3,\n",
       " 'Tom Tykwer': 3,\n",
       " 'Tom Vaughan': 2,\n",
       " \"Tommy O'Haver\": 1,\n",
       " 'Tommy Wirkola': 1,\n",
       " 'Tony Bill': 1,\n",
       " 'Tony Gilroy': 3,\n",
       " 'Tony Leech': 1,\n",
       " 'Tony Scott': 6,\n",
       " 'Trey Parker': 1,\n",
       " 'Trish Sie': 1,\n",
       " 'Troy Duffy': 1,\n",
       " 'Troy Miller': 1,\n",
       " 'Troy Nixey': 1,\n",
       " 'Tyler Gillett': 1,\n",
       " 'Uli Edel': 1,\n",
       " 'Uwe Boll': 3,\n",
       " 'Valerie Faris': 1,\n",
       " 'Vic Armstrong': 1,\n",
       " 'Vicky Jenson': 3,\n",
       " 'Victor Salva': 2,\n",
       " 'Vipul Amrutlal Shah': 1,\n",
       " 'Wally Pfister': 1,\n",
       " 'Walt Becker': 2,\n",
       " 'Walter Hill': 3,\n",
       " 'Walter Salles': 2,\n",
       " 'Wayne Kramer': 1,\n",
       " 'Wayne Wang': 3,\n",
       " 'Wes Anderson': 5,\n",
       " 'Wes Ball': 2,\n",
       " 'Wes Craven': 5,\n",
       " 'Will Finn': 1,\n",
       " 'Will Gluck': 3,\n",
       " 'Will Graham': 1,\n",
       " 'Will Speck': 1,\n",
       " 'William Brent Bell': 1,\n",
       " 'William Dear': 1,\n",
       " 'William Friedkin': 3,\n",
       " 'William Malone': 1,\n",
       " 'William Monahan': 1,\n",
       " 'Wolfgang Petersen': 3,\n",
       " 'Wong Kar-wai': 1,\n",
       " 'Woody Allen': 3,\n",
       " 'Xavier Gens': 1,\n",
       " 'Xavier Palud': 1,\n",
       " 'Zack Snyder': 6,\n",
       " 'Zal Batmanglij': 1}"
      ]
     },
     "execution_count": 137,
     "metadata": {},
     "output_type": "execute_result"
    }
   ],
   "source": [
    "import operator\n",
    "\n",
    "#display(data['director'].value_counts())\n",
    "\n",
    "directors_raw = data['director']\n",
    "directors = []\n",
    "for line in directors_raw:\n",
    "    directors_in_line = line.split('|')\n",
    "    for director in directors_in_line:\n",
    "        if director not in actors:        \n",
    "            directors.append(director)\n",
    "\n",
    "directors.sort()\n",
    "directors_films = {}     \n",
    "\n",
    "for director in directors:\n",
    "    data_director = data[data.director.str.contains(director, na=False)]\n",
    "    director_films = data_director['original_title'].count()\n",
    "    directors_films[director] = director_films\n",
    "\n",
    "directors_films\n",
    "#print(max(directors_films.items(), key=operator.itemgetter(1))[0])\n",
    "\n",
    "#answer_ls.append(3)"
   ]
  },
  {
   "cell_type": "markdown",
   "metadata": {},
   "source": [
    "# 14. Кто из режиссеров снял больше всего Прибыльных фильмов?\n",
    "Варианты ответов:\n",
    "1. Steven Soderbergh\n",
    "2. Clint Eastwood\n",
    "3. Steven Spielberg\n",
    "4. Ridley Scott\n",
    "5. Christopher Nolan"
   ]
  },
  {
   "cell_type": "code",
   "execution_count": 20,
   "metadata": {},
   "outputs": [
    {
     "data": {
      "text/plain": [
       "Ridley Scott           12\n",
       "Steven Spielberg       10\n",
       "Clint Eastwood         10\n",
       "Steven Soderbergh      10\n",
       "Shawn Levy              9\n",
       "                       ..\n",
       "Steve Box|Nick Park     1\n",
       "Stephen Kay             1\n",
       "Ed Gass-Donnelly        1\n",
       "Juan Antonio Bayona     1\n",
       "Ronny Yu                1\n",
       "Name: director, Length: 774, dtype: int64"
      ]
     },
     "metadata": {},
     "output_type": "display_data"
    }
   ],
   "source": [
    "display(p_data['director'].value_counts())\n",
    "answer_ls.append(4)"
   ]
  },
  {
   "cell_type": "markdown",
   "metadata": {},
   "source": [
    "# 15. Кто из режиссеров принес больше всего прибыли?\n",
    "Варианты ответов:\n",
    "1. Steven Spielberg\n",
    "2. Christopher Nolan\n",
    "3. David Yates\n",
    "4. James Cameron\n",
    "5. Peter Jackson\n"
   ]
  },
  {
   "cell_type": "code",
   "execution_count": 21,
   "metadata": {},
   "outputs": [
    {
     "data": {
      "text/html": [
       "<div>\n",
       "<style scoped>\n",
       "    .dataframe tbody tr th:only-of-type {\n",
       "        vertical-align: middle;\n",
       "    }\n",
       "\n",
       "    .dataframe tbody tr th {\n",
       "        vertical-align: top;\n",
       "    }\n",
       "\n",
       "    .dataframe thead th {\n",
       "        text-align: right;\n",
       "    }\n",
       "</style>\n",
       "<table border=\"1\" class=\"dataframe\">\n",
       "  <thead>\n",
       "    <tr style=\"text-align: right;\">\n",
       "      <th></th>\n",
       "      <th>revenue</th>\n",
       "    </tr>\n",
       "    <tr>\n",
       "      <th>director</th>\n",
       "      <th></th>\n",
       "    </tr>\n",
       "  </thead>\n",
       "  <tbody>\n",
       "    <tr>\n",
       "      <th>Peter Jackson</th>\n",
       "      <td>6490593685</td>\n",
       "    </tr>\n",
       "    <tr>\n",
       "      <th>Christopher Nolan</th>\n",
       "      <td>4167548502</td>\n",
       "    </tr>\n",
       "    <tr>\n",
       "      <th>David Yates</th>\n",
       "      <td>4154295625</td>\n",
       "    </tr>\n",
       "    <tr>\n",
       "      <th>Michael Bay</th>\n",
       "      <td>3886938960</td>\n",
       "    </tr>\n",
       "    <tr>\n",
       "      <th>J.J. Abrams</th>\n",
       "      <td>3579169916</td>\n",
       "    </tr>\n",
       "  </tbody>\n",
       "</table>\n",
       "</div>"
      ],
      "text/plain": [
       "                      revenue\n",
       "director                     \n",
       "Peter Jackson      6490593685\n",
       "Christopher Nolan  4167548502\n",
       "David Yates        4154295625\n",
       "Michael Bay        3886938960\n",
       "J.J. Abrams        3579169916"
      ]
     },
     "metadata": {},
     "output_type": "display_data"
    }
   ],
   "source": [
    "#data.groupby(['director'])[['net_income']].sum().sort_values(['net_income'],ascending=False).head(5)\n",
    "display(data.groupby(['director'])[['revenue']].sum().sort_values(['revenue'],ascending=False).head(5))\n",
    "answer_ls.append(5)"
   ]
  },
  {
   "cell_type": "markdown",
   "metadata": {},
   "source": [
    "# 16. Какой актер принес больше всего прибыли?\n",
    "Варианты ответов:\n",
    "1. Emma Watson\n",
    "2. Johnny Depp\n",
    "3. Michelle Rodriguez\n",
    "4. Orlando Bloom\n",
    "5. Rupert Grint"
   ]
  },
  {
   "cell_type": "code",
   "execution_count": 22,
   "metadata": {},
   "outputs": [
    {
     "name": "stdout",
     "output_type": "stream",
     "text": [
      "Emma Watson\n"
     ]
    }
   ],
   "source": [
    "import operator\n",
    "\n",
    "actors_raw = data['cast']\n",
    "actors = []\n",
    "for line in actors_raw:\n",
    "    actors_in_line = line.split('|')\n",
    "    for actor in actors_in_line:\n",
    "        if actor not in actors:        \n",
    "            actors.append(actor)\n",
    "\n",
    "actors_income = {}     \n",
    "\n",
    "for actor in actors:\n",
    "    data_actor = data[data.cast.str.contains(actor, na=False)]\n",
    "    actor_income = data_actor['revenue'].sum()\n",
    "    actors_income[actor] = actor_income\n",
    "\n",
    "print(max(actors_income.items(), key=operator.itemgetter(1))[0])\n",
    "answer_ls.append(1)"
   ]
  },
  {
   "cell_type": "markdown",
   "metadata": {},
   "source": [
    "# 17. Какой актер принес меньше всего прибыли в 2012 году?\n",
    "Варианты ответов:\n",
    "1. Nicolas Cage\n",
    "2. Danny Huston\n",
    "3. Kirsten Dunst\n",
    "4. Jim Sturgess\n",
    "5. Sami Gayle"
   ]
  },
  {
   "cell_type": "code",
   "execution_count": 23,
   "metadata": {},
   "outputs": [
    {
     "name": "stdout",
     "output_type": "stream",
     "text": [
      "Nicolas Cage\n"
     ]
    }
   ],
   "source": [
    "data_raw = data[data.release_year == 2012]\n",
    "\n",
    "actors_raw = data_raw['cast']\n",
    "actors = []\n",
    "for line in actors_raw:\n",
    "    actors_in_line = line.split('|')\n",
    "    for actor in actors_in_line:\n",
    "        if actor not in actors:        \n",
    "            actors.append(actor)\n",
    "\n",
    "actors_income = {}\n",
    "\n",
    "for actor in actors:    \n",
    "    data_actor = data_raw[data_raw.cast.str.contains(actor, na=False)]\n",
    "    actor_income = data_actor['revenue'].sum()\n",
    "    actors_income[actor] = actor_income\n",
    "\n",
    "print(min(actors_income.items(), key=operator.itemgetter(1))[0])\n",
    "answer_ls.append(1)"
   ]
  },
  {
   "cell_type": "markdown",
   "metadata": {},
   "source": [
    "# 18. Какой актер снялся в большем количестве высокобюджетных фильмов? (в фильмах где бюджет выше среднего по данной выборке)\n",
    "Варианты ответов:\n",
    "1. Tom Cruise\n",
    "2. Mark Wahlberg \n",
    "3. Matt Damon\n",
    "4. Angelina Jolie\n",
    "5. Adam Sandler"
   ]
  },
  {
   "cell_type": "code",
   "execution_count": 24,
   "metadata": {},
   "outputs": [
    {
     "name": "stdout",
     "output_type": "stream",
     "text": [
      "Matt Damon\n"
     ]
    }
   ],
   "source": [
    "data_raw = data[data.budget > data.budget.mean()]\n",
    "actors_raw = data_raw['cast']\n",
    "actors = []\n",
    "for line in actors_raw:\n",
    "    actors_in_line = line.split('|')\n",
    "    for actor in actors_in_line:\n",
    "        if actor not in actors:        \n",
    "            actors.append(actor)\n",
    "            \n",
    "actors_films = {}\n",
    "\n",
    "for actor in actors:    \n",
    "    films_number = data_raw[data_raw.cast.str.contains(actor, na=False)].original_title.count()\n",
    "    actors_films[actor] = films_number\n",
    "            \n",
    "print(max(actors_films.items(), key=operator.itemgetter(1))[0])\n",
    "answer_ls.append(3)"
   ]
  },
  {
   "cell_type": "markdown",
   "metadata": {},
   "source": [
    "# 19. В фильмах какого жанра больше всего снимался Nicolas Cage?  \n",
    "Варианты ответа:\n",
    "1. Drama\n",
    "2. Action\n",
    "3. Thriller\n",
    "4. Adventure\n",
    "5. Crime"
   ]
  },
  {
   "cell_type": "code",
   "execution_count": 25,
   "metadata": {},
   "outputs": [
    {
     "name": "stdout",
     "output_type": "stream",
     "text": [
      "Action\n"
     ]
    }
   ],
   "source": [
    "data_raw = data[(data.cast.str.contains('Nicolas Cage', na=False))]\n",
    "genres_raw = data_raw['genres']\n",
    "genres = []\n",
    "for line in genres_raw:\n",
    "    genres_in_line = line.split('|')\n",
    "    for genre in genres_in_line:\n",
    "        if genre not in genres:        \n",
    "            genres.append(genre)\n",
    "            \n",
    "genre_films = {}\n",
    "\n",
    "for genre in genres:    \n",
    "    films_number = data_raw[data_raw.genres.str.contains(genre, na=False)].original_title.count()\n",
    "    genre_films[genre] = films_number\n",
    "    \n",
    "print(max(genre_films.items(), key=operator.itemgetter(1))[0])\n",
    "answer_ls.append(2)"
   ]
  },
  {
   "cell_type": "markdown",
   "metadata": {},
   "source": [
    "# 20. Какая студия сняла больше всего фильмов?\n",
    "Варианты ответа:\n",
    "1. Universal Pictures (Universal)\n",
    "2. Paramount Pictures\n",
    "3. Columbia Pictures\n",
    "4. Warner Bros\n",
    "5. Twentieth Century Fox Film Corporation"
   ]
  },
  {
   "cell_type": "code",
   "execution_count": 26,
   "metadata": {},
   "outputs": [
    {
     "name": "stderr",
     "output_type": "stream",
     "text": [
      "D:\\dev\\anaconda3\\lib\\site-packages\\pandas\\core\\strings.py:1952: UserWarning: This pattern has match groups. To actually get the groups, use str.extract.\n",
      "  return func(self, *args, **kwargs)\n"
     ]
    },
    {
     "name": "stdout",
     "output_type": "stream",
     "text": [
      "Universal\n"
     ]
    }
   ],
   "source": [
    "companies_raw = data['production_companies']\n",
    "companies = []\n",
    "for line in companies_raw:\n",
    "    companies_in_line = line.split('|')\n",
    "    for company in companies_in_line:\n",
    "        if company not in companies:        \n",
    "            companies.append(company)\n",
    "\n",
    "companies_films = {}\n",
    "\n",
    "for company in companies:\n",
    "    films_number = data[data.production_companies.str.contains(company, na=False)].original_title.count()\n",
    "    companies_films[company] = films_number\n",
    "\n",
    "print(max(companies_films.items(), key=operator.itemgetter(1))[0])\n",
    "answer_ls.append(1)"
   ]
  },
  {
   "cell_type": "markdown",
   "metadata": {},
   "source": [
    "# 21. Какая студия сняла больше всего фильмов в 2015 году?\n",
    "Варианты ответа:\n",
    "1. Universal Pictures\n",
    "2. Paramount Pictures\n",
    "3. Columbia Pictures\n",
    "4. Warner Bros\n",
    "5. Twentieth Century Fox Film Corporation"
   ]
  },
  {
   "cell_type": "code",
   "execution_count": 27,
   "metadata": {},
   "outputs": [
    {
     "name": "stdout",
     "output_type": "stream",
     "text": [
      "Warner Bros.\n"
     ]
    }
   ],
   "source": [
    "data_raw = data[data.release_year == 2015]\n",
    "companies_raw = data_raw['production_companies']\n",
    "companies = []\n",
    "for line in companies_raw:\n",
    "    companies_in_line = line.split('|')\n",
    "    for company in companies_in_line:\n",
    "        if company not in companies:        \n",
    "            companies.append(company)\n",
    "\n",
    "companies_films = {}\n",
    "\n",
    "for company in companies:\n",
    "    films_number = data[data.production_companies.str.contains(company, na=False)].original_title.count()\n",
    "    companies_films[company] = films_number\n",
    "\n",
    "print(max(companies_films.items(), key=operator.itemgetter(1))[0])\n",
    "answer_ls.append(4)"
   ]
  },
  {
   "cell_type": "markdown",
   "metadata": {},
   "source": [
    "# 22. Какая студия заработала больше всего денег в жанре комедий за все время?\n",
    "Варианты ответа:\n",
    "1. Warner Bros\n",
    "2. Universal Pictures (Universal)\n",
    "3. Columbia Pictures\n",
    "4. Paramount Pictures\n",
    "5. Walt Disney"
   ]
  },
  {
   "cell_type": "code",
   "execution_count": 28,
   "metadata": {},
   "outputs": [
    {
     "name": "stdout",
     "output_type": "stream",
     "text": [
      "Universal\n"
     ]
    }
   ],
   "source": [
    "data_raw = data[(data.genres.str.contains('Comedy', na=False))]\n",
    "companies_raw = data_raw['production_companies']\n",
    "companies = []\n",
    "for line in companies_raw:\n",
    "    companies_in_line = line.split('|')\n",
    "    for company in companies_in_line:\n",
    "        if company not in companies:        \n",
    "            companies.append(company)\n",
    "\n",
    "companies_income = {}            \n",
    "for company in companies:\n",
    "    data_company = data_raw[data_raw.production_companies.str.contains(company, na=False)]\n",
    "    company_income = data_company['net_income'].sum()\n",
    "    companies_income[company] = company_income\n",
    "\n",
    "print(max(companies_income.items(), key=operator.itemgetter(1))[0])\n",
    "\n",
    "answer_ls.append(2)"
   ]
  },
  {
   "cell_type": "markdown",
   "metadata": {},
   "source": [
    "# 23. Какая студия заработала больше всего денег в 2012 году?\n",
    "Варианты ответа:\n",
    "1. Universal Pictures (Universal)\n",
    "2. Warner Bros\n",
    "3. Columbia Pictures\n",
    "4. Paramount Pictures\n",
    "5. Lucasfilm"
   ]
  },
  {
   "cell_type": "code",
   "execution_count": 29,
   "metadata": {},
   "outputs": [
    {
     "name": "stdout",
     "output_type": "stream",
     "text": [
      "Columbia Pictures\n"
     ]
    }
   ],
   "source": [
    "data_raw = data[data.release_year == 2012]\n",
    "companies_raw = data_raw['production_companies']\n",
    "companies = []\n",
    "for line in companies_raw:\n",
    "    companies_in_line = line.split('|')\n",
    "    for company in companies_in_line:\n",
    "        if company not in companies:        \n",
    "            companies.append(company)\n",
    "\n",
    "companies_income = {}            \n",
    "for company in companies:\n",
    "    data_company = data_raw[data_raw.production_companies.str.contains(company, na=False)]\n",
    "    company_income = data_company['net_income'].sum()\n",
    "    companies_income[company] = company_income\n",
    "\n",
    "print(max(companies_income.items(), key=operator.itemgetter(1))[0])\n",
    "answer_ls.append(3)"
   ]
  },
  {
   "cell_type": "markdown",
   "metadata": {},
   "source": [
    "# 24. Самый убыточный фильм от Paramount Pictures\n",
    "Варианты ответа:\n",
    "\n",
    "1. K-19: The Widowmaker tt0267626\n",
    "2. Next tt0435705\n",
    "3. Twisted tt0315297\n",
    "4. The Love Guru tt0811138\n",
    "5. The Fighter tt0964517"
   ]
  },
  {
   "cell_type": "code",
   "execution_count": 30,
   "metadata": {},
   "outputs": [
    {
     "data": {
      "text/plain": [
       "926    K-19: The Widowmaker\n",
       "Name: original_title, dtype: object"
      ]
     },
     "metadata": {},
     "output_type": "display_data"
    }
   ],
   "source": [
    "data_raw = data[(data.production_companies.str.contains('Paramount Pictures', na=False))]\n",
    "display(data_raw.loc[data_raw.net_income == data_raw.net_income.min()].original_title)\n",
    "            \n",
    "answer_ls.append(1)"
   ]
  },
  {
   "cell_type": "markdown",
   "metadata": {},
   "source": [
    "# 25. Какой Самый прибыльный год (заработали больше всего)?\n",
    "Варианты ответа:\n",
    "1. 2014\n",
    "2. 2008\n",
    "3. 2012\n",
    "4. 2002\n",
    "5. 2015"
   ]
  },
  {
   "cell_type": "code",
   "execution_count": 31,
   "metadata": {},
   "outputs": [
    {
     "data": {
      "text/plain": [
       "release_year\n",
       "2015    18668572378\n",
       "2014    16397812953\n",
       "2012    16077001687\n",
       "2013    15243179791\n",
       "2011    14730241341\n",
       "2009    13423744372\n",
       "2010    13117292530\n",
       "2008    11663881990\n",
       "2007    11565911801\n",
       "2004     9634180720\n",
       "2003     9228823312\n",
       "2002     9002361487\n",
       "2005     8981925558\n",
       "2006     8691077320\n",
       "2001     7950614865\n",
       "2000     6101399805\n",
       "Name: net_income, dtype: int64"
      ]
     },
     "metadata": {},
     "output_type": "display_data"
    }
   ],
   "source": [
    "display(data.groupby(['release_year'])['net_income'].sum().sort_values(ascending=False))\n",
    "            \n",
    "answer_ls.append(5)"
   ]
  },
  {
   "cell_type": "markdown",
   "metadata": {},
   "source": [
    "# 26. Какой Самый прибыльный год для студии Warner Bros?\n",
    "Варианты ответа:\n",
    "1. 2014\n",
    "2. 2008\n",
    "3. 2012\n",
    "4. 2010\n",
    "5. 2015"
   ]
  },
  {
   "cell_type": "code",
   "execution_count": 32,
   "metadata": {},
   "outputs": [
    {
     "data": {
      "text/plain": [
       "release_year\n",
       "2014    2295464519\n",
       "2007    2201675217\n",
       "2008    2134595031\n",
       "2010    1974712985\n",
       "2011    1871393682\n",
       "2003    1855493377\n",
       "2009    1822454136\n",
       "2013    1636453400\n",
       "2004    1631933725\n",
       "2005    1551980298\n",
       "2001    1343545668\n",
       "2012    1258020056\n",
       "2002    1022709901\n",
       "2015     870368348\n",
       "2006     620170743\n",
       "2000     452631386\n",
       "Name: net_income, dtype: int64"
      ]
     },
     "metadata": {},
     "output_type": "display_data"
    }
   ],
   "source": [
    "data_raw = data[(data.production_companies.str.contains('Warner Bros', na=False))]\n",
    "display(data_raw.groupby(['release_year'])['net_income'].sum().sort_values(ascending=False))\n",
    "answer_ls.append(1)"
   ]
  },
  {
   "cell_type": "markdown",
   "metadata": {},
   "source": [
    "# 27. В каком месяце за все годы суммарно вышло больше всего фильмов?\n",
    "Варианты ответа:\n",
    "1. Январь\n",
    "2. Июнь\n",
    "3. Декабрь\n",
    "4. Сентябрь\n",
    "5. Май"
   ]
  },
  {
   "cell_type": "code",
   "execution_count": 33,
   "metadata": {},
   "outputs": [
    {
     "data": {
      "text/plain": [
       "9     227\n",
       "12    191\n",
       "10    186\n",
       "8     161\n",
       "3     156\n",
       "4     149\n",
       "6     147\n",
       "11    146\n",
       "7     142\n",
       "5     140\n",
       "2     135\n",
       "1     110\n",
       "Name: release_month, dtype: int64"
      ]
     },
     "metadata": {},
     "output_type": "display_data"
    }
   ],
   "source": [
    "def get_month(date):\n",
    "    m = date.split('/')[0]\n",
    "    return int(m)\n",
    "\n",
    "data['release_month'] = data.release_date.apply(get_month)\n",
    "display(data['release_month'].value_counts())\n",
    "\n",
    "answer_ls.append(4)"
   ]
  },
  {
   "cell_type": "markdown",
   "metadata": {},
   "source": [
    "# 28. Сколько суммарно вышло фильмов летом? (за июнь, июль, август)\n",
    "Варианты ответа:\n",
    "1. 345\n",
    "2. 450\n",
    "3. 478\n",
    "4. 523\n",
    "5. 381"
   ]
  },
  {
   "cell_type": "code",
   "execution_count": 34,
   "metadata": {},
   "outputs": [
    {
     "name": "stdout",
     "output_type": "stream",
     "text": [
      "450\n"
     ]
    }
   ],
   "source": [
    "data_raw = data.query('release_month in [6, 7, 8]')\n",
    "print(data_raw.original_title.count())\n",
    "\n",
    "answer_ls.append(2)"
   ]
  },
  {
   "cell_type": "markdown",
   "metadata": {},
   "source": [
    "# 29. Какой режисер выпускает (суммарно по годам) больше всего фильмов зимой?\n",
    "Варианты ответов:\n",
    "1. Steven Soderbergh\n",
    "2. Christopher Nolan\n",
    "3. Clint Eastwood\n",
    "4. Ridley Scott\n",
    "5. Peter Jackson"
   ]
  },
  {
   "cell_type": "code",
   "execution_count": 35,
   "metadata": {},
   "outputs": [
    {
     "data": {
      "text/plain": [
       "Peter Jackson              7\n",
       "Clint Eastwood             6\n",
       "Steven Soderbergh          6\n",
       "Adam Shankman              4\n",
       "Nancy Meyers               4\n",
       "                          ..\n",
       "Jesse Dylan                1\n",
       "Robin Budd|Donovan Cook    1\n",
       "Tom Shadyac                1\n",
       "Steve Pink                 1\n",
       "Stephen Kay                1\n",
       "Name: director, Length: 333, dtype: int64"
      ]
     },
     "metadata": {},
     "output_type": "display_data"
    }
   ],
   "source": [
    "data_raw = data.query('release_month in [1, 2, 12]')\n",
    "display(data_raw['director'].value_counts())\n",
    "\n",
    "                      \n",
    "answer_ls.append(5)"
   ]
  },
  {
   "cell_type": "markdown",
   "metadata": {},
   "source": [
    "# 30. Какой месяц чаще всего по годам самый прибыльный?\n",
    "Варианты ответа:\n",
    "1. Январь\n",
    "2. Июнь\n",
    "3. Декабрь\n",
    "4. Сентябрь\n",
    "5. Май"
   ]
  },
  {
   "cell_type": "code",
   "execution_count": 65,
   "metadata": {},
   "outputs": [
    {
     "name": "stdout",
     "output_type": "stream",
     "text": [
      "release_month\n",
      "6    3757679861\n",
      "Name: 2015, dtype: int64\n",
      "release_month\n",
      "5    2279978281\n",
      "Name: 2014, dtype: int64\n",
      "release_month\n",
      "12    3423239738\n",
      "Name: 2009, dtype: int64\n",
      "release_month\n",
      "6    2449561498\n",
      "Name: 2010, dtype: int64\n",
      "release_month\n",
      "12    1703868124\n",
      "Name: 2001, dtype: int64\n",
      "release_month\n",
      "6    1943384763\n",
      "Name: 2008, dtype: int64\n",
      "release_month\n",
      "7    2331661017\n",
      "Name: 2011, dtype: int64\n",
      "release_month\n",
      "12    1848074177\n",
      "Name: 2002, dtype: int64\n",
      "release_month\n",
      "6    2965481705\n",
      "Name: 2012, dtype: int64\n",
      "release_month\n",
      "5    2000292657\n",
      "Name: 2003, dtype: int64\n",
      "release_month\n",
      "6    2411922008\n",
      "Name: 2013, dtype: int64\n",
      "release_month\n",
      "5    1575566228\n",
      "Name: 2005, dtype: int64\n",
      "release_month\n",
      "6    2098059770\n",
      "Name: 2006, dtype: int64\n",
      "release_month\n",
      "5    2412578839\n",
      "Name: 2004, dtype: int64\n",
      "release_month\n",
      "6    2764341802\n",
      "Name: 2007, dtype: int64\n",
      "release_month\n",
      "12    1411487999\n",
      "Name: 2000, dtype: int64\n"
     ]
    }
   ],
   "source": [
    "years = data['release_year'].unique()\n",
    "\n",
    "data2 = data.pivot_table(columns = 'release_year', index = 'release_month', values = 'net_income', aggfunc = 'sum')\n",
    "\n",
    "for year in years:\n",
    "    print(data2[year].sort_values(ascending=False).head(1))\n",
    "\n",
    "answer_ls.append(2)"
   ]
  },
  {
   "cell_type": "markdown",
   "metadata": {},
   "source": [
    "# 31. Названия фильмов какой студии в среднем самые длинные по количеству символов?\n",
    "Варианты ответа:\n",
    "1. Universal Pictures (Universal)\n",
    "2. Warner Bros\n",
    "3. Jim Henson Company, The\n",
    "4. Paramount Pictures\n",
    "5. Four By Two Productions"
   ]
  },
  {
   "cell_type": "code",
   "execution_count": 73,
   "metadata": {},
   "outputs": [
    {
     "name": "stdout",
     "output_type": "stream",
     "text": [
      "Four By Two Productions\n"
     ]
    }
   ],
   "source": [
    "def get_title_length(title):\n",
    "    length = len(title)\n",
    "    return length\n",
    "\n",
    "data['release_month'] = data.release_date.apply(get_month)\n",
    "companies_raw = data['production_companies']\n",
    "companies = []\n",
    "for line in companies_raw:\n",
    "    companies_in_line = line.split('|')\n",
    "    for company in companies_in_line:\n",
    "        if company not in companies:        \n",
    "            companies.append(company)\n",
    "\n",
    "data_raw = data\n",
    "\n",
    "data_raw['title_length'] = data_raw.original_title.apply(get_title_length)\n",
    "\n",
    "companies_title_length = {}            \n",
    "for company in companies:\n",
    "    data_company = data[data.production_companies.str.contains(company, na=False)]\n",
    "    company_title_length = data_company['title_length'].mean()\n",
    "    companies_title_length[company] = company_title_length\n",
    "\n",
    "print(max(companies_title_length.items(), key=operator.itemgetter(1))[0])\n",
    "\n",
    "answer_ls.append(5)"
   ]
  },
  {
   "cell_type": "markdown",
   "metadata": {},
   "source": [
    "# 32. Названия фильмов какой студии в среднем самые длинные по количеству слов?\n",
    "Варианты ответа:\n",
    "1. Universal Pictures (Universal)\n",
    "2. Warner Bros\n",
    "3. Jim Henson Company, The\n",
    "4. Paramount Pictures\n",
    "5. Four By Two Productions"
   ]
  },
  {
   "cell_type": "code",
   "execution_count": 76,
   "metadata": {},
   "outputs": [
    {
     "name": "stdout",
     "output_type": "stream",
     "text": [
      "Four By Two Productions\n"
     ]
    }
   ],
   "source": [
    "def get_title_length(title):\n",
    "    length = len(title.split())\n",
    "    return length\n",
    "\n",
    "data['release_month'] = data.release_date.apply(get_month)\n",
    "companies_raw = data['production_companies']\n",
    "companies = []\n",
    "for line in companies_raw:\n",
    "    companies_in_line = line.split('|')\n",
    "    for company in companies_in_line:\n",
    "        if company not in companies:        \n",
    "            companies.append(company)\n",
    "\n",
    "data_raw = data\n",
    "\n",
    "data_raw['title_length'] = data_raw.original_title.apply(get_title_length)\n",
    "\n",
    "companies_title_length = {}            \n",
    "for company in companies:\n",
    "    data_company = data[data.production_companies.str.contains(company, na=False)]\n",
    "    company_title_length = data_company['title_length'].mean()\n",
    "    companies_title_length[company] = company_title_length\n",
    "\n",
    "print(max(companies_title_length.items(), key=operator.itemgetter(1))[0])\n",
    "\n",
    "answer_ls.append(5)"
   ]
  },
  {
   "cell_type": "markdown",
   "metadata": {},
   "source": [
    "# 33. Сколько разных слов используется в названиях фильмов?(без учета регистра)\n",
    "Варианты ответа:\n",
    "1. 6540\n",
    "2. 1002\n",
    "3. 2461\n",
    "4. 28304\n",
    "5. 3432"
   ]
  },
  {
   "cell_type": "code",
   "execution_count": 88,
   "metadata": {},
   "outputs": [
    {
     "name": "stdout",
     "output_type": "stream",
     "text": [
      "2461\n"
     ]
    }
   ],
   "source": [
    "titles = data['original_title'].unique()\n",
    "titles_words = []\n",
    "\n",
    "\n",
    "for title in titles:\n",
    "    words = title.lower().split()\n",
    "    for word in words:\n",
    "        if word not in titles_words:\n",
    "            titles_words.append(word)\n",
    " \n",
    "titles_words.sort()\n",
    "\n",
    "print(len(titles_words))\n",
    "\n",
    "answer_ls.append(3)"
   ]
  },
  {
   "cell_type": "markdown",
   "metadata": {},
   "source": [
    "# 34. Какие фильмы входят в 1 процент лучших по рейтингу?\n",
    "\n",
    "Варианты ответа:\n",
    "\n",
    "1. Inside Out, Gone Girl, 12 Years a Slave\n",
    "2. BloodRayne, The Adventures of Rocky & Bullwinkle\n",
    "3. The Lord of the Rings: The Return of the King\n",
    "4. 300, Lucky Number Slevin"
   ]
  },
  {
   "cell_type": "code",
   "execution_count": 112,
   "metadata": {},
   "outputs": [
    {
     "data": {
      "text/plain": [
       "9       8.0\n",
       "128     7.9\n",
       "1192    7.9\n",
       "Name: vote_average, dtype: float64"
      ]
     },
     "metadata": {},
     "output_type": "display_data"
    }
   ],
   "source": [
    "r = (data.vote_average.value_counts(normalize=True, bins=16) *100, 0)\n",
    "\n",
    "display(data.loc[data['original_title'].isin(['Inside Out','Gone Girl','12 Years a Slave'])]['vote_average'])\n",
    "#display(data.loc[data['original_title'].isin(['BloodRayne','The Adventures of Rocky & Bullwinkle'])]['vote_average'])\n",
    "#display(data.loc[data['original_title'].isin(['300','Lucky Number Slevin'])]['vote_average'])\n",
    "#display(data.loc[data['original_title'].isin(['The Lord of the Rings: The Return of the King', 'Upside Down'])]['vote_average'])\n",
    "#display(r)\n",
    "\n",
    "answer_ls.append(1)"
   ]
  },
  {
   "cell_type": "markdown",
   "metadata": {},
   "source": [
    "# 35. Какие актеры чаще всего снимаются в одном фильме вместе\n",
    "\n",
    "Варианты ответа:\n",
    "\n",
    "1. Johnny Depp & Helena Bonham Carter\n",
    "2. Hugh Jackman & Ian McKellen\n",
    "3. Vin Diesel & Paul Walker\n",
    "4. Adam Sandler & Kevin James\n",
    "5. Daniel Radcliffe & Rupert Grint"
   ]
  },
  {
   "cell_type": "code",
   "execution_count": 120,
   "metadata": {},
   "outputs": [
    {
     "name": "stdout",
     "output_type": "stream",
     "text": [
      "Johnny Depp & Helena Bonham Carter - 6\n",
      "Hugh Jackman & Ian McKellen - 5\n",
      "Vin Diesel & Paul Walker - 5\n",
      "Adam Sandler & Kevin James - 5\n",
      "Daniel Radcliffe & Rupert Grint - 8\n"
     ]
    }
   ],
   "source": [
    "print('Johnny Depp & Helena Bonham Carter - ' + str(data[(data.cast.str.contains('Johnny Depp', na=False)) & (data.cast.str.contains('Helena Bonham Carter', na=False))].original_title.count()))\n",
    "print('Hugh Jackman & Ian McKellen - ' + str(data[(data.cast.str.contains('Hugh Jackman', na=False)) & (data.cast.str.contains('Ian McKellen', na=False))].original_title.count()))\n",
    "print('Vin Diesel & Paul Walker - ' + str(data[(data.cast.str.contains('Vin Diesel', na=False)) & (data.cast.str.contains('Paul Walker', na=False))].original_title.count()))\n",
    "print('Adam Sandler & Kevin James - ' + str(data[(data.cast.str.contains('Adam Sandler', na=False)) & (data.cast.str.contains('Kevin James', na=False))].original_title.count()))\n",
    "print('Daniel Radcliffe & Rupert Grint - ' + str(data[(data.cast.str.contains('Daniel Radcliffe', na=False)) & (data.cast.str.contains('Rupert Grint', na=False))].original_title.count()))\n",
    "\n",
    "answer_ls.append(5)"
   ]
  },
  {
   "cell_type": "markdown",
   "metadata": {},
   "source": [
    "# 36. У какого из режиссеров выше вероятность выпустить фильм в прибыли? (5 баллов)101\n",
    "Варианты ответа:\n",
    "1. Quentin Tarantino\n",
    "2. Steven Soderbergh\n",
    "3. Robert Rodriguez\n",
    "4. Christopher Nolan\n",
    "5. Clint Eastwood"
   ]
  },
  {
   "cell_type": "code",
   "execution_count": 132,
   "metadata": {},
   "outputs": [
    {
     "data": {
      "text/plain": [
       "{'Quentin Tarantino': 0.8571428571428571,\n",
       " 'Steven Soderbergh': 0.7692307692307693,\n",
       " 'Robert Rodriguez': 0.7272727272727273,\n",
       " 'Christopher Nolan': 1.0,\n",
       " 'Clint Eastwood': 0.8333333333333334}"
      ]
     },
     "metadata": {},
     "output_type": "display_data"
    }
   ],
   "source": [
    "directors = [\"Quentin Tarantino\", \"Steven Soderbergh\",\"Robert Rodriguez\", \"Christopher Nolan\", \"Clint Eastwood\"]\n",
    "data_raw = data.query('director in [\"Quentin Tarantino\", \"Steven Soderbergh\",\"Robert Rodriguez\", \"Christopher Nolan\", \"Clint Eastwood\"]')\n",
    "\n",
    "directors_profitability = {}\n",
    "\n",
    "for director in directors:   \n",
    "    profitability = data[(data.director.str.contains(director, na=False)) & (data.net_income > 0)].original_title.count() / data[data.director.str.contains(director, na=False)].original_title.count()\n",
    "    directors_profitability[director] = profitability\n",
    "    \n",
    "display(directors_profitability)\n",
    "\n",
    "answer_ls.append(4)"
   ]
  },
  {
   "cell_type": "markdown",
   "metadata": {},
   "source": [
    "# Submission"
   ]
  },
  {
   "cell_type": "code",
   "execution_count": 98,
   "metadata": {},
   "outputs": [
    {
     "data": {
      "text/plain": [
       "36"
      ]
     },
     "execution_count": 98,
     "metadata": {},
     "output_type": "execute_result"
    }
   ],
   "source": [
    "len(answer_ls)"
   ]
  },
  {
   "cell_type": "code",
   "execution_count": 99,
   "metadata": {},
   "outputs": [
    {
     "data": {
      "text/html": [
       "<div>\n",
       "<style scoped>\n",
       "    .dataframe tbody tr th:only-of-type {\n",
       "        vertical-align: middle;\n",
       "    }\n",
       "\n",
       "    .dataframe tbody tr th {\n",
       "        vertical-align: top;\n",
       "    }\n",
       "\n",
       "    .dataframe thead th {\n",
       "        text-align: right;\n",
       "    }\n",
       "</style>\n",
       "<table border=\"1\" class=\"dataframe\">\n",
       "  <thead>\n",
       "    <tr style=\"text-align: right;\">\n",
       "      <th></th>\n",
       "      <th>Id</th>\n",
       "      <th>Answer</th>\n",
       "    </tr>\n",
       "  </thead>\n",
       "  <tbody>\n",
       "    <tr>\n",
       "      <th>0</th>\n",
       "      <td>1</td>\n",
       "      <td>4</td>\n",
       "    </tr>\n",
       "    <tr>\n",
       "      <th>1</th>\n",
       "      <td>2</td>\n",
       "      <td>2</td>\n",
       "    </tr>\n",
       "    <tr>\n",
       "      <th>2</th>\n",
       "      <td>3</td>\n",
       "      <td>1</td>\n",
       "    </tr>\n",
       "    <tr>\n",
       "      <th>3</th>\n",
       "      <td>4</td>\n",
       "      <td>1</td>\n",
       "    </tr>\n",
       "    <tr>\n",
       "      <th>4</th>\n",
       "      <td>5</td>\n",
       "      <td>1</td>\n",
       "    </tr>\n",
       "    <tr>\n",
       "      <th>5</th>\n",
       "      <td>6</td>\n",
       "      <td>1</td>\n",
       "    </tr>\n",
       "    <tr>\n",
       "      <th>6</th>\n",
       "      <td>7</td>\n",
       "      <td>1</td>\n",
       "    </tr>\n",
       "    <tr>\n",
       "      <th>7</th>\n",
       "      <td>8</td>\n",
       "      <td>1</td>\n",
       "    </tr>\n",
       "    <tr>\n",
       "      <th>8</th>\n",
       "      <td>9</td>\n",
       "      <td>1</td>\n",
       "    </tr>\n",
       "    <tr>\n",
       "      <th>9</th>\n",
       "      <td>10</td>\n",
       "      <td>1</td>\n",
       "    </tr>\n",
       "    <tr>\n",
       "      <th>10</th>\n",
       "      <td>11</td>\n",
       "      <td>1</td>\n",
       "    </tr>\n",
       "    <tr>\n",
       "      <th>11</th>\n",
       "      <td>12</td>\n",
       "      <td>1</td>\n",
       "    </tr>\n",
       "    <tr>\n",
       "      <th>12</th>\n",
       "      <td>13</td>\n",
       "      <td>1</td>\n",
       "    </tr>\n",
       "    <tr>\n",
       "      <th>13</th>\n",
       "      <td>14</td>\n",
       "      <td>1</td>\n",
       "    </tr>\n",
       "    <tr>\n",
       "      <th>14</th>\n",
       "      <td>15</td>\n",
       "      <td>1</td>\n",
       "    </tr>\n",
       "    <tr>\n",
       "      <th>15</th>\n",
       "      <td>16</td>\n",
       "      <td>1</td>\n",
       "    </tr>\n",
       "    <tr>\n",
       "      <th>16</th>\n",
       "      <td>17</td>\n",
       "      <td>1</td>\n",
       "    </tr>\n",
       "    <tr>\n",
       "      <th>17</th>\n",
       "      <td>18</td>\n",
       "      <td>1</td>\n",
       "    </tr>\n",
       "    <tr>\n",
       "      <th>18</th>\n",
       "      <td>19</td>\n",
       "      <td>1</td>\n",
       "    </tr>\n",
       "    <tr>\n",
       "      <th>19</th>\n",
       "      <td>20</td>\n",
       "      <td>1</td>\n",
       "    </tr>\n",
       "    <tr>\n",
       "      <th>20</th>\n",
       "      <td>21</td>\n",
       "      <td>1</td>\n",
       "    </tr>\n",
       "    <tr>\n",
       "      <th>21</th>\n",
       "      <td>22</td>\n",
       "      <td>1</td>\n",
       "    </tr>\n",
       "    <tr>\n",
       "      <th>22</th>\n",
       "      <td>23</td>\n",
       "      <td>1</td>\n",
       "    </tr>\n",
       "    <tr>\n",
       "      <th>23</th>\n",
       "      <td>24</td>\n",
       "      <td>1</td>\n",
       "    </tr>\n",
       "    <tr>\n",
       "      <th>24</th>\n",
       "      <td>25</td>\n",
       "      <td>1</td>\n",
       "    </tr>\n",
       "    <tr>\n",
       "      <th>25</th>\n",
       "      <td>26</td>\n",
       "      <td>1</td>\n",
       "    </tr>\n",
       "    <tr>\n",
       "      <th>26</th>\n",
       "      <td>27</td>\n",
       "      <td>1</td>\n",
       "    </tr>\n",
       "    <tr>\n",
       "      <th>27</th>\n",
       "      <td>28</td>\n",
       "      <td>1</td>\n",
       "    </tr>\n",
       "    <tr>\n",
       "      <th>28</th>\n",
       "      <td>29</td>\n",
       "      <td>1</td>\n",
       "    </tr>\n",
       "    <tr>\n",
       "      <th>29</th>\n",
       "      <td>30</td>\n",
       "      <td>1</td>\n",
       "    </tr>\n",
       "    <tr>\n",
       "      <th>30</th>\n",
       "      <td>31</td>\n",
       "      <td>1</td>\n",
       "    </tr>\n",
       "    <tr>\n",
       "      <th>31</th>\n",
       "      <td>32</td>\n",
       "      <td>1</td>\n",
       "    </tr>\n",
       "    <tr>\n",
       "      <th>32</th>\n",
       "      <td>33</td>\n",
       "      <td>1</td>\n",
       "    </tr>\n",
       "    <tr>\n",
       "      <th>33</th>\n",
       "      <td>34</td>\n",
       "      <td>1</td>\n",
       "    </tr>\n",
       "    <tr>\n",
       "      <th>34</th>\n",
       "      <td>35</td>\n",
       "      <td>1</td>\n",
       "    </tr>\n",
       "    <tr>\n",
       "      <th>35</th>\n",
       "      <td>36</td>\n",
       "      <td>1</td>\n",
       "    </tr>\n",
       "  </tbody>\n",
       "</table>\n",
       "</div>"
      ],
      "text/plain": [
       "    Id  Answer\n",
       "0    1       4\n",
       "1    2       2\n",
       "2    3       1\n",
       "3    4       1\n",
       "4    5       1\n",
       "5    6       1\n",
       "6    7       1\n",
       "7    8       1\n",
       "8    9       1\n",
       "9   10       1\n",
       "10  11       1\n",
       "11  12       1\n",
       "12  13       1\n",
       "13  14       1\n",
       "14  15       1\n",
       "15  16       1\n",
       "16  17       1\n",
       "17  18       1\n",
       "18  19       1\n",
       "19  20       1\n",
       "20  21       1\n",
       "21  22       1\n",
       "22  23       1\n",
       "23  24       1\n",
       "24  25       1\n",
       "25  26       1\n",
       "26  27       1\n",
       "27  28       1\n",
       "28  29       1\n",
       "29  30       1\n",
       "30  31       1\n",
       "31  32       1\n",
       "32  33       1\n",
       "33  34       1\n",
       "34  35       1\n",
       "35  36       1"
      ]
     },
     "execution_count": 99,
     "metadata": {},
     "output_type": "execute_result"
    }
   ],
   "source": [
    "pd.DataFrame({'Id':range(1,len(answer_ls)+1), 'Answer':answer_ls}, columns=['Id', 'Answer'])"
   ]
  },
  {
   "cell_type": "code",
   "execution_count": null,
   "metadata": {},
   "outputs": [],
   "source": []
  }
 ],
 "metadata": {
  "kernelspec": {
   "display_name": "Python 3",
   "language": "python",
   "name": "python3"
  },
  "language_info": {
   "codemirror_mode": {
    "name": "ipython",
    "version": 3
   },
   "file_extension": ".py",
   "mimetype": "text/x-python",
   "name": "python",
   "nbconvert_exporter": "python",
   "pygments_lexer": "ipython3",
   "version": "3.7.6"
  }
 },
 "nbformat": 4,
 "nbformat_minor": 4
}
